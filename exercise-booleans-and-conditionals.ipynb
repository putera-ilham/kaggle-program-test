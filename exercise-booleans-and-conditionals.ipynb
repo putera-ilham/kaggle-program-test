{
 "cells": [
  {
   "cell_type": "markdown",
   "id": "3071b46b",
   "metadata": {
    "papermill": {
     "duration": 0.008255,
     "end_time": "2025-09-16T10:30:27.147254",
     "exception": false,
     "start_time": "2025-09-16T10:30:27.138999",
     "status": "completed"
    },
    "tags": []
   },
   "source": [
    "**This notebook is an exercise in the [Python](https://www.kaggle.com/learn/python) course.  You can reference the tutorial at [this link](https://www.kaggle.com/colinmorris/booleans-and-conditionals).**\n",
    "\n",
    "---\n"
   ]
  },
  {
   "cell_type": "markdown",
   "id": "70f8a0cb",
   "metadata": {
    "papermill": {
     "duration": 0.006435,
     "end_time": "2025-09-16T10:30:27.160501",
     "exception": false,
     "start_time": "2025-09-16T10:30:27.154066",
     "status": "completed"
    },
    "tags": []
   },
   "source": [
    "In this exercise, you'll put to work what you have learned about booleans and conditionals.\n",
    "\n",
    "To get started, **run the setup code below** before writing your own code (and if you leave this notebook and come back later, don't forget to run the setup code again)."
   ]
  },
  {
   "cell_type": "code",
   "execution_count": 1,
   "id": "f162b1a3",
   "metadata": {
    "execution": {
     "iopub.execute_input": "2025-09-16T10:30:27.175319Z",
     "iopub.status.busy": "2025-09-16T10:30:27.174867Z",
     "iopub.status.idle": "2025-09-16T10:30:29.637151Z",
     "shell.execute_reply": "2025-09-16T10:30:29.635587Z"
    },
    "papermill": {
     "duration": 2.471798,
     "end_time": "2025-09-16T10:30:29.639032",
     "exception": false,
     "start_time": "2025-09-16T10:30:27.167234",
     "status": "completed"
    },
    "tags": []
   },
   "outputs": [
    {
     "name": "stdout",
     "output_type": "stream",
     "text": [
      "Setup complete.\n"
     ]
    }
   ],
   "source": [
    "from learntools.core import binder; binder.bind(globals())\n",
    "from learntools.python.ex3 import *\n",
    "print('Setup complete.')"
   ]
  },
  {
   "cell_type": "markdown",
   "id": "789f958c",
   "metadata": {
    "papermill": {
     "duration": 0.007807,
     "end_time": "2025-09-16T10:30:29.653802",
     "exception": false,
     "start_time": "2025-09-16T10:30:29.645995",
     "status": "completed"
    },
    "tags": []
   },
   "source": [
    "# 1.\n",
    "\n",
    "Many programming languages have [`sign`](https://en.wikipedia.org/wiki/Sign_function) available as a built-in function. Python doesn't, but we can define our own!\n",
    "\n",
    "In the cell below, define a function called `sign` which takes a numerical argument and returns -1 if it's negative, 1 if it's positive, and 0 if it's 0."
   ]
  },
  {
   "cell_type": "code",
   "execution_count": 2,
   "id": "6d4fe8e8",
   "metadata": {
    "execution": {
     "iopub.execute_input": "2025-09-16T10:30:29.669901Z",
     "iopub.status.busy": "2025-09-16T10:30:29.669267Z",
     "iopub.status.idle": "2025-09-16T10:30:29.679919Z",
     "shell.execute_reply": "2025-09-16T10:30:29.678763Z"
    },
    "papermill": {
     "duration": 0.020855,
     "end_time": "2025-09-16T10:30:29.681517",
     "exception": false,
     "start_time": "2025-09-16T10:30:29.660662",
     "status": "completed"
    },
    "tags": []
   },
   "outputs": [
    {
     "data": {
      "application/javascript": [
       "parent.postMessage({\"jupyterEvent\": \"custom.exercise_interaction\", \"data\": {\"outcomeType\": 1, \"valueTowardsCompletion\": 0.2, \"interactionType\": 1, \"questionType\": 2, \"questionId\": \"1_SignFunctionProblem\", \"learnToolsVersion\": \"0.3.5\", \"failureMessage\": \"\", \"exceptionClass\": \"\", \"trace\": \"\"}}, \"*\")"
      ],
      "text/plain": [
       "<IPython.core.display.Javascript object>"
      ]
     },
     "metadata": {},
     "output_type": "display_data"
    },
    {
     "data": {
      "text/markdown": [
       "<span style=\"color:#33cc33\">Correct</span>"
      ],
      "text/plain": [
       "Correct"
      ]
     },
     "metadata": {},
     "output_type": "display_data"
    }
   ],
   "source": [
    "# Your code goes here. Define a function called 'sign'\n",
    "def sign(x):\n",
    "    if x < 0:\n",
    "        return -1\n",
    "    elif x > 0:\n",
    "        return 1\n",
    "    else:\n",
    "        return 0\n",
    "# Check your answer\n",
    "q1.check()"
   ]
  },
  {
   "cell_type": "code",
   "execution_count": 3,
   "id": "dbea6749",
   "metadata": {
    "execution": {
     "iopub.execute_input": "2025-09-16T10:30:29.696944Z",
     "iopub.status.busy": "2025-09-16T10:30:29.696626Z",
     "iopub.status.idle": "2025-09-16T10:30:29.701586Z",
     "shell.execute_reply": "2025-09-16T10:30:29.700354Z"
    },
    "papermill": {
     "duration": 0.014981,
     "end_time": "2025-09-16T10:30:29.703606",
     "exception": false,
     "start_time": "2025-09-16T10:30:29.688625",
     "status": "completed"
    },
    "tags": []
   },
   "outputs": [],
   "source": [
    "#q1.solution()"
   ]
  },
  {
   "cell_type": "markdown",
   "id": "68066949",
   "metadata": {
    "papermill": {
     "duration": 0.007108,
     "end_time": "2025-09-16T10:30:29.717732",
     "exception": false,
     "start_time": "2025-09-16T10:30:29.710624",
     "status": "completed"
    },
    "tags": []
   },
   "source": [
    "# 2.\n",
    "\n",
    "We've decided to add \"logging\" to our `to_smash` function from the previous exercise."
   ]
  },
  {
   "cell_type": "code",
   "execution_count": 4,
   "id": "806c516a",
   "metadata": {
    "execution": {
     "iopub.execute_input": "2025-09-16T10:30:29.733099Z",
     "iopub.status.busy": "2025-09-16T10:30:29.732796Z",
     "iopub.status.idle": "2025-09-16T10:30:29.742247Z",
     "shell.execute_reply": "2025-09-16T10:30:29.740503Z"
    },
    "papermill": {
     "duration": 0.02017,
     "end_time": "2025-09-16T10:30:29.744878",
     "exception": false,
     "start_time": "2025-09-16T10:30:29.724708",
     "status": "completed"
    },
    "tags": []
   },
   "outputs": [
    {
     "name": "stdout",
     "output_type": "stream",
     "text": [
      "Splitting 91 candies\n"
     ]
    },
    {
     "data": {
      "text/plain": [
       "1"
      ]
     },
     "execution_count": 4,
     "metadata": {},
     "output_type": "execute_result"
    }
   ],
   "source": [
    "def to_smash(total_candies):\n",
    "    \"\"\"Return the number of leftover candies that must be smashed after distributing\n",
    "    the given number of candies evenly between 3 friends.\n",
    "    \n",
    "    >>> to_smash(91)\n",
    "    1\n",
    "    \"\"\"\n",
    "    print(\"Splitting\", total_candies, \"candies\")\n",
    "    return total_candies % 3\n",
    "\n",
    "to_smash(91)"
   ]
  },
  {
   "cell_type": "markdown",
   "id": "10236098",
   "metadata": {
    "papermill": {
     "duration": 0.0079,
     "end_time": "2025-09-16T10:30:29.760282",
     "exception": false,
     "start_time": "2025-09-16T10:30:29.752382",
     "status": "completed"
    },
    "tags": []
   },
   "source": [
    "What happens if we call it with `total_candies = 1`?"
   ]
  },
  {
   "cell_type": "code",
   "execution_count": 5,
   "id": "fec224a6",
   "metadata": {
    "execution": {
     "iopub.execute_input": "2025-09-16T10:30:29.777202Z",
     "iopub.status.busy": "2025-09-16T10:30:29.776865Z",
     "iopub.status.idle": "2025-09-16T10:30:29.783636Z",
     "shell.execute_reply": "2025-09-16T10:30:29.782548Z"
    },
    "papermill": {
     "duration": 0.018135,
     "end_time": "2025-09-16T10:30:29.785145",
     "exception": false,
     "start_time": "2025-09-16T10:30:29.767010",
     "status": "completed"
    },
    "tags": []
   },
   "outputs": [
    {
     "name": "stdout",
     "output_type": "stream",
     "text": [
      "Splitting 1 candies\n"
     ]
    },
    {
     "data": {
      "text/plain": [
       "1"
      ]
     },
     "execution_count": 5,
     "metadata": {},
     "output_type": "execute_result"
    }
   ],
   "source": [
    "to_smash(1)"
   ]
  },
  {
   "cell_type": "markdown",
   "id": "831d77ac",
   "metadata": {
    "papermill": {
     "duration": 0.006749,
     "end_time": "2025-09-16T10:30:29.799086",
     "exception": false,
     "start_time": "2025-09-16T10:30:29.792337",
     "status": "completed"
    },
    "tags": []
   },
   "source": [
    "That isn't great grammar!\n",
    "\n",
    "Modify the definition in the cell below to correct the grammar of our print statement. (If there's only one candy, we should use the singular \"candy\" instead of the plural \"candies\")"
   ]
  },
  {
   "cell_type": "code",
   "execution_count": 6,
   "id": "9082b58f",
   "metadata": {
    "execution": {
     "iopub.execute_input": "2025-09-16T10:30:29.815249Z",
     "iopub.status.busy": "2025-09-16T10:30:29.814954Z",
     "iopub.status.idle": "2025-09-16T10:30:29.820974Z",
     "shell.execute_reply": "2025-09-16T10:30:29.819967Z"
    },
    "papermill": {
     "duration": 0.015894,
     "end_time": "2025-09-16T10:30:29.822619",
     "exception": false,
     "start_time": "2025-09-16T10:30:29.806725",
     "status": "completed"
    },
    "tags": []
   },
   "outputs": [
    {
     "name": "stdout",
     "output_type": "stream",
     "text": [
      "Splitting 91 candies\n",
      "Splitting 1 candy\n"
     ]
    }
   ],
   "source": [
    "def to_smash(total_candies):\n",
    "    \"\"\"Return the number of leftover candies that must be smashed after distributing\n",
    "    the given number of candies evenly between 3 friends.\n",
    "    \n",
    "    >>> to_smash(91)\n",
    "    1\n",
    "    \"\"\"\n",
    "    if total_candies == 1:\n",
    "        print('Splitting 1 candy')\n",
    "    else:\n",
    "        print('Splitting', total_candies, 'candies')\n",
    "    #print(\"Splitting\", total_candies, \"candies\")\n",
    "    #return total_candies % 3\n",
    "\n",
    "to_smash(91)\n",
    "to_smash(1)"
   ]
  },
  {
   "cell_type": "markdown",
   "id": "2bf97c94",
   "metadata": {
    "papermill": {
     "duration": 0.006747,
     "end_time": "2025-09-16T10:30:29.836452",
     "exception": false,
     "start_time": "2025-09-16T10:30:29.829705",
     "status": "completed"
    },
    "tags": []
   },
   "source": [
    "To get credit for completing this problem, and to see the official answer, run the code cell below."
   ]
  },
  {
   "cell_type": "code",
   "execution_count": 7,
   "id": "98443511",
   "metadata": {
    "execution": {
     "iopub.execute_input": "2025-09-16T10:30:29.852219Z",
     "iopub.status.busy": "2025-09-16T10:30:29.851887Z",
     "iopub.status.idle": "2025-09-16T10:30:29.856502Z",
     "shell.execute_reply": "2025-09-16T10:30:29.855407Z"
    },
    "papermill": {
     "duration": 0.014728,
     "end_time": "2025-09-16T10:30:29.858132",
     "exception": false,
     "start_time": "2025-09-16T10:30:29.843404",
     "status": "completed"
    },
    "tags": []
   },
   "outputs": [],
   "source": [
    "# Check your answer (Run this code cell to receive credit!)\n",
    "\n",
    "#q2.solution()"
   ]
  },
  {
   "cell_type": "markdown",
   "id": "69329cbe",
   "metadata": {
    "papermill": {
     "duration": 0.00759,
     "end_time": "2025-09-16T10:30:29.873457",
     "exception": false,
     "start_time": "2025-09-16T10:30:29.865867",
     "status": "completed"
    },
    "tags": []
   },
   "source": [
    "# 3. <span title=\"A bit spicy\" style=\"color: darkgreen \">🌶️</span>\n",
    "\n",
    "In the tutorial, we talked about deciding whether we're prepared for the weather. I said that I'm safe from today's weather if...\n",
    "- I have an umbrella...\n",
    "- or if the rain isn't too heavy and I have a hood...\n",
    "- otherwise, I'm still fine unless it's raining *and* it's a workday\n",
    "\n",
    "The function below uses our first attempt at turning this logic into a Python expression. I claimed that there was a bug in that code. Can you find it?\n",
    "\n",
    "To prove that `prepared_for_weather` is buggy, come up with a set of inputs where either:\n",
    "- the function returns `False` (but should have returned `True`), or\n",
    "- the function returned `True` (but should have returned `False`).\n",
    "\n",
    "To get credit for completing this question, your code should return a <font color='#33cc33'>Correct</font> result."
   ]
  },
  {
   "cell_type": "code",
   "execution_count": 8,
   "id": "a715e99b",
   "metadata": {
    "execution": {
     "iopub.execute_input": "2025-09-16T10:30:29.889964Z",
     "iopub.status.busy": "2025-09-16T10:30:29.889034Z",
     "iopub.status.idle": "2025-09-16T10:30:29.899544Z",
     "shell.execute_reply": "2025-09-16T10:30:29.898443Z"
    },
    "papermill": {
     "duration": 0.020844,
     "end_time": "2025-09-16T10:30:29.901382",
     "exception": false,
     "start_time": "2025-09-16T10:30:29.880538",
     "status": "completed"
    },
    "tags": []
   },
   "outputs": [
    {
     "name": "stdout",
     "output_type": "stream",
     "text": [
      "False\n"
     ]
    },
    {
     "data": {
      "application/javascript": [
       "parent.postMessage({\"jupyterEvent\": \"custom.exercise_interaction\", \"data\": {\"outcomeType\": 1, \"valueTowardsCompletion\": 0.2, \"interactionType\": 1, \"questionType\": 1, \"questionId\": \"3_WeatherDebug\", \"learnToolsVersion\": \"0.3.5\", \"failureMessage\": \"\", \"exceptionClass\": \"\", \"trace\": \"\"}}, \"*\")"
      ],
      "text/plain": [
       "<IPython.core.display.Javascript object>"
      ]
     },
     "metadata": {},
     "output_type": "display_data"
    },
    {
     "data": {
      "text/markdown": [
       "<span style=\"color:#33cc33\">Correct:</span> \n",
       "\n",
       "One example of a failing test case is:\n",
       "\n",
       "```python\n",
       "have_umbrella = False\n",
       "rain_level = 0.0\n",
       "have_hood = False\n",
       "is_workday = False\n",
       "```\n",
       "\n",
       "Clearly we're prepared for the weather in this case. It's not raining. Not only that, it's not a workday, so we don't even need to leave the house! But our function will return False on these inputs.\n",
       "\n",
       "The key problem is that Python implictly parenthesizes the last part as:\n",
       "\n",
       "```python\n",
       "(not (rain_level > 0)) and is_workday\n",
       "```\n",
       "\n",
       "Whereas what we were trying to express would look more like:\n",
       "\n",
       "```python\n",
       "not (rain_level > 0 and is_workday)\n",
       "```\n"
      ],
      "text/plain": [
       "Correct: \n",
       "\n",
       "One example of a failing test case is:\n",
       "\n",
       "```python\n",
       "have_umbrella = False\n",
       "rain_level = 0.0\n",
       "have_hood = False\n",
       "is_workday = False\n",
       "```\n",
       "\n",
       "Clearly we're prepared for the weather in this case. It's not raining. Not only that, it's not a workday, so we don't even need to leave the house! But our function will return False on these inputs.\n",
       "\n",
       "The key problem is that Python implictly parenthesizes the last part as:\n",
       "\n",
       "```python\n",
       "(not (rain_level > 0)) and is_workday\n",
       "```\n",
       "\n",
       "Whereas what we were trying to express would look more like:\n",
       "\n",
       "```python\n",
       "not (rain_level > 0 and is_workday)\n",
       "```"
      ]
     },
     "metadata": {},
     "output_type": "display_data"
    }
   ],
   "source": [
    "def prepared_for_weather(have_umbrella, rain_level, have_hood, is_workday):\n",
    "    # Don't change this code. Our goal is just to find the bug, not fix it!\n",
    "    return have_umbrella or rain_level < 5 and have_hood or not rain_level > 0 and is_workday\n",
    "\n",
    "# Change the values of these inputs so they represent a case where prepared_for_weather\n",
    "# returns the wrong answer.\n",
    "have_umbrella = False\n",
    "rain_level = 0.0\n",
    "have_hood = False\n",
    "is_workday = False\n",
    "\n",
    "# Check what the function returns given the current values of the variables above\n",
    "actual = prepared_for_weather(have_umbrella, rain_level, have_hood, is_workday)\n",
    "print(actual)\n",
    "\n",
    "# Check your answer\n",
    "q3.check()"
   ]
  },
  {
   "cell_type": "code",
   "execution_count": 9,
   "id": "2fe92039",
   "metadata": {
    "execution": {
     "iopub.execute_input": "2025-09-16T10:30:29.917800Z",
     "iopub.status.busy": "2025-09-16T10:30:29.917465Z",
     "iopub.status.idle": "2025-09-16T10:30:29.921807Z",
     "shell.execute_reply": "2025-09-16T10:30:29.920840Z"
    },
    "papermill": {
     "duration": 0.015171,
     "end_time": "2025-09-16T10:30:29.924130",
     "exception": false,
     "start_time": "2025-09-16T10:30:29.908959",
     "status": "completed"
    },
    "tags": []
   },
   "outputs": [],
   "source": [
    "#q3.hint()\n",
    "#q3.solution()"
   ]
  },
  {
   "cell_type": "code",
   "execution_count": 10,
   "id": "cf329f63",
   "metadata": {
    "execution": {
     "iopub.execute_input": "2025-09-16T10:30:29.940404Z",
     "iopub.status.busy": "2025-09-16T10:30:29.939955Z",
     "iopub.status.idle": "2025-09-16T10:30:29.947240Z",
     "shell.execute_reply": "2025-09-16T10:30:29.945978Z"
    },
    "papermill": {
     "duration": 0.017371,
     "end_time": "2025-09-16T10:30:29.948986",
     "exception": false,
     "start_time": "2025-09-16T10:30:29.931615",
     "status": "completed"
    },
    "tags": []
   },
   "outputs": [
    {
     "name": "stdout",
     "output_type": "stream",
     "text": [
      "False\n"
     ]
    }
   ],
   "source": [
    "#Correct code\n",
    "def prepared_for_weather(have_umbrella, rain_level, have_hood, is_workday):\n",
    "    # Don't change this code. Our goal is just to find the bug, not fix it!\n",
    "    return have_umbrella or rain_level < 5 and have_hood or not (rain_level > 0 and is_workday)\n",
    "\n",
    "# Change the values of these inputs so they represent a case where prepared_for_weather\n",
    "# returns the wrong answer.\n",
    "have_umbrella = False\n",
    "rain_level = 6.0\n",
    "have_hood = False\n",
    "is_workday = True\n",
    "\n",
    "# Check what the function returns given the current values of the variables above\n",
    "actual = prepared_for_weather(have_umbrella, rain_level, have_hood, is_workday)\n",
    "print(actual)\n",
    "\n",
    "# Check your answer\n",
    "#q3.check()"
   ]
  },
  {
   "cell_type": "markdown",
   "id": "5e6925a0",
   "metadata": {
    "papermill": {
     "duration": 0.007946,
     "end_time": "2025-09-16T10:30:29.965115",
     "exception": false,
     "start_time": "2025-09-16T10:30:29.957169",
     "status": "completed"
    },
    "tags": []
   },
   "source": [
    "# 4.\n",
    "\n",
    "The function `is_negative` below is implemented correctly - it returns True if the given number is negative and False otherwise.\n",
    "\n",
    "However, it's more verbose than it needs to be. We can actually reduce the number of lines of code in this function by *75%* while keeping the same behaviour. \n",
    "\n",
    "See if you can come up with an equivalent body that uses just **one line** of code, and put it in the function `concise_is_negative`. (HINT: you don't even need Python's ternary syntax)"
   ]
  },
  {
   "cell_type": "code",
   "execution_count": 11,
   "id": "c7502750",
   "metadata": {
    "execution": {
     "iopub.execute_input": "2025-09-16T10:30:29.983969Z",
     "iopub.status.busy": "2025-09-16T10:30:29.983684Z",
     "iopub.status.idle": "2025-09-16T10:30:29.993381Z",
     "shell.execute_reply": "2025-09-16T10:30:29.991781Z"
    },
    "papermill": {
     "duration": 0.0226,
     "end_time": "2025-09-16T10:30:29.995631",
     "exception": false,
     "start_time": "2025-09-16T10:30:29.973031",
     "status": "completed"
    },
    "tags": []
   },
   "outputs": [
    {
     "data": {
      "application/javascript": [
       "parent.postMessage({\"jupyterEvent\": \"custom.exercise_interaction\", \"data\": {\"outcomeType\": 1, \"valueTowardsCompletion\": 0.2, \"interactionType\": 1, \"questionType\": 2, \"questionId\": \"4_ConciseIsNegative\", \"learnToolsVersion\": \"0.3.5\", \"failureMessage\": \"\", \"exceptionClass\": \"\", \"trace\": \"\"}}, \"*\")"
      ],
      "text/plain": [
       "<IPython.core.display.Javascript object>"
      ]
     },
     "metadata": {},
     "output_type": "display_data"
    },
    {
     "data": {
      "text/markdown": [
       "<span style=\"color:#33cc33\">Correct</span>"
      ],
      "text/plain": [
       "Correct"
      ]
     },
     "metadata": {},
     "output_type": "display_data"
    }
   ],
   "source": [
    "def is_negative(number):\n",
    "    if number < 0:\n",
    "        return True\n",
    "    else:\n",
    "        return False\n",
    "\n",
    "def concise_is_negative(number):\n",
    "    return number < 0\n",
    "\n",
    "# Check your answer\n",
    "q4.check()"
   ]
  },
  {
   "cell_type": "code",
   "execution_count": 12,
   "id": "51a153ad",
   "metadata": {
    "execution": {
     "iopub.execute_input": "2025-09-16T10:30:30.013950Z",
     "iopub.status.busy": "2025-09-16T10:30:30.013627Z",
     "iopub.status.idle": "2025-09-16T10:30:30.018126Z",
     "shell.execute_reply": "2025-09-16T10:30:30.017276Z"
    },
    "papermill": {
     "duration": 0.015767,
     "end_time": "2025-09-16T10:30:30.019776",
     "exception": false,
     "start_time": "2025-09-16T10:30:30.004009",
     "status": "completed"
    },
    "tags": []
   },
   "outputs": [],
   "source": [
    "#q4.hint()\n",
    "#q4.solution()"
   ]
  },
  {
   "cell_type": "markdown",
   "id": "fb8e25b7",
   "metadata": {
    "papermill": {
     "duration": 0.008181,
     "end_time": "2025-09-16T10:30:30.036466",
     "exception": false,
     "start_time": "2025-09-16T10:30:30.028285",
     "status": "completed"
    },
    "tags": []
   },
   "source": [
    "# 5a.\n",
    "\n",
    "The boolean variables `ketchup`, `mustard` and `onion` represent whether a customer wants a particular topping on their hot dog. We want to implement a number of boolean functions that correspond to some yes-or-no questions about the customer's order. For example:"
   ]
  },
  {
   "cell_type": "code",
   "execution_count": 13,
   "id": "e35197b8",
   "metadata": {
    "execution": {
     "iopub.execute_input": "2025-09-16T10:30:30.053551Z",
     "iopub.status.busy": "2025-09-16T10:30:30.053168Z",
     "iopub.status.idle": "2025-09-16T10:30:30.058380Z",
     "shell.execute_reply": "2025-09-16T10:30:30.057220Z"
    },
    "papermill": {
     "duration": 0.016322,
     "end_time": "2025-09-16T10:30:30.060511",
     "exception": false,
     "start_time": "2025-09-16T10:30:30.044189",
     "status": "completed"
    },
    "tags": []
   },
   "outputs": [],
   "source": [
    "def onionless(ketchup, mustard, onion):\n",
    "    \"\"\"Return whether the customer doesn't want onions.\n",
    "    \"\"\"\n",
    "    return not onion"
   ]
  },
  {
   "cell_type": "code",
   "execution_count": 14,
   "id": "e99f1e4f",
   "metadata": {
    "execution": {
     "iopub.execute_input": "2025-09-16T10:30:30.077920Z",
     "iopub.status.busy": "2025-09-16T10:30:30.077614Z",
     "iopub.status.idle": "2025-09-16T10:30:30.086175Z",
     "shell.execute_reply": "2025-09-16T10:30:30.084900Z"
    },
    "papermill": {
     "duration": 0.018864,
     "end_time": "2025-09-16T10:30:30.087901",
     "exception": false,
     "start_time": "2025-09-16T10:30:30.069037",
     "status": "completed"
    },
    "tags": []
   },
   "outputs": [
    {
     "data": {
      "application/javascript": [
       "parent.postMessage({\"jupyterEvent\": \"custom.exercise_interaction\", \"data\": {\"outcomeType\": 1, \"valueTowardsCompletion\": 0.2, \"interactionType\": 1, \"questionType\": 2, \"questionId\": \"5.1_AllToppings\", \"learnToolsVersion\": \"0.3.5\", \"failureMessage\": \"\", \"exceptionClass\": \"\", \"trace\": \"\"}}, \"*\")"
      ],
      "text/plain": [
       "<IPython.core.display.Javascript object>"
      ]
     },
     "metadata": {},
     "output_type": "display_data"
    },
    {
     "data": {
      "text/markdown": [
       "<span style=\"color:#33cc33\">Correct</span>"
      ],
      "text/plain": [
       "Correct"
      ]
     },
     "metadata": {},
     "output_type": "display_data"
    }
   ],
   "source": [
    "def wants_all_toppings(ketchup, mustard, onion):\n",
    "    \"\"\"Return whether the customer wants \"the works\" (all 3 toppings)\n",
    "    \"\"\"\n",
    "    return ketchup and mustard and onion\n",
    "\n",
    "# Check your answer\n",
    "q5.a.check()"
   ]
  },
  {
   "cell_type": "code",
   "execution_count": 15,
   "id": "a932efb5",
   "metadata": {
    "execution": {
     "iopub.execute_input": "2025-09-16T10:30:30.105302Z",
     "iopub.status.busy": "2025-09-16T10:30:30.105030Z",
     "iopub.status.idle": "2025-09-16T10:30:30.109666Z",
     "shell.execute_reply": "2025-09-16T10:30:30.108601Z"
    },
    "papermill": {
     "duration": 0.015012,
     "end_time": "2025-09-16T10:30:30.111254",
     "exception": false,
     "start_time": "2025-09-16T10:30:30.096242",
     "status": "completed"
    },
    "tags": []
   },
   "outputs": [],
   "source": [
    "#q5.a.hint()\n",
    "#q5.a.solution()"
   ]
  },
  {
   "cell_type": "markdown",
   "id": "7a457398",
   "metadata": {
    "papermill": {
     "duration": 0.007538,
     "end_time": "2025-09-16T10:30:30.196738",
     "exception": false,
     "start_time": "2025-09-16T10:30:30.189200",
     "status": "completed"
    },
    "tags": []
   },
   "source": [
    "# 5b.\n",
    "\n",
    "For the next function, fill in the body to match the English description in the docstring. "
   ]
  },
  {
   "cell_type": "code",
   "execution_count": 16,
   "id": "c40ec937",
   "metadata": {
    "execution": {
     "iopub.execute_input": "2025-09-16T10:30:30.214109Z",
     "iopub.status.busy": "2025-09-16T10:30:30.213773Z",
     "iopub.status.idle": "2025-09-16T10:30:30.222108Z",
     "shell.execute_reply": "2025-09-16T10:30:30.221242Z"
    },
    "papermill": {
     "duration": 0.019109,
     "end_time": "2025-09-16T10:30:30.223912",
     "exception": false,
     "start_time": "2025-09-16T10:30:30.204803",
     "status": "completed"
    },
    "tags": []
   },
   "outputs": [
    {
     "data": {
      "application/javascript": [
       "parent.postMessage({\"jupyterEvent\": \"custom.exercise_interaction\", \"data\": {\"outcomeType\": 1, \"valueTowardsCompletion\": 0.2, \"interactionType\": 1, \"questionType\": 2, \"questionId\": \"5.2_PlainDog\", \"learnToolsVersion\": \"0.3.5\", \"failureMessage\": \"\", \"exceptionClass\": \"\", \"trace\": \"\"}}, \"*\")"
      ],
      "text/plain": [
       "<IPython.core.display.Javascript object>"
      ]
     },
     "metadata": {},
     "output_type": "display_data"
    },
    {
     "data": {
      "text/markdown": [
       "<span style=\"color:#33cc33\">Correct:</span> \n",
       "\n",
       "One solution looks like:\n",
       "```python\n",
       "return not ketchup and not mustard and not onion\n",
       "```\n",
       "\n",
       "We can also [\"factor out\" the nots](https://en.wikipedia.org/wiki/De_Morgan%27s_laws) to get:\n",
       "\n",
       "```python\n",
       "return not (ketchup or mustard or onion)\n",
       "```"
      ],
      "text/plain": [
       "Correct: \n",
       "\n",
       "One solution looks like:\n",
       "```python\n",
       "return not ketchup and not mustard and not onion\n",
       "```\n",
       "\n",
       "We can also [\"factor out\" the nots](https://en.wikipedia.org/wiki/De_Morgan%27s_laws) to get:\n",
       "\n",
       "```python\n",
       "return not (ketchup or mustard or onion)\n",
       "```"
      ]
     },
     "metadata": {},
     "output_type": "display_data"
    }
   ],
   "source": [
    "def wants_plain_hotdog(ketchup, mustard, onion):\n",
    "    \"\"\"Return whether the customer wants a plain hot dog with no toppings.\n",
    "    \"\"\"\n",
    "    return not ketchup and not mustard and not onion\n",
    "    #return not (ketchup or mustard or onion)\n",
    "# Check your answer\n",
    "q5.b.check()"
   ]
  },
  {
   "cell_type": "code",
   "execution_count": 17,
   "id": "f1210040",
   "metadata": {
    "execution": {
     "iopub.execute_input": "2025-09-16T10:30:30.241913Z",
     "iopub.status.busy": "2025-09-16T10:30:30.241635Z",
     "iopub.status.idle": "2025-09-16T10:30:30.246371Z",
     "shell.execute_reply": "2025-09-16T10:30:30.244981Z"
    },
    "papermill": {
     "duration": 0.015838,
     "end_time": "2025-09-16T10:30:30.248326",
     "exception": false,
     "start_time": "2025-09-16T10:30:30.232488",
     "status": "completed"
    },
    "tags": []
   },
   "outputs": [],
   "source": [
    "#q5.b.hint()\n",
    "#q5.b.solution()"
   ]
  },
  {
   "cell_type": "markdown",
   "id": "c3c7c18e",
   "metadata": {
    "papermill": {
     "duration": 0.007837,
     "end_time": "2025-09-16T10:30:30.264539",
     "exception": false,
     "start_time": "2025-09-16T10:30:30.256702",
     "status": "completed"
    },
    "tags": []
   },
   "source": [
    "# 5c.\n",
    "\n",
    "You know what to do: for the next function, fill in the body to match the English description in the docstring."
   ]
  },
  {
   "cell_type": "code",
   "execution_count": 18,
   "id": "7cc60a53",
   "metadata": {
    "execution": {
     "iopub.execute_input": "2025-09-16T10:30:30.282848Z",
     "iopub.status.busy": "2025-09-16T10:30:30.282561Z",
     "iopub.status.idle": "2025-09-16T10:30:30.291567Z",
     "shell.execute_reply": "2025-09-16T10:30:30.290169Z"
    },
    "papermill": {
     "duration": 0.01995,
     "end_time": "2025-09-16T10:30:30.293446",
     "exception": false,
     "start_time": "2025-09-16T10:30:30.273496",
     "status": "completed"
    },
    "tags": []
   },
   "outputs": [
    {
     "data": {
      "application/javascript": [
       "parent.postMessage({\"jupyterEvent\": \"custom.exercise_interaction\", \"data\": {\"outcomeType\": 1, \"valueTowardsCompletion\": 0.2, \"interactionType\": 1, \"questionType\": 2, \"questionId\": \"5.3_OneSauce\", \"learnToolsVersion\": \"0.3.5\", \"failureMessage\": \"\", \"exceptionClass\": \"\", \"trace\": \"\"}}, \"*\")"
      ],
      "text/plain": [
       "<IPython.core.display.Javascript object>"
      ]
     },
     "metadata": {},
     "output_type": "display_data"
    },
    {
     "data": {
      "text/markdown": [
       "<span style=\"color:#33cc33\">Correct</span>"
      ],
      "text/plain": [
       "Correct"
      ]
     },
     "metadata": {},
     "output_type": "display_data"
    }
   ],
   "source": [
    "def exactly_one_sauce(ketchup, mustard, onion):\n",
    "    \"\"\"Return whether the customer wants either ketchup or mustard, but not both.\n",
    "    (You may be familiar with this operation under the name \"exclusive or\")\n",
    "    \"\"\"\n",
    "    return (ketchup and not mustard) or (mustard and not ketchup)\n",
    "\n",
    "# Check your answer\n",
    "q5.c.check()"
   ]
  },
  {
   "cell_type": "code",
   "execution_count": 19,
   "id": "28528952",
   "metadata": {
    "execution": {
     "iopub.execute_input": "2025-09-16T10:30:30.311570Z",
     "iopub.status.busy": "2025-09-16T10:30:30.311226Z",
     "iopub.status.idle": "2025-09-16T10:30:30.316074Z",
     "shell.execute_reply": "2025-09-16T10:30:30.314702Z"
    },
    "papermill": {
     "duration": 0.016291,
     "end_time": "2025-09-16T10:30:30.318126",
     "exception": false,
     "start_time": "2025-09-16T10:30:30.301835",
     "status": "completed"
    },
    "tags": []
   },
   "outputs": [],
   "source": [
    "#q5.c.hint()\n",
    "#q5.c.solution()"
   ]
  },
  {
   "cell_type": "markdown",
   "id": "4fb2034b",
   "metadata": {
    "papermill": {
     "duration": 0.008572,
     "end_time": "2025-09-16T10:30:30.335184",
     "exception": false,
     "start_time": "2025-09-16T10:30:30.326612",
     "status": "completed"
    },
    "tags": []
   },
   "source": [
    "# 6. <span title=\"A bit spicy\" style=\"color: darkgreen \">🌶️</span>\n",
    "\n",
    "We’ve seen that calling `bool()` on an integer returns `False` if it’s equal to 0 and `True` otherwise. What happens if we call `int()` on a bool? Try it out in the notebook cell below.\n",
    "\n",
    "Can you take advantage of this to write a succinct function that corresponds to the English sentence \"does the customer want exactly one topping?\"?"
   ]
  },
  {
   "cell_type": "code",
   "execution_count": 20,
   "id": "0c0df296",
   "metadata": {
    "execution": {
     "iopub.execute_input": "2025-09-16T10:30:30.355487Z",
     "iopub.status.busy": "2025-09-16T10:30:30.355109Z",
     "iopub.status.idle": "2025-09-16T10:30:30.366144Z",
     "shell.execute_reply": "2025-09-16T10:30:30.364563Z"
    },
    "papermill": {
     "duration": 0.024067,
     "end_time": "2025-09-16T10:30:30.368171",
     "exception": false,
     "start_time": "2025-09-16T10:30:30.344104",
     "status": "completed"
    },
    "tags": []
   },
   "outputs": [
    {
     "data": {
      "application/javascript": [
       "parent.postMessage({\"jupyterEvent\": \"custom.exercise_interaction\", \"data\": {\"outcomeType\": 1, \"valueTowardsCompletion\": 0.2, \"interactionType\": 1, \"questionType\": 2, \"questionId\": \"6_OneTopping\", \"learnToolsVersion\": \"0.3.5\", \"failureMessage\": \"\", \"exceptionClass\": \"\", \"trace\": \"\"}}, \"*\")"
      ],
      "text/plain": [
       "<IPython.core.display.Javascript object>"
      ]
     },
     "metadata": {},
     "output_type": "display_data"
    },
    {
     "data": {
      "text/markdown": [
       "<span style=\"color:#33cc33\">Correct:</span> \n",
       "\n",
       "This condition would be pretty complicated to express using just `and`, `or` and `not`, but using boolean-to-integer conversion gives us this short solution:\n",
       "```python\n",
       "return (int(ketchup) + int(mustard) + int(onion)) == 1\n",
       "```\n",
       "\n",
       "Fun fact: we don't technically need to call `int` on the arguments. Just by doing addition with booleans, Python implicitly does the integer conversion. So we could also write...\n",
       "\n",
       "```python\n",
       "return (ketchup + mustard + onion) == 1\n",
       "```"
      ],
      "text/plain": [
       "Correct: \n",
       "\n",
       "This condition would be pretty complicated to express using just `and`, `or` and `not`, but using boolean-to-integer conversion gives us this short solution:\n",
       "```python\n",
       "return (int(ketchup) + int(mustard) + int(onion)) == 1\n",
       "```\n",
       "\n",
       "Fun fact: we don't technically need to call `int` on the arguments. Just by doing addition with booleans, Python implicitly does the integer conversion. So we could also write...\n",
       "\n",
       "```python\n",
       "return (ketchup + mustard + onion) == 1\n",
       "```"
      ]
     },
     "metadata": {},
     "output_type": "display_data"
    }
   ],
   "source": [
    "def exactly_one_topping(ketchup, mustard, onion):\n",
    "    \"\"\"Return whether the customer wants exactly one of the three available toppings\n",
    "    on their hot dog.\n",
    "    \"\"\"\n",
    "    return (int(ketchup) + int(mustard) + int(onion)) == 1\n",
    "    #return int(ketchup + mustard + onion) == 1\n",
    "\n",
    "# Check your answer\n",
    "q6.check()"
   ]
  },
  {
   "cell_type": "code",
   "execution_count": 21,
   "id": "b0942c6f",
   "metadata": {
    "execution": {
     "iopub.execute_input": "2025-09-16T10:30:30.389556Z",
     "iopub.status.busy": "2025-09-16T10:30:30.389037Z",
     "iopub.status.idle": "2025-09-16T10:30:30.394743Z",
     "shell.execute_reply": "2025-09-16T10:30:30.393348Z"
    },
    "papermill": {
     "duration": 0.018803,
     "end_time": "2025-09-16T10:30:30.396726",
     "exception": false,
     "start_time": "2025-09-16T10:30:30.377923",
     "status": "completed"
    },
    "tags": []
   },
   "outputs": [],
   "source": [
    "#q6.hint()\n",
    "#q6.solution()"
   ]
  },
  {
   "cell_type": "markdown",
   "id": "fdc20256",
   "metadata": {
    "papermill": {
     "duration": 0.008311,
     "end_time": "2025-09-16T10:30:30.413834",
     "exception": false,
     "start_time": "2025-09-16T10:30:30.405523",
     "status": "completed"
    },
    "tags": []
   },
   "source": [
    "# 7. <span title=\"A bit spicy\" style=\"color: darkgreen \">🌶️</span> (Optional)\n",
    "\n",
    "In this problem we'll be working with a simplified version of [blackjack](https://en.wikipedia.org/wiki/Blackjack) (aka twenty-one). In this version there is one player (who you'll control) and a dealer. Play proceeds as follows:\n",
    "\n",
    "- The player is dealt two face-up cards. The dealer is dealt one face-up card.\n",
    "- The player may ask to be dealt another card ('hit') as many times as they wish. If the sum of their cards exceeds 21, they lose the round immediately.\n",
    "- The dealer then deals additional cards to himself until either:\n",
    "    - the sum of the dealer's cards exceeds 21, in which case the player wins the round\n",
    "    - the sum of the dealer's cards is greater than or equal to 17. If the player's total is greater than the dealer's, the player wins. Otherwise, the dealer wins (even in case of a tie).\n",
    "    \n",
    "When calculating the sum of cards, Jack, Queen, and King count for 10. Aces can count as 1 or 11 (when referring to a player's \"total\" above, we mean the largest total that can be made without exceeding 21. So e.g. A+8 = 19, A+8+8 = 17)\n",
    "\n",
    "For this problem, you'll write a function representing the player's decision-making strategy in this game. We've provided a very unintelligent implementation below:"
   ]
  },
  {
   "cell_type": "code",
   "execution_count": 22,
   "id": "1473e4e2",
   "metadata": {
    "execution": {
     "iopub.execute_input": "2025-09-16T10:30:30.435173Z",
     "iopub.status.busy": "2025-09-16T10:30:30.434659Z",
     "iopub.status.idle": "2025-09-16T10:30:30.440711Z",
     "shell.execute_reply": "2025-09-16T10:30:30.439531Z"
    },
    "papermill": {
     "duration": 0.020419,
     "end_time": "2025-09-16T10:30:30.442639",
     "exception": false,
     "start_time": "2025-09-16T10:30:30.422220",
     "status": "completed"
    },
    "tags": []
   },
   "outputs": [],
   "source": [
    "def should_hit(dealer_total, player_total, player_low_aces, player_high_aces):\n",
    "    \"\"\"Return True if the player should hit (request another card) given the current game\n",
    "    state, or False if the player should stay.\n",
    "    When calculating a hand's total value, we count aces as \"high\" (with value 11) if doing so\n",
    "    doesn't bring the total above 21, otherwise we count them as low (with value 1). \n",
    "    For example, if the player's hand is {A, A, A, 7}, we will count it as 11 + 1 + 1 + 7,\n",
    "    and therefore set player_total=20, player_low_aces=2, player_high_aces=1.\n",
    "    \"\"\"\n",
    "    return False"
   ]
  },
  {
   "cell_type": "markdown",
   "id": "6b4d920c",
   "metadata": {
    "papermill": {
     "duration": 0.008281,
     "end_time": "2025-09-16T10:30:30.459466",
     "exception": false,
     "start_time": "2025-09-16T10:30:30.451185",
     "status": "completed"
    },
    "tags": []
   },
   "source": [
    "This very conservative agent *always* sticks with the hand of two cards that they're dealt.\n",
    "\n",
    "We'll be simulating games between your player agent and our own dealer agent by calling your function.\n",
    "\n",
    "Try running the function below to see an example of a simulated game:"
   ]
  },
  {
   "cell_type": "code",
   "execution_count": 23,
   "id": "94590b62",
   "metadata": {
    "execution": {
     "iopub.execute_input": "2025-09-16T10:30:30.479980Z",
     "iopub.status.busy": "2025-09-16T10:30:30.479660Z",
     "iopub.status.idle": "2025-09-16T10:30:30.485330Z",
     "shell.execute_reply": "2025-09-16T10:30:30.484185Z"
    },
    "papermill": {
     "duration": 0.017883,
     "end_time": "2025-09-16T10:30:30.487723",
     "exception": false,
     "start_time": "2025-09-16T10:30:30.469840",
     "status": "completed"
    },
    "tags": []
   },
   "outputs": [
    {
     "name": "stdout",
     "output_type": "stream",
     "text": [
      "Player starts with 9 and J (total = 19)\n",
      "Dealer starts with 4\n",
      "\n",
      "__Player's turn__\n",
      "Player stays\n",
      "\n",
      "__Dealer's turn__\n",
      "Dealer hits and receives 2. (total = 6)\n",
      "Dealer hits and receives Q. (total = 16)\n",
      "Dealer hits and receives 8. (total = 24)\n",
      "Dealer busts! Player wins.\n"
     ]
    }
   ],
   "source": [
    "q7.simulate_one_game()"
   ]
  },
  {
   "cell_type": "markdown",
   "id": "f631868e",
   "metadata": {
    "papermill": {
     "duration": 0.008247,
     "end_time": "2025-09-16T10:30:30.504975",
     "exception": false,
     "start_time": "2025-09-16T10:30:30.496728",
     "status": "completed"
    },
    "tags": []
   },
   "source": [
    "The real test of your agent's mettle is their average win rate over many games. Try calling the function below to simulate 50000 games of blackjack (it may take a couple seconds):"
   ]
  },
  {
   "cell_type": "code",
   "execution_count": 24,
   "id": "234f560c",
   "metadata": {
    "execution": {
     "iopub.execute_input": "2025-09-16T10:30:30.523428Z",
     "iopub.status.busy": "2025-09-16T10:30:30.523111Z",
     "iopub.status.idle": "2025-09-16T10:30:31.437878Z",
     "shell.execute_reply": "2025-09-16T10:30:31.434801Z"
    },
    "papermill": {
     "duration": 0.927524,
     "end_time": "2025-09-16T10:30:31.441274",
     "exception": false,
     "start_time": "2025-09-16T10:30:30.513750",
     "status": "completed"
    },
    "tags": []
   },
   "outputs": [
    {
     "name": "stdout",
     "output_type": "stream",
     "text": [
      "Player won 18901 out of 50000 games (win rate = 37.8%)\n"
     ]
    }
   ],
   "source": [
    "q7.simulate(n_games=50000)"
   ]
  },
  {
   "cell_type": "markdown",
   "id": "c9d8c49b",
   "metadata": {
    "papermill": {
     "duration": 0.010445,
     "end_time": "2025-09-16T10:30:31.467329",
     "exception": false,
     "start_time": "2025-09-16T10:30:31.456884",
     "status": "completed"
    },
    "tags": []
   },
   "source": [
    "Our dumb agent that completely ignores the game state still manages to win shockingly often!\n",
    "\n",
    "Try adding some more smarts to the `should_hit` function and see how it affects the results."
   ]
  },
  {
   "cell_type": "code",
   "execution_count": 25,
   "id": "477e7e94",
   "metadata": {
    "execution": {
     "iopub.execute_input": "2025-09-16T10:30:31.490103Z",
     "iopub.status.busy": "2025-09-16T10:30:31.489786Z",
     "iopub.status.idle": "2025-09-16T10:30:32.389500Z",
     "shell.execute_reply": "2025-09-16T10:30:32.388386Z"
    },
    "papermill": {
     "duration": 0.912254,
     "end_time": "2025-09-16T10:30:32.391236",
     "exception": false,
     "start_time": "2025-09-16T10:30:31.478982",
     "status": "completed"
    },
    "tags": []
   },
   "outputs": [
    {
     "name": "stdout",
     "output_type": "stream",
     "text": [
      "Player won 18967 out of 50000 games (win rate = 37.9%)\n"
     ]
    }
   ],
   "source": [
    "def should_hit(dealer_total, player_total, player_low_aces, player_high_aces):\n",
    "    \"\"\"Return True if the player should hit (request another card) given the current game\n",
    "    state, or False if the player should stay.\n",
    "    When calculating a hand's total value, we count aces as \"high\" (with value 11) if doing so\n",
    "    doesn't bring the total above 21, otherwise we count them as low (with value 1). \n",
    "    For example, if the player's hand is {A, A, A, 7}, we will count it as 11 + 1 + 1 + 7,\n",
    "    and therefore set player_total=20, player_low_aces=2, player_high_aces=1.\n",
    "    \"\"\"\n",
    "    return False\n",
    "\n",
    "q7.simulate(n_games=50000)"
   ]
  },
  {
   "cell_type": "markdown",
   "id": "71cd52cf",
   "metadata": {
    "papermill": {
     "duration": 0.008809,
     "end_time": "2025-09-16T10:30:32.409501",
     "exception": false,
     "start_time": "2025-09-16T10:30:32.400692",
     "status": "completed"
    },
    "tags": []
   },
   "source": [
    "# Keep Going\n",
    "\n",
    "Learn about **[lists and tuples](https://www.kaggle.com/colinmorris/lists)** to handle multiple items of data in a systematic way."
   ]
  },
  {
   "cell_type": "markdown",
   "id": "7427e4a9",
   "metadata": {
    "papermill": {
     "duration": 0.009136,
     "end_time": "2025-09-16T10:30:32.428203",
     "exception": false,
     "start_time": "2025-09-16T10:30:32.419067",
     "status": "completed"
    },
    "tags": []
   },
   "source": [
    "---\n",
    "\n",
    "\n",
    "\n",
    "\n",
    "*Have questions or comments? Visit the [course discussion forum](https://www.kaggle.com/learn/python/discussion) to chat with other learners.*"
   ]
  }
 ],
 "metadata": {
  "kaggle": {
   "accelerator": "none",
   "dataSources": [],
   "isGpuEnabled": false,
   "isInternetEnabled": false,
   "language": "python",
   "sourceType": "notebook"
  },
  "kernelspec": {
   "display_name": "Python 3",
   "language": "python",
   "name": "python3"
  },
  "language_info": {
   "codemirror_mode": {
    "name": "ipython",
    "version": 3
   },
   "file_extension": ".py",
   "mimetype": "text/x-python",
   "name": "python",
   "nbconvert_exporter": "python",
   "pygments_lexer": "ipython3",
   "version": "3.11.13"
  },
  "learntools_metadata": {
   "lesson_index": 2,
   "type": "exercise"
  },
  "papermill": {
   "default_parameters": {},
   "duration": 12.270175,
   "end_time": "2025-09-16T10:30:33.059318",
   "environment_variables": {},
   "exception": null,
   "input_path": "__notebook__.ipynb",
   "output_path": "__notebook__.ipynb",
   "parameters": {},
   "start_time": "2025-09-16T10:30:20.789143",
   "version": "2.6.0"
  }
 },
 "nbformat": 4,
 "nbformat_minor": 5
}
