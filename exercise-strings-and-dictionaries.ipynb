{
 "cells": [
  {
   "cell_type": "markdown",
   "id": "ee90bd30",
   "metadata": {
    "papermill": {
     "duration": 0.004843,
     "end_time": "2025-09-17T04:15:13.284025",
     "exception": false,
     "start_time": "2025-09-17T04:15:13.279182",
     "status": "completed"
    },
    "tags": []
   },
   "source": [
    "**This notebook is an exercise in the [Python](https://www.kaggle.com/learn/python) course.  You can reference the tutorial at [this link](https://www.kaggle.com/colinmorris/strings-and-dictionaries).**\n",
    "\n",
    "---\n"
   ]
  },
  {
   "cell_type": "markdown",
   "id": "148aed82",
   "metadata": {
    "papermill": {
     "duration": 0.003699,
     "end_time": "2025-09-17T04:15:13.292092",
     "exception": false,
     "start_time": "2025-09-17T04:15:13.288393",
     "status": "completed"
    },
    "tags": []
   },
   "source": [
    "You are almost done with the course. Nice job!\n",
    "\n",
    "We have a couple more interesting problems for you before you go. \n",
    "\n",
    "As always, run the setup code below before working on the questions."
   ]
  },
  {
   "cell_type": "code",
   "execution_count": 1,
   "id": "5a5bf39d",
   "metadata": {
    "execution": {
     "iopub.execute_input": "2025-09-17T04:15:13.302360Z",
     "iopub.status.busy": "2025-09-17T04:15:13.302005Z",
     "iopub.status.idle": "2025-09-17T04:15:15.423956Z",
     "shell.execute_reply": "2025-09-17T04:15:15.422512Z"
    },
    "papermill": {
     "duration": 2.12937,
     "end_time": "2025-09-17T04:15:15.426022",
     "exception": false,
     "start_time": "2025-09-17T04:15:13.296652",
     "status": "completed"
    },
    "tags": []
   },
   "outputs": [
    {
     "name": "stdout",
     "output_type": "stream",
     "text": [
      "Setup complete.\n"
     ]
    }
   ],
   "source": [
    "from learntools.core import binder; binder.bind(globals())\n",
    "from learntools.python.ex6 import *\n",
    "print('Setup complete.')"
   ]
  },
  {
   "cell_type": "markdown",
   "id": "15289385",
   "metadata": {
    "papermill": {
     "duration": 0.004099,
     "end_time": "2025-09-17T04:15:15.434643",
     "exception": false,
     "start_time": "2025-09-17T04:15:15.430544",
     "status": "completed"
    },
    "tags": []
   },
   "source": [
    "Let's start with a string lightning round to warm up. What are the lengths of the strings below?\n",
    "\n",
    "For each of the five strings below, predict what `len()` would return when passed that string. Use the variable `length` to record your answer, then run the cell to check whether you were right.  \n",
    "\n",
    "# 0a."
   ]
  },
  {
   "cell_type": "code",
   "execution_count": 2,
   "id": "e543f385",
   "metadata": {
    "execution": {
     "iopub.execute_input": "2025-09-17T04:15:15.444528Z",
     "iopub.status.busy": "2025-09-17T04:15:15.444037Z",
     "iopub.status.idle": "2025-09-17T04:15:15.454380Z",
     "shell.execute_reply": "2025-09-17T04:15:15.453064Z"
    },
    "papermill": {
     "duration": 0.017143,
     "end_time": "2025-09-17T04:15:15.456019",
     "exception": false,
     "start_time": "2025-09-17T04:15:15.438876",
     "status": "completed"
    },
    "tags": []
   },
   "outputs": [
    {
     "data": {
      "application/javascript": [
       "parent.postMessage({\"jupyterEvent\": \"custom.exercise_interaction\", \"data\": {\"outcomeType\": 1, \"valueTowardsCompletion\": 0.3333333333333333, \"interactionType\": 1, \"questionType\": 1, \"questionId\": \"0.1_ZA\", \"learnToolsVersion\": \"0.3.5\", \"failureMessage\": \"\", \"exceptionClass\": \"\", \"trace\": \"\"}}, \"*\")"
      ],
      "text/plain": [
       "<IPython.core.display.Javascript object>"
      ]
     },
     "metadata": {},
     "output_type": "display_data"
    },
    {
     "data": {
      "text/markdown": [
       "<span style=\"color:#33cc33\">Correct:</span> \n",
       "\n",
       "The empty string has length zero. Note that the empty string is also the only string that Python considers as False when converting to boolean."
      ],
      "text/plain": [
       "Correct: \n",
       "\n",
       "The empty string has length zero. Note that the empty string is also the only string that Python considers as False when converting to boolean."
      ]
     },
     "metadata": {},
     "output_type": "display_data"
    }
   ],
   "source": [
    "a = \"\"\n",
    "length = len(a)\n",
    "q0.a.check()"
   ]
  },
  {
   "cell_type": "markdown",
   "id": "57e39a5f",
   "metadata": {
    "papermill": {
     "duration": 0.004316,
     "end_time": "2025-09-17T04:15:15.466016",
     "exception": false,
     "start_time": "2025-09-17T04:15:15.461700",
     "status": "completed"
    },
    "tags": []
   },
   "source": [
    "# 0b."
   ]
  },
  {
   "cell_type": "code",
   "execution_count": 3,
   "id": "d12cc83e",
   "metadata": {
    "execution": {
     "iopub.execute_input": "2025-09-17T04:15:15.476258Z",
     "iopub.status.busy": "2025-09-17T04:15:15.475914Z",
     "iopub.status.idle": "2025-09-17T04:15:15.484324Z",
     "shell.execute_reply": "2025-09-17T04:15:15.483353Z"
    },
    "papermill": {
     "duration": 0.015912,
     "end_time": "2025-09-17T04:15:15.486316",
     "exception": false,
     "start_time": "2025-09-17T04:15:15.470404",
     "status": "completed"
    },
    "tags": []
   },
   "outputs": [
    {
     "data": {
      "application/javascript": [
       "parent.postMessage({\"jupyterEvent\": \"custom.exercise_interaction\", \"data\": {\"outcomeType\": 1, \"valueTowardsCompletion\": 0.3333333333333333, \"interactionType\": 1, \"questionType\": 1, \"questionId\": \"0.2_ZB\", \"learnToolsVersion\": \"0.3.5\", \"failureMessage\": \"\", \"exceptionClass\": \"\", \"trace\": \"\"}}, \"*\")"
      ],
      "text/plain": [
       "<IPython.core.display.Javascript object>"
      ]
     },
     "metadata": {},
     "output_type": "display_data"
    },
    {
     "data": {
      "text/markdown": [
       "<span style=\"color:#33cc33\">Correct:</span> \n",
       "\n",
       "Keep in mind Python includes spaces (and punctuation) when counting string length."
      ],
      "text/plain": [
       "Correct: \n",
       "\n",
       "Keep in mind Python includes spaces (and punctuation) when counting string length."
      ]
     },
     "metadata": {},
     "output_type": "display_data"
    }
   ],
   "source": [
    "b = \"it's ok\"\n",
    "length = len(b)\n",
    "q0.b.check()"
   ]
  },
  {
   "cell_type": "markdown",
   "id": "eb71f49f",
   "metadata": {
    "papermill": {
     "duration": 0.004799,
     "end_time": "2025-09-17T04:15:15.496358",
     "exception": false,
     "start_time": "2025-09-17T04:15:15.491559",
     "status": "completed"
    },
    "tags": []
   },
   "source": [
    "# 0c."
   ]
  },
  {
   "cell_type": "code",
   "execution_count": 4,
   "id": "56a861a7",
   "metadata": {
    "execution": {
     "iopub.execute_input": "2025-09-17T04:15:15.508992Z",
     "iopub.status.busy": "2025-09-17T04:15:15.508651Z",
     "iopub.status.idle": "2025-09-17T04:15:15.516927Z",
     "shell.execute_reply": "2025-09-17T04:15:15.515860Z"
    },
    "papermill": {
     "duration": 0.016437,
     "end_time": "2025-09-17T04:15:15.518794",
     "exception": false,
     "start_time": "2025-09-17T04:15:15.502357",
     "status": "completed"
    },
    "tags": []
   },
   "outputs": [
    {
     "data": {
      "application/javascript": [
       "parent.postMessage({\"jupyterEvent\": \"custom.exercise_interaction\", \"data\": {\"outcomeType\": 1, \"valueTowardsCompletion\": 0.3333333333333333, \"interactionType\": 1, \"questionType\": 1, \"questionId\": \"0.3_ZC\", \"learnToolsVersion\": \"0.3.5\", \"failureMessage\": \"\", \"exceptionClass\": \"\", \"trace\": \"\"}}, \"*\")"
      ],
      "text/plain": [
       "<IPython.core.display.Javascript object>"
      ]
     },
     "metadata": {},
     "output_type": "display_data"
    },
    {
     "data": {
      "text/markdown": [
       "<span style=\"color:#33cc33\">Correct:</span> \n",
       "\n",
       "Even though we use different syntax to create it, the string `c` is identical to `b`. In particular, note that the backslash is not part of the string, so it doesn't contribute to its length."
      ],
      "text/plain": [
       "Correct: \n",
       "\n",
       "Even though we use different syntax to create it, the string `c` is identical to `b`. In particular, note that the backslash is not part of the string, so it doesn't contribute to its length."
      ]
     },
     "metadata": {},
     "output_type": "display_data"
    }
   ],
   "source": [
    "c = 'it\\'s ok'\n",
    "length = len(c)\n",
    "q0.c.check()"
   ]
  },
  {
   "cell_type": "markdown",
   "id": "d8f0e076",
   "metadata": {
    "papermill": {
     "duration": 0.005158,
     "end_time": "2025-09-17T04:15:15.528820",
     "exception": false,
     "start_time": "2025-09-17T04:15:15.523662",
     "status": "completed"
    },
    "tags": []
   },
   "source": [
    "# 0d."
   ]
  },
  {
   "cell_type": "code",
   "execution_count": 5,
   "id": "53ce80f2",
   "metadata": {
    "execution": {
     "iopub.execute_input": "2025-09-17T04:15:15.541210Z",
     "iopub.status.busy": "2025-09-17T04:15:15.539860Z",
     "iopub.status.idle": "2025-09-17T04:15:15.548998Z",
     "shell.execute_reply": "2025-09-17T04:15:15.547941Z"
    },
    "papermill": {
     "duration": 0.016985,
     "end_time": "2025-09-17T04:15:15.550802",
     "exception": false,
     "start_time": "2025-09-17T04:15:15.533817",
     "status": "completed"
    },
    "tags": []
   },
   "outputs": [
    {
     "data": {
      "application/javascript": [
       "parent.postMessage({\"jupyterEvent\": \"custom.exercise_interaction\", \"data\": {\"outcomeType\": 1, \"valueTowardsCompletion\": 0.3333333333333333, \"interactionType\": 1, \"questionType\": 1, \"questionId\": \"0.4_ZD\", \"learnToolsVersion\": \"0.3.5\", \"failureMessage\": \"\", \"exceptionClass\": \"\", \"trace\": \"\"}}, \"*\")"
      ],
      "text/plain": [
       "<IPython.core.display.Javascript object>"
      ]
     },
     "metadata": {},
     "output_type": "display_data"
    },
    {
     "data": {
      "text/markdown": [
       "<span style=\"color:#33cc33\">Correct:</span> \n",
       "\n",
       "The fact that this string was created using triple-quote syntax doesn't make any difference in terms of its content or length. This string is exactly the same as `'hey'`."
      ],
      "text/plain": [
       "Correct: \n",
       "\n",
       "The fact that this string was created using triple-quote syntax doesn't make any difference in terms of its content or length. This string is exactly the same as `'hey'`."
      ]
     },
     "metadata": {},
     "output_type": "display_data"
    }
   ],
   "source": [
    "d = \"\"\"hey\"\"\"\n",
    "length = len(d)\n",
    "q0.d.check()"
   ]
  },
  {
   "cell_type": "markdown",
   "id": "900ba15c",
   "metadata": {
    "papermill": {
     "duration": 0.004924,
     "end_time": "2025-09-17T04:15:15.561077",
     "exception": false,
     "start_time": "2025-09-17T04:15:15.556153",
     "status": "completed"
    },
    "tags": []
   },
   "source": [
    "# 0e."
   ]
  },
  {
   "cell_type": "code",
   "execution_count": 6,
   "id": "1cb51084",
   "metadata": {
    "execution": {
     "iopub.execute_input": "2025-09-17T04:15:15.572202Z",
     "iopub.status.busy": "2025-09-17T04:15:15.571873Z",
     "iopub.status.idle": "2025-09-17T04:15:15.579703Z",
     "shell.execute_reply": "2025-09-17T04:15:15.578724Z"
    },
    "papermill": {
     "duration": 0.015411,
     "end_time": "2025-09-17T04:15:15.581345",
     "exception": false,
     "start_time": "2025-09-17T04:15:15.565934",
     "status": "completed"
    },
    "tags": []
   },
   "outputs": [
    {
     "data": {
      "application/javascript": [
       "parent.postMessage({\"jupyterEvent\": \"custom.exercise_interaction\", \"data\": {\"outcomeType\": 1, \"valueTowardsCompletion\": 0.3333333333333333, \"interactionType\": 1, \"questionType\": 1, \"questionId\": \"0.5_ZE\", \"learnToolsVersion\": \"0.3.5\", \"failureMessage\": \"\", \"exceptionClass\": \"\", \"trace\": \"\"}}, \"*\")"
      ],
      "text/plain": [
       "<IPython.core.display.Javascript object>"
      ]
     },
     "metadata": {},
     "output_type": "display_data"
    },
    {
     "data": {
      "text/markdown": [
       "<span style=\"color:#33cc33\">Correct:</span> \n",
       "\n",
       "The newline character is just a single character! (Even though we represent it to Python using a combination of two characters.)"
      ],
      "text/plain": [
       "Correct: \n",
       "\n",
       "The newline character is just a single character! (Even though we represent it to Python using a combination of two characters.)"
      ]
     },
     "metadata": {},
     "output_type": "display_data"
    }
   ],
   "source": [
    "e = '\\n'\n",
    "length = len(e)\n",
    "q0.e.check()"
   ]
  },
  {
   "cell_type": "markdown",
   "id": "2a0b542b",
   "metadata": {
    "papermill": {
     "duration": 0.004823,
     "end_time": "2025-09-17T04:15:15.591554",
     "exception": false,
     "start_time": "2025-09-17T04:15:15.586731",
     "status": "completed"
    },
    "tags": []
   },
   "source": [
    "# 1.\n",
    "\n",
    "There is a saying that \"Data scientists spend 80% of their time cleaning data, and 20% of their time complaining about cleaning data.\" Let's see if you can write a function to help clean US zip code data. Given a string, it should return whether or not that string represents a valid zip code. For our purposes, a valid zip code is any string consisting of exactly 5 digits.\n",
    "\n",
    "HINT: `str` has a method that will be useful here. Use `help(str)` to review a list of string methods."
   ]
  },
  {
   "cell_type": "code",
   "execution_count": 7,
   "id": "01257977",
   "metadata": {
    "execution": {
     "iopub.execute_input": "2025-09-17T04:15:15.602965Z",
     "iopub.status.busy": "2025-09-17T04:15:15.602687Z",
     "iopub.status.idle": "2025-09-17T04:15:15.610669Z",
     "shell.execute_reply": "2025-09-17T04:15:15.609686Z"
    },
    "papermill": {
     "duration": 0.015598,
     "end_time": "2025-09-17T04:15:15.612168",
     "exception": false,
     "start_time": "2025-09-17T04:15:15.596570",
     "status": "completed"
    },
    "tags": []
   },
   "outputs": [
    {
     "data": {
      "application/javascript": [
       "parent.postMessage({\"jupyterEvent\": \"custom.exercise_interaction\", \"data\": {\"outcomeType\": 1, \"valueTowardsCompletion\": 0.3333333333333333, \"interactionType\": 1, \"questionType\": 2, \"questionId\": \"1_ZipValidator\", \"learnToolsVersion\": \"0.3.5\", \"failureMessage\": \"\", \"exceptionClass\": \"\", \"trace\": \"\"}}, \"*\")"
      ],
      "text/plain": [
       "<IPython.core.display.Javascript object>"
      ]
     },
     "metadata": {},
     "output_type": "display_data"
    },
    {
     "data": {
      "text/markdown": [
       "<span style=\"color:#33cc33\">Correct</span>"
      ],
      "text/plain": [
       "Correct"
      ]
     },
     "metadata": {},
     "output_type": "display_data"
    }
   ],
   "source": [
    "def is_valid_zip(zip_code):\n",
    "    \"\"\"Returns whether the input string is a valid (5 digit) zip code\n",
    "    \"\"\"\n",
    "    return len(zip_code) == 5 and zip_code.isdigit()\n",
    "\n",
    "# Check your answer\n",
    "q1.check()"
   ]
  },
  {
   "cell_type": "code",
   "execution_count": 8,
   "id": "79425c66",
   "metadata": {
    "execution": {
     "iopub.execute_input": "2025-09-17T04:15:15.624178Z",
     "iopub.status.busy": "2025-09-17T04:15:15.623875Z",
     "iopub.status.idle": "2025-09-17T04:15:15.629944Z",
     "shell.execute_reply": "2025-09-17T04:15:15.628820Z"
    },
    "papermill": {
     "duration": 0.014131,
     "end_time": "2025-09-17T04:15:15.631627",
     "exception": false,
     "start_time": "2025-09-17T04:15:15.617496",
     "status": "completed"
    },
    "tags": []
   },
   "outputs": [
    {
     "name": "stdout",
     "output_type": "stream",
     "text": [
      "Help on method_descriptor:\n",
      "\n",
      "isdigit(self, /) unbound builtins.str method\n",
      "    Return True if the string is a digit string, False otherwise.\n",
      "    \n",
      "    A string is a digit string if all characters in the string are digits and there\n",
      "    is at least one character in the string.\n",
      "\n"
     ]
    }
   ],
   "source": [
    "help(str.isdigit)"
   ]
  },
  {
   "cell_type": "code",
   "execution_count": 9,
   "id": "fd16520c",
   "metadata": {
    "execution": {
     "iopub.execute_input": "2025-09-17T04:15:15.643892Z",
     "iopub.status.busy": "2025-09-17T04:15:15.643591Z",
     "iopub.status.idle": "2025-09-17T04:15:15.647880Z",
     "shell.execute_reply": "2025-09-17T04:15:15.646937Z"
    },
    "papermill": {
     "duration": 0.012124,
     "end_time": "2025-09-17T04:15:15.649321",
     "exception": false,
     "start_time": "2025-09-17T04:15:15.637197",
     "status": "completed"
    },
    "tags": []
   },
   "outputs": [],
   "source": [
    "#q1.hint()\n",
    "#q1.solution()"
   ]
  },
  {
   "cell_type": "markdown",
   "id": "c66348a1",
   "metadata": {
    "papermill": {
     "duration": 0.004972,
     "end_time": "2025-09-17T04:15:15.659701",
     "exception": false,
     "start_time": "2025-09-17T04:15:15.654729",
     "status": "completed"
    },
    "tags": []
   },
   "source": [
    "# 2.\n",
    "\n",
    "A researcher has gathered thousands of news articles. But she wants to focus her attention on articles including a specific word. Complete the function below to help her filter her list of articles.\n",
    "\n",
    "Your function should meet the following criteria:\n",
    "\n",
    "- Do not include documents where the keyword string shows up only as a part of a larger word. For example, if she were looking for the keyword “closed”, you would not include the string “enclosed.” \n",
    "- She does not want you to distinguish upper case from lower case letters. So the phrase “Closed the case.” would be included when the keyword is “closed”\n",
    "- Do not let periods or commas affect what is matched. “It is closed.” would be included when the keyword is “closed”. But you can assume there are no other types of punctuation."
   ]
  },
  {
   "cell_type": "code",
   "execution_count": 10,
   "id": "0ba0f923",
   "metadata": {
    "execution": {
     "iopub.execute_input": "2025-09-17T04:15:15.671204Z",
     "iopub.status.busy": "2025-09-17T04:15:15.670862Z",
     "iopub.status.idle": "2025-09-17T04:15:15.679808Z",
     "shell.execute_reply": "2025-09-17T04:15:15.678677Z"
    },
    "papermill": {
     "duration": 0.016431,
     "end_time": "2025-09-17T04:15:15.681221",
     "exception": false,
     "start_time": "2025-09-17T04:15:15.664790",
     "status": "completed"
    },
    "tags": []
   },
   "outputs": [
    {
     "data": {
      "application/javascript": [
       "parent.postMessage({\"jupyterEvent\": \"custom.exercise_interaction\", \"data\": {\"outcomeType\": 1, \"valueTowardsCompletion\": 0.3333333333333333, \"interactionType\": 1, \"questionType\": 2, \"questionId\": \"2_WordSearch\", \"learnToolsVersion\": \"0.3.5\", \"failureMessage\": \"\", \"exceptionClass\": \"\", \"trace\": \"\"}}, \"*\")"
      ],
      "text/plain": [
       "<IPython.core.display.Javascript object>"
      ]
     },
     "metadata": {},
     "output_type": "display_data"
    },
    {
     "data": {
      "text/markdown": [
       "<span style=\"color:#33cc33\">Correct</span>"
      ],
      "text/plain": [
       "Correct"
      ]
     },
     "metadata": {},
     "output_type": "display_data"
    }
   ],
   "source": [
    "def word_search(doc_list, keyword):\n",
    "    \"\"\"\n",
    "    Takes a list of documents (each document is a string) and a keyword. \n",
    "    Returns list of the index values into the original list for all documents \n",
    "    containing the keyword.\n",
    "\n",
    "    Example:\n",
    "    doc_list = [\"The Learn Python Challenge Casino.\", \"They bought a car\", \"Casinoville\"]\n",
    "    >>> word_search(doc_list, 'casino')\n",
    "    >>> [0]\n",
    "    \"\"\"\n",
    "    fill_up = []\n",
    "    for d, doc in enumerate(doc_list):\n",
    "        tokens = doc.split()\n",
    "        normalised = [token.rstrip('.,').lower() for token in tokens]\n",
    "        if keyword.lower() in normalised:\n",
    "            fill_up.append(d)\n",
    "    return fill_up\n",
    "\n",
    "# Check your answer\n",
    "q2.check()"
   ]
  },
  {
   "cell_type": "code",
   "execution_count": 11,
   "id": "0606f52d",
   "metadata": {
    "execution": {
     "iopub.execute_input": "2025-09-17T04:15:15.693827Z",
     "iopub.status.busy": "2025-09-17T04:15:15.693411Z",
     "iopub.status.idle": "2025-09-17T04:15:15.697625Z",
     "shell.execute_reply": "2025-09-17T04:15:15.696700Z"
    },
    "papermill": {
     "duration": 0.012285,
     "end_time": "2025-09-17T04:15:15.699239",
     "exception": false,
     "start_time": "2025-09-17T04:15:15.686954",
     "status": "completed"
    },
    "tags": []
   },
   "outputs": [],
   "source": [
    "#q2.hint()\n",
    "#q2.solution()"
   ]
  },
  {
   "cell_type": "markdown",
   "id": "6399db43",
   "metadata": {
    "papermill": {
     "duration": 0.005671,
     "end_time": "2025-09-17T04:15:15.710503",
     "exception": false,
     "start_time": "2025-09-17T04:15:15.704832",
     "status": "completed"
    },
    "tags": []
   },
   "source": [
    "# 3.\n",
    "\n",
    "Now the researcher wants to supply multiple keywords to search for. Complete the function below to help her.\n",
    "\n",
    "(You're encouraged to use the `word_search` function you just wrote when implementing this function. Reusing code in this way makes your programs more robust and readable - and it saves typing!)"
   ]
  },
  {
   "cell_type": "code",
   "execution_count": 12,
   "id": "4c5ad379",
   "metadata": {
    "execution": {
     "iopub.execute_input": "2025-09-17T04:15:15.722975Z",
     "iopub.status.busy": "2025-09-17T04:15:15.722599Z",
     "iopub.status.idle": "2025-09-17T04:15:15.730778Z",
     "shell.execute_reply": "2025-09-17T04:15:15.729845Z"
    },
    "papermill": {
     "duration": 0.016143,
     "end_time": "2025-09-17T04:15:15.732309",
     "exception": false,
     "start_time": "2025-09-17T04:15:15.716166",
     "status": "completed"
    },
    "tags": []
   },
   "outputs": [
    {
     "data": {
      "application/javascript": [
       "parent.postMessage({\"jupyterEvent\": \"custom.exercise_interaction\", \"data\": {\"outcomeType\": 1, \"valueTowardsCompletion\": 0.3333333333333333, \"interactionType\": 1, \"questionType\": 2, \"questionId\": \"3_MultiWordSearch\", \"learnToolsVersion\": \"0.3.5\", \"failureMessage\": \"\", \"exceptionClass\": \"\", \"trace\": \"\"}}, \"*\")"
      ],
      "text/plain": [
       "<IPython.core.display.Javascript object>"
      ]
     },
     "metadata": {},
     "output_type": "display_data"
    },
    {
     "data": {
      "text/markdown": [
       "<span style=\"color:#33cc33\">Correct</span>"
      ],
      "text/plain": [
       "Correct"
      ]
     },
     "metadata": {},
     "output_type": "display_data"
    }
   ],
   "source": [
    "def multi_word_search(doc_list, keywords):\n",
    "    \"\"\"\n",
    "    Takes list of documents (each document is a string) and a list of keywords.  \n",
    "    Returns a dictionary where each key is a keyword, and the value is a list of indices\n",
    "    (from doc_list) of the documents containing that keyword\n",
    "\n",
    "    >>> doc_list = [\"The Learn Python Challenge Casino.\", \"They bought a car and a casino\", \"Casinoville\"]\n",
    "    >>> keywords = ['casino', 'they']\n",
    "    >>> multi_word_search(doc_list, keywords)\n",
    "    {'casino': [0, 1], 'they': [1]}\n",
    "    \"\"\"\n",
    "    keyword_indices = {}\n",
    "    for key in keywords:\n",
    "        keyword_indices[key] = word_search(doc_list, key)\n",
    "    return keyword_indices\n",
    "# Check your answer\n",
    "q3.check()"
   ]
  },
  {
   "cell_type": "code",
   "execution_count": 13,
   "id": "c7a33daa",
   "metadata": {
    "execution": {
     "iopub.execute_input": "2025-09-17T04:15:15.745633Z",
     "iopub.status.busy": "2025-09-17T04:15:15.745346Z",
     "iopub.status.idle": "2025-09-17T04:15:15.749404Z",
     "shell.execute_reply": "2025-09-17T04:15:15.748550Z"
    },
    "papermill": {
     "duration": 0.012259,
     "end_time": "2025-09-17T04:15:15.750922",
     "exception": false,
     "start_time": "2025-09-17T04:15:15.738663",
     "status": "completed"
    },
    "tags": []
   },
   "outputs": [],
   "source": [
    "#q3.solution()"
   ]
  },
  {
   "cell_type": "markdown",
   "id": "7e059b46",
   "metadata": {
    "papermill": {
     "duration": 0.005379,
     "end_time": "2025-09-17T04:15:15.761898",
     "exception": false,
     "start_time": "2025-09-17T04:15:15.756519",
     "status": "completed"
    },
    "tags": []
   },
   "source": [
    "# Keep Going\n",
    "\n",
    "You've learned a lot. But even the best programmers rely heavily on \"libraries\" of code from other programmers. You'll learn about that in **[the last lesson](https://www.kaggle.com/colinmorris/working-with-external-libraries)**.\n"
   ]
  },
  {
   "cell_type": "markdown",
   "id": "92b56d03",
   "metadata": {
    "papermill": {
     "duration": 0.005321,
     "end_time": "2025-09-17T04:15:15.772905",
     "exception": false,
     "start_time": "2025-09-17T04:15:15.767584",
     "status": "completed"
    },
    "tags": []
   },
   "source": [
    "---\n",
    "\n",
    "\n",
    "\n",
    "\n",
    "*Have questions or comments? Visit the [course discussion forum](https://www.kaggle.com/learn/python/discussion) to chat with other learners.*"
   ]
  }
 ],
 "metadata": {
  "kaggle": {
   "accelerator": "none",
   "dataSources": [],
   "isGpuEnabled": false,
   "isInternetEnabled": false,
   "language": "python",
   "sourceType": "notebook"
  },
  "kernelspec": {
   "display_name": "Python 3",
   "language": "python",
   "name": "python3"
  },
  "language_info": {
   "codemirror_mode": {
    "name": "ipython",
    "version": 3
   },
   "file_extension": ".py",
   "mimetype": "text/x-python",
   "name": "python",
   "nbconvert_exporter": "python",
   "pygments_lexer": "ipython3",
   "version": "3.11.13"
  },
  "learntools_metadata": {
   "lesson_index": 5,
   "type": "exercise"
  },
  "papermill": {
   "default_parameters": {},
   "duration": 8.955928,
   "end_time": "2025-09-17T04:15:16.298062",
   "environment_variables": {},
   "exception": null,
   "input_path": "__notebook__.ipynb",
   "output_path": "__notebook__.ipynb",
   "parameters": {},
   "start_time": "2025-09-17T04:15:07.342134",
   "version": "2.6.0"
  }
 },
 "nbformat": 4,
 "nbformat_minor": 5
}
