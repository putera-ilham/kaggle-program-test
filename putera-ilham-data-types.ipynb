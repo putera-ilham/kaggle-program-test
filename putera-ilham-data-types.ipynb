{
 "cells": [
  {
   "cell_type": "markdown",
   "id": "683de0af",
   "metadata": {
    "papermill": {
     "duration": 0.005312,
     "end_time": "2025-09-10T08:00:47.892679",
     "exception": false,
     "start_time": "2025-09-10T08:00:47.887367",
     "status": "completed"
    },
    "tags": []
   },
   "source": [
    "**This notebook is an exercise in the [Intro to Programming](https://www.kaggle.com/learn/intro-to-programming) course.  You can reference the tutorial at [this link](https://www.kaggle.com/alexisbcook/data-types).**\n",
    "\n",
    "---\n"
   ]
  },
  {
   "cell_type": "markdown",
   "id": "c7a54a44",
   "metadata": {
    "papermill": {
     "duration": 0.004069,
     "end_time": "2025-09-10T08:00:47.901163",
     "exception": false,
     "start_time": "2025-09-10T08:00:47.897094",
     "status": "completed"
    },
    "tags": []
   },
   "source": [
    "In the tutorial, you learned about four different data types: floats, integers, strings, and booleans.  In this exercise, you'll experiment with them.\n",
    "\n",
    "# Set up the notebook\n",
    "\n",
    "Run the next code cell without changes to set up the notebook."
   ]
  },
  {
   "cell_type": "code",
   "execution_count": 1,
   "id": "02abd72f",
   "metadata": {
    "execution": {
     "iopub.execute_input": "2025-09-10T08:00:47.910663Z",
     "iopub.status.busy": "2025-09-10T08:00:47.910366Z",
     "iopub.status.idle": "2025-09-10T08:00:49.801293Z",
     "shell.execute_reply": "2025-09-10T08:00:49.800328Z"
    },
    "papermill": {
     "duration": 1.897443,
     "end_time": "2025-09-10T08:00:49.802747",
     "exception": false,
     "start_time": "2025-09-10T08:00:47.905304",
     "status": "completed"
    },
    "tags": []
   },
   "outputs": [
    {
     "name": "stdout",
     "output_type": "stream",
     "text": [
      "Setup complete.\n"
     ]
    }
   ],
   "source": [
    "# Set up the exercise\n",
    "from learntools.core import binder\n",
    "binder.bind(globals())\n",
    "from learntools.intro_to_programming.ex3 import *\n",
    "print('Setup complete.')"
   ]
  },
  {
   "cell_type": "markdown",
   "id": "85f21c89",
   "metadata": {
    "papermill": {
     "duration": 0.00417,
     "end_time": "2025-09-10T08:00:49.811676",
     "exception": false,
     "start_time": "2025-09-10T08:00:49.807506",
     "status": "completed"
    },
    "tags": []
   },
   "source": [
    "# Question 1\n",
    "\n",
    "You have seen how to convert a float to an integer with the `int` function.  Try this out yourself by running the code cell below."
   ]
  },
  {
   "cell_type": "code",
   "execution_count": 2,
   "id": "6b93fb2e",
   "metadata": {
    "execution": {
     "iopub.execute_input": "2025-09-10T08:00:49.821650Z",
     "iopub.status.busy": "2025-09-10T08:00:49.821270Z",
     "iopub.status.idle": "2025-09-10T08:00:49.826350Z",
     "shell.execute_reply": "2025-09-10T08:00:49.825461Z"
    },
    "papermill": {
     "duration": 0.011808,
     "end_time": "2025-09-10T08:00:49.827791",
     "exception": false,
     "start_time": "2025-09-10T08:00:49.815983",
     "status": "completed"
    },
    "tags": []
   },
   "outputs": [
    {
     "name": "stdout",
     "output_type": "stream",
     "text": [
      "1.0\n",
      "<class 'float'>\n",
      "1\n",
      "<class 'int'>\n"
     ]
    }
   ],
   "source": [
    "# Define a float\n",
    "y = 1.\n",
    "print(y)\n",
    "print(type(y))\n",
    "\n",
    "# Convert float to integer with the int function\n",
    "z = int(y)\n",
    "print(z)\n",
    "print(type(z))"
   ]
  },
  {
   "cell_type": "markdown",
   "id": "27e04186",
   "metadata": {
    "papermill": {
     "duration": 0.004148,
     "end_time": "2025-09-10T08:00:49.836522",
     "exception": false,
     "start_time": "2025-09-10T08:00:49.832374",
     "status": "completed"
    },
    "tags": []
   },
   "source": [
    "In this case, the float you are using has no numbers after the decimal.  \n",
    "- But what happens when you try to convert a float with a fractional part to an integer?  \n",
    "- How does the outcome of the `int` function change for positive and negative numbers?\n",
    "\n",
    "Use the next code cell to investigate and answer these questions.  Feel free to add or remove any lines of code -- it is your workspace!"
   ]
  },
  {
   "cell_type": "code",
   "execution_count": 3,
   "id": "f91774dd",
   "metadata": {
    "execution": {
     "iopub.execute_input": "2025-09-10T08:00:49.846985Z",
     "iopub.status.busy": "2025-09-10T08:00:49.846198Z",
     "iopub.status.idle": "2025-09-10T08:00:49.851597Z",
     "shell.execute_reply": "2025-09-10T08:00:49.850515Z"
    },
    "papermill": {
     "duration": 0.012146,
     "end_time": "2025-09-10T08:00:49.853020",
     "exception": false,
     "start_time": "2025-09-10T08:00:49.840874",
     "status": "completed"
    },
    "tags": []
   },
   "outputs": [
    {
     "name": "stdout",
     "output_type": "stream",
     "text": [
      "1\n",
      "1\n",
      "-3\n",
      "-2\n"
     ]
    }
   ],
   "source": [
    "# Uncomment and run this code to get started!\n",
    "print(int(1.2321))\n",
    "print(int(1.747))\n",
    "print(int(-3.94535))\n",
    "print(int(-2.19774))"
   ]
  },
  {
   "cell_type": "markdown",
   "id": "51307526",
   "metadata": {
    "papermill": {
     "duration": 0.005099,
     "end_time": "2025-09-10T08:00:49.862787",
     "exception": false,
     "start_time": "2025-09-10T08:00:49.857688",
     "status": "completed"
    },
    "tags": []
   },
   "source": [
    "Once you have an answer, run the code cell below to see the solution.  Viewing the solution will give you credit for answering the problem."
   ]
  },
  {
   "cell_type": "code",
   "execution_count": 4,
   "id": "c4405c45",
   "metadata": {
    "execution": {
     "iopub.execute_input": "2025-09-10T08:00:49.873320Z",
     "iopub.status.busy": "2025-09-10T08:00:49.872581Z",
     "iopub.status.idle": "2025-09-10T08:00:49.880370Z",
     "shell.execute_reply": "2025-09-10T08:00:49.879670Z"
    },
    "papermill": {
     "duration": 0.014357,
     "end_time": "2025-09-10T08:00:49.881580",
     "exception": false,
     "start_time": "2025-09-10T08:00:49.867223",
     "status": "completed"
    },
    "tags": []
   },
   "outputs": [
    {
     "data": {
      "application/javascript": [
       "parent.postMessage({\"jupyterEvent\": \"custom.exercise_interaction\", \"data\": {\"outcomeType\": 1, \"valueTowardsCompletion\": 0.2, \"interactionType\": 1, \"questionType\": 4, \"questionId\": \"1_FloatToInt\", \"learnToolsVersion\": \"0.3.5\", \"failureMessage\": \"\", \"exceptionClass\": \"\", \"trace\": \"\"}}, \"*\")"
      ],
      "text/plain": [
       "<IPython.core.display.Javascript object>"
      ]
     },
     "metadata": {},
     "output_type": "display_data"
    },
    {
     "data": {
      "text/markdown": [
       "<span style=\"color:#33cc33\">Correct:</span> \n",
       "\n",
       "Negative floats are always rounded UP to the closest integer (for instance, both -1.1 and -1.9 are rounded up to -1). Positive floats are always rounded DOWN to the closest integer (for instance, 2.1 and 2.9 are rounded down to 2)."
      ],
      "text/plain": [
       "Correct: \n",
       "\n",
       "Negative floats are always rounded UP to the closest integer (for instance, both -1.1 and -1.9 are rounded up to -1). Positive floats are always rounded DOWN to the closest integer (for instance, 2.1 and 2.9 are rounded down to 2)."
      ]
     },
     "metadata": {},
     "output_type": "display_data"
    }
   ],
   "source": [
    "# Check your answer (Run this code cell to receive credit!)\n",
    "q1.check()"
   ]
  },
  {
   "cell_type": "markdown",
   "id": "836b5335",
   "metadata": {
    "papermill": {
     "duration": 0.004429,
     "end_time": "2025-09-10T08:00:49.891003",
     "exception": false,
     "start_time": "2025-09-10T08:00:49.886574",
     "status": "completed"
    },
    "tags": []
   },
   "source": [
    "# Question 2\n",
    "\n",
    "In the tutorial, you learned about booleans (which can take a value of `True` or `False`), in addition to integers, floats, and strings.  For this question, your goal is to determine what happens when you multiply a boolean by any of these data types.  Specifically, \n",
    "- What happens when you multiply an integer or float by `True`?  What happens when you multiply them by `False`?  How does the answer change if the numbers are positive or negative?\n",
    "- What happens when you multiply a string by `True`?  By `False`?\n",
    "\n",
    "Use the next code cell for your investigation. "
   ]
  },
  {
   "cell_type": "code",
   "execution_count": 5,
   "id": "6ae5f92e",
   "metadata": {
    "execution": {
     "iopub.execute_input": "2025-09-10T08:00:49.901733Z",
     "iopub.status.busy": "2025-09-10T08:00:49.901022Z",
     "iopub.status.idle": "2025-09-10T08:00:49.905932Z",
     "shell.execute_reply": "2025-09-10T08:00:49.905085Z"
    },
    "papermill": {
     "duration": 0.01167,
     "end_time": "2025-09-10T08:00:49.907262",
     "exception": false,
     "start_time": "2025-09-10T08:00:49.895592",
     "status": "completed"
    },
    "tags": []
   },
   "outputs": [
    {
     "name": "stdout",
     "output_type": "stream",
     "text": [
      "3\n",
      "-3.1\n",
      "<class 'str'>\n",
      "0\n"
     ]
    }
   ],
   "source": [
    "# Uncomment and run this code to get started!\n",
    "print(3 * True)\n",
    "print(-3.1 * True)\n",
    "print(type(\"abc\" * False))\n",
    "print(len(\"abc\" * False))"
   ]
  },
  {
   "cell_type": "markdown",
   "id": "b31a5a12",
   "metadata": {
    "papermill": {
     "duration": 0.004361,
     "end_time": "2025-09-10T08:00:49.916313",
     "exception": false,
     "start_time": "2025-09-10T08:00:49.911952",
     "status": "completed"
    },
    "tags": []
   },
   "source": [
    "Once you have an answer, run the code cell below to see the solution.  Viewing the solution will give you credit for answering the problem."
   ]
  },
  {
   "cell_type": "code",
   "execution_count": 6,
   "id": "6e7e9470",
   "metadata": {
    "execution": {
     "iopub.execute_input": "2025-09-10T08:00:49.927061Z",
     "iopub.status.busy": "2025-09-10T08:00:49.926307Z",
     "iopub.status.idle": "2025-09-10T08:00:49.933288Z",
     "shell.execute_reply": "2025-09-10T08:00:49.932330Z"
    },
    "papermill": {
     "duration": 0.01377,
     "end_time": "2025-09-10T08:00:49.934610",
     "exception": false,
     "start_time": "2025-09-10T08:00:49.920840",
     "status": "completed"
    },
    "tags": []
   },
   "outputs": [
    {
     "data": {
      "application/javascript": [
       "parent.postMessage({\"jupyterEvent\": \"custom.exercise_interaction\", \"data\": {\"outcomeType\": 1, \"valueTowardsCompletion\": 0.2, \"interactionType\": 1, \"questionType\": 4, \"questionId\": \"2_MultiplyBooleans\", \"learnToolsVersion\": \"0.3.5\", \"failureMessage\": \"\", \"exceptionClass\": \"\", \"trace\": \"\"}}, \"*\")"
      ],
      "text/plain": [
       "<IPython.core.display.Javascript object>"
      ]
     },
     "metadata": {},
     "output_type": "display_data"
    },
    {
     "data": {
      "text/markdown": [
       "<span style=\"color:#33cc33\">Correct:</span> \n",
       "\n",
       "When you multiple an integer or float by a boolean with value `True`, it just returns that same integer or float (and is equivalent to multiplying by 1).  If you multiply an integer or float by a boolean with value `False`, it always returns 0.  This is true for both positive and negative numbers.  If you multiply a string by a boolean with value `True`, it just returns that same string.  And if you multiply a string by a boolean with value `False`, it returns an empty string (or a string with length zero)."
      ],
      "text/plain": [
       "Correct: \n",
       "\n",
       "When you multiple an integer or float by a boolean with value `True`, it just returns that same integer or float (and is equivalent to multiplying by 1).  If you multiply an integer or float by a boolean with value `False`, it always returns 0.  This is true for both positive and negative numbers.  If you multiply a string by a boolean with value `True`, it just returns that same string.  And if you multiply a string by a boolean with value `False`, it returns an empty string (or a string with length zero)."
      ]
     },
     "metadata": {},
     "output_type": "display_data"
    }
   ],
   "source": [
    "# Check your answer (Run this code cell to receive credit!)\n",
    "q2.check()"
   ]
  },
  {
   "cell_type": "markdown",
   "id": "7fa919ca",
   "metadata": {
    "papermill": {
     "duration": 0.004639,
     "end_time": "2025-09-10T08:00:49.944438",
     "exception": false,
     "start_time": "2025-09-10T08:00:49.939799",
     "status": "completed"
    },
    "tags": []
   },
   "source": [
    "# Question 3\n",
    "\n",
    "In this question, you will build off your work from the previous exercise to write a function that estimates the value of a house.\n",
    "\n",
    "Use the next code cell to create a function `get_expected_cost` that takes as input three variables:\n",
    "- `beds` - number of bedrooms (data type float)\n",
    "- `baths` - number of bathrooms (data type float)\n",
    "- `has_basement` - whether or not the house has a basement (data type boolean)\n",
    "\n",
    "It should return the expected cost of a house with those characteristics. Assume that:\n",
    "- the expected cost for a house with 0 bedrooms and 0 bathrooms, and no basement is 80000, \n",
    "- each bedroom adds 30000 to the expected cost,\n",
    "- each bathroom adds 10000 to the expected cost, and\n",
    "- a basement adds 40000 to the expected cost.\n",
    "\n",
    "For instance,\n",
    "- a house with 1 bedroom, 1 bathroom, and no basement has an expected cost of 80000 + 30000 + 10000 = 120000.  This value will be calculated with `get_expected_cost(1, 1, False)`.\n",
    "- a house with 2 bedrooms, 1 bathroom, and a basement has an expected cost of 80000 + 2*30000 + 10000 + 40000 = 190000.  This value will be calculated with `get_expected_cost(2, 1, True)`.\n",
    "\n",
    "Remember you can always get a hint by uncommenting `q3.hint()` in the code cell following the next!"
   ]
  },
  {
   "cell_type": "code",
   "execution_count": 7,
   "id": "7c2a95d0",
   "metadata": {
    "execution": {
     "iopub.execute_input": "2025-09-10T08:00:49.955362Z",
     "iopub.status.busy": "2025-09-10T08:00:49.955042Z",
     "iopub.status.idle": "2025-09-10T08:00:49.962610Z",
     "shell.execute_reply": "2025-09-10T08:00:49.961812Z"
    },
    "papermill": {
     "duration": 0.014642,
     "end_time": "2025-09-10T08:00:49.964056",
     "exception": false,
     "start_time": "2025-09-10T08:00:49.949414",
     "status": "completed"
    },
    "tags": []
   },
   "outputs": [
    {
     "data": {
      "application/javascript": [
       "parent.postMessage({\"jupyterEvent\": \"custom.exercise_interaction\", \"data\": {\"outcomeType\": 1, \"valueTowardsCompletion\": 0.2, \"interactionType\": 1, \"questionType\": 2, \"questionId\": \"3_EstimateHouseValueBool\", \"learnToolsVersion\": \"0.3.5\", \"failureMessage\": \"\", \"exceptionClass\": \"\", \"trace\": \"\"}}, \"*\")"
      ],
      "text/plain": [
       "<IPython.core.display.Javascript object>"
      ]
     },
     "metadata": {},
     "output_type": "display_data"
    },
    {
     "data": {
      "text/markdown": [
       "<span style=\"color:#33cc33\">Correct</span>"
      ],
      "text/plain": [
       "Correct"
      ]
     },
     "metadata": {},
     "output_type": "display_data"
    }
   ],
   "source": [
    "# TODO: Complete the function\n",
    "def get_expected_cost(beds, baths, has_basement):\n",
    "    value = 80000 + 30000 * beds + 10000 * baths + 40000 * has_basement\n",
    "    return value\n",
    "\n",
    "# Check your answer \n",
    "q3.check()"
   ]
  },
  {
   "cell_type": "code",
   "execution_count": 8,
   "id": "31b40807",
   "metadata": {
    "execution": {
     "iopub.execute_input": "2025-09-10T08:00:49.975552Z",
     "iopub.status.busy": "2025-09-10T08:00:49.975287Z",
     "iopub.status.idle": "2025-09-10T08:00:49.984344Z",
     "shell.execute_reply": "2025-09-10T08:00:49.983553Z"
    },
    "papermill": {
     "duration": 0.016407,
     "end_time": "2025-09-10T08:00:49.985835",
     "exception": false,
     "start_time": "2025-09-10T08:00:49.969428",
     "status": "completed"
    },
    "tags": []
   },
   "outputs": [
    {
     "data": {
      "application/javascript": [
       "parent.postMessage({\"jupyterEvent\": \"custom.exercise_interaction\", \"data\": {\"interactionType\": 2, \"questionType\": 2, \"questionId\": \"3_EstimateHouseValueBool\", \"learnToolsVersion\": \"0.3.5\", \"valueTowardsCompletion\": 0.0, \"failureMessage\": \"\", \"exceptionClass\": \"\", \"trace\": \"\", \"outcomeType\": 4}}, \"*\")"
      ],
      "text/plain": [
       "<IPython.core.display.Javascript object>"
      ]
     },
     "metadata": {},
     "output_type": "display_data"
    },
    {
     "data": {
      "text/markdown": [
       "<span style=\"color:#3366cc\">Hint:</span> The variable `has_basement` is either `True` or `False`.  What happens when you multiply it by 40000 (the value of a basement)?  Refer to the previous question if you are unsure."
      ],
      "text/plain": [
       "Hint: The variable `has_basement` is either `True` or `False`.  What happens when you multiply it by 40000 (the value of a basement)?  Refer to the previous question if you are unsure."
      ]
     },
     "metadata": {},
     "output_type": "display_data"
    },
    {
     "data": {
      "application/javascript": [
       "parent.postMessage({\"jupyterEvent\": \"custom.exercise_interaction\", \"data\": {\"interactionType\": 3, \"questionType\": 2, \"questionId\": \"3_EstimateHouseValueBool\", \"learnToolsVersion\": \"0.3.5\", \"valueTowardsCompletion\": 0.0, \"failureMessage\": \"\", \"exceptionClass\": \"\", \"trace\": \"\", \"outcomeType\": 4}}, \"*\")"
      ],
      "text/plain": [
       "<IPython.core.display.Javascript object>"
      ]
     },
     "metadata": {},
     "output_type": "display_data"
    },
    {
     "data": {
      "text/markdown": [
       "<span style=\"color:#33cc99\">Solution:</span> \n",
       "```python\n",
       "def get_expected_cost(beds, baths, has_basement):\n",
       "    value = 80000 + 30000 * beds + 10000 * baths + 40000 * has_basement\n",
       "    return value\n",
       "\n",
       "```"
      ],
      "text/plain": [
       "Solution: \n",
       "```python\n",
       "def get_expected_cost(beds, baths, has_basement):\n",
       "    value = 80000 + 30000 * beds + 10000 * baths + 40000 * has_basement\n",
       "    return value\n",
       "\n",
       "```"
      ]
     },
     "metadata": {},
     "output_type": "display_data"
    }
   ],
   "source": [
    "# Uncomment to see a hint\n",
    "q3.hint()\n",
    "\n",
    "# Uncomment to view the solution\n",
    "q3.solution()"
   ]
  },
  {
   "cell_type": "markdown",
   "id": "f240022f",
   "metadata": {
    "papermill": {
     "duration": 0.0053,
     "end_time": "2025-09-10T08:00:49.996681",
     "exception": false,
     "start_time": "2025-09-10T08:00:49.991381",
     "status": "completed"
    },
    "tags": []
   },
   "source": [
    "# Question 4\n",
    "\n",
    "We'll continue our study of boolean arithmetic.  For this question, your task is to provide a description of what happpens when you add booleans. \n",
    "\n",
    "Use the next code cell for your investigation.  Feel free to add or remove any lines of code - use it as your workspace!"
   ]
  },
  {
   "cell_type": "code",
   "execution_count": 9,
   "id": "efe2de24",
   "metadata": {
    "execution": {
     "iopub.execute_input": "2025-09-10T08:00:50.008674Z",
     "iopub.status.busy": "2025-09-10T08:00:50.008382Z",
     "iopub.status.idle": "2025-09-10T08:00:50.013419Z",
     "shell.execute_reply": "2025-09-10T08:00:50.012548Z"
    },
    "papermill": {
     "duration": 0.012577,
     "end_time": "2025-09-10T08:00:50.014677",
     "exception": false,
     "start_time": "2025-09-10T08:00:50.002100",
     "status": "completed"
    },
    "tags": []
   },
   "outputs": [
    {
     "name": "stdout",
     "output_type": "stream",
     "text": [
      "0\n",
      "1\n",
      "1\n",
      "2\n",
      "3\n"
     ]
    }
   ],
   "source": [
    "print(False + False)\n",
    "print(True + False)\n",
    "print(False + True)\n",
    "print(True + True)\n",
    "print(False + True + True + True)"
   ]
  },
  {
   "cell_type": "markdown",
   "id": "34f3cd15",
   "metadata": {
    "papermill": {
     "duration": 0.005222,
     "end_time": "2025-09-10T08:00:50.025603",
     "exception": false,
     "start_time": "2025-09-10T08:00:50.020381",
     "status": "completed"
    },
    "tags": []
   },
   "source": [
    "Once you have an answer, run the code cell below to see the solution.  Viewing the solution will give you credit for answering the problem."
   ]
  },
  {
   "cell_type": "code",
   "execution_count": 10,
   "id": "22311687",
   "metadata": {
    "execution": {
     "iopub.execute_input": "2025-09-10T08:00:50.038290Z",
     "iopub.status.busy": "2025-09-10T08:00:50.037473Z",
     "iopub.status.idle": "2025-09-10T08:00:50.044425Z",
     "shell.execute_reply": "2025-09-10T08:00:50.043604Z"
    },
    "papermill": {
     "duration": 0.014699,
     "end_time": "2025-09-10T08:00:50.045801",
     "exception": false,
     "start_time": "2025-09-10T08:00:50.031102",
     "status": "completed"
    },
    "tags": []
   },
   "outputs": [
    {
     "data": {
      "application/javascript": [
       "parent.postMessage({\"jupyterEvent\": \"custom.exercise_interaction\", \"data\": {\"outcomeType\": 1, \"valueTowardsCompletion\": 0.2, \"interactionType\": 1, \"questionType\": 4, \"questionId\": \"4_AddingBooleans\", \"learnToolsVersion\": \"0.3.5\", \"failureMessage\": \"\", \"exceptionClass\": \"\", \"trace\": \"\"}}, \"*\")"
      ],
      "text/plain": [
       "<IPython.core.display.Javascript object>"
      ]
     },
     "metadata": {},
     "output_type": "display_data"
    },
    {
     "data": {
      "text/markdown": [
       "<span style=\"color:#33cc33\">Correct:</span> \n",
       "\n",
       "When you add booleans, adding `False` is equivalent to adding 0, and adding `True` is equivalent to adding 1."
      ],
      "text/plain": [
       "Correct: \n",
       "\n",
       "When you add booleans, adding `False` is equivalent to adding 0, and adding `True` is equivalent to adding 1."
      ]
     },
     "metadata": {},
     "output_type": "display_data"
    }
   ],
   "source": [
    "# Check your answer (Run this code cell to receive credit!)\n",
    "q4.check()"
   ]
  },
  {
   "cell_type": "markdown",
   "id": "9160578c",
   "metadata": {
    "papermill": {
     "duration": 0.005371,
     "end_time": "2025-09-10T08:00:50.057084",
     "exception": false,
     "start_time": "2025-09-10T08:00:50.051713",
     "status": "completed"
    },
    "tags": []
   },
   "source": [
    "# 🌶️ Question 5\n",
    "\n",
    "You own an online shop where you sell rings with custom engravings.  You offer both gold plated and solid gold rings.\n",
    "- Gold plated rings have a base cost of \\\\$50, and you charge \\\\$7 per engraved unit.  \n",
    "- Solid gold rings have a base cost of \\\\$100, and you charge \\\\$10 per engraved unit.\n",
    "- Spaces and punctuation are counted as engraved units.\n",
    "\n",
    "Write a function `cost_of_project()` that takes two arguments:\n",
    "- `engraving` - a Python string with the text of the engraving\n",
    "- `solid_gold` - a Boolean that indicates whether the ring is solid gold\n",
    "\n",
    "It should return the cost of the project.  This question should be fairly challenging, and you may need a hint."
   ]
  },
  {
   "cell_type": "code",
   "execution_count": 11,
   "id": "e8ee45ce",
   "metadata": {
    "execution": {
     "iopub.execute_input": "2025-09-10T08:00:50.069385Z",
     "iopub.status.busy": "2025-09-10T08:00:50.069059Z",
     "iopub.status.idle": "2025-09-10T08:00:50.076942Z",
     "shell.execute_reply": "2025-09-10T08:00:50.076171Z"
    },
    "papermill": {
     "duration": 0.015705,
     "end_time": "2025-09-10T08:00:50.078308",
     "exception": false,
     "start_time": "2025-09-10T08:00:50.062603",
     "status": "completed"
    },
    "tags": []
   },
   "outputs": [
    {
     "data": {
      "application/javascript": [
       "parent.postMessage({\"jupyterEvent\": \"custom.exercise_interaction\", \"data\": {\"outcomeType\": 1, \"valueTowardsCompletion\": 0.2, \"interactionType\": 1, \"questionType\": 2, \"questionId\": \"5_CustomEngravings\", \"learnToolsVersion\": \"0.3.5\", \"failureMessage\": \"\", \"exceptionClass\": \"\", \"trace\": \"\"}}, \"*\")"
      ],
      "text/plain": [
       "<IPython.core.display.Javascript object>"
      ]
     },
     "metadata": {},
     "output_type": "display_data"
    },
    {
     "data": {
      "text/markdown": [
       "<span style=\"color:#33cc33\">Correct</span>"
      ],
      "text/plain": [
       "Correct"
      ]
     },
     "metadata": {},
     "output_type": "display_data"
    }
   ],
   "source": [
    "def cost_of_project(engraving, solid_gold):\n",
    "    cost = solid_gold * (100 + 10 * len(engraving)) + (not solid_gold) * (50 + 7 * len(engraving))\n",
    "    return cost\n",
    "\n",
    "# Check your answer\n",
    "q5.check()"
   ]
  },
  {
   "cell_type": "code",
   "execution_count": 12,
   "id": "86309c65",
   "metadata": {
    "execution": {
     "iopub.execute_input": "2025-09-10T08:00:50.091430Z",
     "iopub.status.busy": "2025-09-10T08:00:50.091160Z",
     "iopub.status.idle": "2025-09-10T08:00:50.100657Z",
     "shell.execute_reply": "2025-09-10T08:00:50.099808Z"
    },
    "papermill": {
     "duration": 0.017787,
     "end_time": "2025-09-10T08:00:50.102126",
     "exception": false,
     "start_time": "2025-09-10T08:00:50.084339",
     "status": "completed"
    },
    "tags": []
   },
   "outputs": [
    {
     "data": {
      "application/javascript": [
       "parent.postMessage({\"jupyterEvent\": \"custom.exercise_interaction\", \"data\": {\"interactionType\": 2, \"questionType\": 2, \"questionId\": \"5_CustomEngravings\", \"learnToolsVersion\": \"0.3.5\", \"valueTowardsCompletion\": 0.0, \"failureMessage\": \"\", \"exceptionClass\": \"\", \"trace\": \"\", \"outcomeType\": 4}}, \"*\")"
      ],
      "text/plain": [
       "<IPython.core.display.Javascript object>"
      ]
     },
     "metadata": {},
     "output_type": "display_data"
    },
    {
     "data": {
      "text/markdown": [
       "<span style=\"color:#3366cc\">Hint:</span> There are two options - either the project uses solid gold or does not.  With this in mind, you can structure your solution like this: `cost = solid_gold * ____ + (not solid_gold) * ____`.  You need to figure out how to fill in the blanks. Also, remember that:\n",
       "- If `solid_gold = True`, then `(not solid_gold) = False`, and if `solid_gold = False`, then `(not solid_gold) = True`.\n",
       "- Multiplying an integer by `True` is equivalent to multiplying it by 1, and multiplying an integer by `False` is equivalent to multiplying it by 0."
      ],
      "text/plain": [
       "Hint: There are two options - either the project uses solid gold or does not.  With this in mind, you can structure your solution like this: `cost = solid_gold * ____ + (not solid_gold) * ____`.  You need to figure out how to fill in the blanks. Also, remember that:\n",
       "- If `solid_gold = True`, then `(not solid_gold) = False`, and if `solid_gold = False`, then `(not solid_gold) = True`.\n",
       "- Multiplying an integer by `True` is equivalent to multiplying it by 1, and multiplying an integer by `False` is equivalent to multiplying it by 0."
      ]
     },
     "metadata": {},
     "output_type": "display_data"
    },
    {
     "data": {
      "application/javascript": [
       "parent.postMessage({\"jupyterEvent\": \"custom.exercise_interaction\", \"data\": {\"interactionType\": 3, \"questionType\": 2, \"questionId\": \"5_CustomEngravings\", \"learnToolsVersion\": \"0.3.5\", \"valueTowardsCompletion\": 0.0, \"failureMessage\": \"\", \"exceptionClass\": \"\", \"trace\": \"\", \"outcomeType\": 4}}, \"*\")"
      ],
      "text/plain": [
       "<IPython.core.display.Javascript object>"
      ]
     },
     "metadata": {},
     "output_type": "display_data"
    },
    {
     "data": {
      "text/markdown": [
       "<span style=\"color:#33cc99\">Solution:</span> \n",
       "```python\n",
       "def cost_of_project(engraving, solid_gold):\n",
       "    cost = solid_gold * (100 + 10 * len(engraving)) + (not solid_gold) * (50 + 7 * len(engraving))\n",
       "    return cost\n",
       "\n",
       "```"
      ],
      "text/plain": [
       "Solution: \n",
       "```python\n",
       "def cost_of_project(engraving, solid_gold):\n",
       "    cost = solid_gold * (100 + 10 * len(engraving)) + (not solid_gold) * (50 + 7 * len(engraving))\n",
       "    return cost\n",
       "\n",
       "```"
      ]
     },
     "metadata": {},
     "output_type": "display_data"
    }
   ],
   "source": [
    "# Uncomment to see a hint\n",
    "q5.hint()\n",
    "\n",
    "# Uncomment to view the solution\n",
    "q5.solution()"
   ]
  },
  {
   "cell_type": "markdown",
   "id": "c250dd9c",
   "metadata": {
    "papermill": {
     "duration": 0.005907,
     "end_time": "2025-09-10T08:00:50.114302",
     "exception": false,
     "start_time": "2025-09-10T08:00:50.108395",
     "status": "completed"
    },
    "tags": []
   },
   "source": [
    "Run the next code cell to calculate the cost of engraving `Charlie+Denver` on a solid gold ring."
   ]
  },
  {
   "cell_type": "code",
   "execution_count": 13,
   "id": "48550c50",
   "metadata": {
    "execution": {
     "iopub.execute_input": "2025-09-10T08:00:50.127417Z",
     "iopub.status.busy": "2025-09-10T08:00:50.127098Z",
     "iopub.status.idle": "2025-09-10T08:00:50.131607Z",
     "shell.execute_reply": "2025-09-10T08:00:50.130791Z"
    },
    "papermill": {
     "duration": 0.012725,
     "end_time": "2025-09-10T08:00:50.133026",
     "exception": false,
     "start_time": "2025-09-10T08:00:50.120301",
     "status": "completed"
    },
    "tags": []
   },
   "outputs": [
    {
     "name": "stdout",
     "output_type": "stream",
     "text": [
      "240\n"
     ]
    }
   ],
   "source": [
    "project_one = cost_of_project(\"Charlie+Denver\", True)\n",
    "print(project_one)"
   ]
  },
  {
   "cell_type": "markdown",
   "id": "75b60d5c",
   "metadata": {
    "papermill": {
     "duration": 0.006765,
     "end_time": "2025-09-10T08:00:50.146159",
     "exception": false,
     "start_time": "2025-09-10T08:00:50.139394",
     "status": "completed"
    },
    "tags": []
   },
   "source": [
    "Use the next code cell to calculate the cost of engraving `08/10/2000` on a gold plated ring."
   ]
  },
  {
   "cell_type": "code",
   "execution_count": 14,
   "id": "2a81b911",
   "metadata": {
    "execution": {
     "iopub.execute_input": "2025-09-10T08:00:50.159593Z",
     "iopub.status.busy": "2025-09-10T08:00:50.159297Z",
     "iopub.status.idle": "2025-09-10T08:00:50.163959Z",
     "shell.execute_reply": "2025-09-10T08:00:50.163168Z"
    },
    "papermill": {
     "duration": 0.013092,
     "end_time": "2025-09-10T08:00:50.165327",
     "exception": false,
     "start_time": "2025-09-10T08:00:50.152235",
     "status": "completed"
    },
    "tags": []
   },
   "outputs": [
    {
     "name": "stdout",
     "output_type": "stream",
     "text": [
      "120\n"
     ]
    }
   ],
   "source": [
    "project_two = cost_of_project(\"08/10/2000\", False)\n",
    "print(project_two)"
   ]
  },
  {
   "cell_type": "markdown",
   "id": "50de63f7",
   "metadata": {
    "papermill": {
     "duration": 0.006019,
     "end_time": "2025-09-10T08:00:50.177744",
     "exception": false,
     "start_time": "2025-09-10T08:00:50.171725",
     "status": "completed"
    },
    "tags": []
   },
   "source": [
    "# Keep going\n",
    "\n",
    "Continue to the next lesson to **[learn about conditions and conditional statements](https://www.kaggle.com/alexisbcook/conditions-and-conditional-statements)**."
   ]
  },
  {
   "cell_type": "markdown",
   "id": "a67c9354",
   "metadata": {
    "papermill": {
     "duration": 0.006559,
     "end_time": "2025-09-10T08:00:50.190544",
     "exception": false,
     "start_time": "2025-09-10T08:00:50.183985",
     "status": "completed"
    },
    "tags": []
   },
   "source": [
    "---\n",
    "\n",
    "\n",
    "\n",
    "\n",
    "*Have questions or comments? Visit the [course discussion forum](https://www.kaggle.com/learn/intro-to-programming/discussion) to chat with other learners.*"
   ]
  }
 ],
 "metadata": {
  "kaggle": {
   "accelerator": "none",
   "dataSources": [],
   "isGpuEnabled": false,
   "isInternetEnabled": false,
   "language": "python",
   "sourceType": "notebook"
  },
  "kernelspec": {
   "display_name": "Python 3",
   "language": "python",
   "name": "python3"
  },
  "language_info": {
   "codemirror_mode": {
    "name": "ipython",
    "version": 3
   },
   "file_extension": ".py",
   "mimetype": "text/x-python",
   "name": "python",
   "nbconvert_exporter": "python",
   "pygments_lexer": "ipython3",
   "version": "3.11.13"
  },
  "papermill": {
   "default_parameters": {},
   "duration": 8.039519,
   "end_time": "2025-09-10T08:00:50.715926",
   "environment_variables": {},
   "exception": null,
   "input_path": "__notebook__.ipynb",
   "output_path": "__notebook__.ipynb",
   "parameters": {},
   "start_time": "2025-09-10T08:00:42.676407",
   "version": "2.3.3"
  }
 },
 "nbformat": 4,
 "nbformat_minor": 5
}
