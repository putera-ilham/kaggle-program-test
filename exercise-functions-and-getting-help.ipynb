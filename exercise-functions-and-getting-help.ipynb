{
 "cells": [
  {
   "cell_type": "markdown",
   "id": "6059cdc3",
   "metadata": {
    "papermill": {
     "duration": 0.004952,
     "end_time": "2025-09-16T07:55:46.485097",
     "exception": false,
     "start_time": "2025-09-16T07:55:46.480145",
     "status": "completed"
    },
    "tags": []
   },
   "source": [
    "**This notebook is an exercise in the [Python](https://www.kaggle.com/learn/python) course.  You can reference the tutorial at [this link](https://www.kaggle.com/colinmorris/functions-and-getting-help).**\n",
    "\n",
    "---\n"
   ]
  },
  {
   "cell_type": "markdown",
   "id": "e8ee70f4",
   "metadata": {
    "papermill": {
     "duration": 0.003553,
     "end_time": "2025-09-16T07:55:46.492809",
     "exception": false,
     "start_time": "2025-09-16T07:55:46.489256",
     "status": "completed"
    },
    "tags": []
   },
   "source": [
    "Functions are powerful. Try writing some yourself.\n",
    "\n",
    "As before, don't forget to run the setup code below before jumping into question 1."
   ]
  },
  {
   "cell_type": "code",
   "execution_count": 1,
   "id": "5aed2d83",
   "metadata": {
    "_kg_hide-input": true,
    "_kg_hide-output": true,
    "execution": {
     "iopub.execute_input": "2025-09-16T07:55:46.502053Z",
     "iopub.status.busy": "2025-09-16T07:55:46.501601Z",
     "iopub.status.idle": "2025-09-16T07:55:49.013321Z",
     "shell.execute_reply": "2025-09-16T07:55:49.011854Z"
    },
    "papermill": {
     "duration": 2.518654,
     "end_time": "2025-09-16T07:55:49.015258",
     "exception": false,
     "start_time": "2025-09-16T07:55:46.496604",
     "status": "completed"
    },
    "tags": []
   },
   "outputs": [
    {
     "name": "stdout",
     "output_type": "stream",
     "text": [
      "Setup complete.\n"
     ]
    }
   ],
   "source": [
    "# SETUP. You don't need to worry for now about what this code does or how it works.\n",
    "from learntools.core import binder; binder.bind(globals())\n",
    "from learntools.python.ex2 import *\n",
    "print('Setup complete.')"
   ]
  },
  {
   "cell_type": "markdown",
   "id": "c56da558",
   "metadata": {
    "papermill": {
     "duration": 0.003663,
     "end_time": "2025-09-16T07:55:49.022929",
     "exception": false,
     "start_time": "2025-09-16T07:55:49.019266",
     "status": "completed"
    },
    "tags": []
   },
   "source": [
    "# 1.\n",
    "\n",
    "Complete the body of the following function according to its docstring.\n",
    "\n",
    "HINT: Python has a built-in function `round`."
   ]
  },
  {
   "cell_type": "code",
   "execution_count": 2,
   "id": "0e3a4b4a",
   "metadata": {
    "execution": {
     "iopub.execute_input": "2025-09-16T07:55:49.032943Z",
     "iopub.status.busy": "2025-09-16T07:55:49.032379Z",
     "iopub.status.idle": "2025-09-16T07:55:49.044309Z",
     "shell.execute_reply": "2025-09-16T07:55:49.043093Z"
    },
    "papermill": {
     "duration": 0.019352,
     "end_time": "2025-09-16T07:55:49.046159",
     "exception": false,
     "start_time": "2025-09-16T07:55:49.026807",
     "status": "completed"
    },
    "tags": []
   },
   "outputs": [
    {
     "data": {
      "application/javascript": [
       "parent.postMessage({\"jupyterEvent\": \"custom.exercise_interaction\", \"data\": {\"outcomeType\": 1, \"valueTowardsCompletion\": 0.16666666666666666, \"interactionType\": 1, \"questionType\": 2, \"questionId\": \"1_RoundFunctionProblem\", \"learnToolsVersion\": \"0.3.5\", \"failureMessage\": \"\", \"exceptionClass\": \"\", \"trace\": \"\"}}, \"*\")"
      ],
      "text/plain": [
       "<IPython.core.display.Javascript object>"
      ]
     },
     "metadata": {},
     "output_type": "display_data"
    },
    {
     "data": {
      "text/markdown": [
       "<span style=\"color:#33cc33\">Correct</span>"
      ],
      "text/plain": [
       "Correct"
      ]
     },
     "metadata": {},
     "output_type": "display_data"
    }
   ],
   "source": [
    "def round_to_two_places(num):\n",
    "    \"\"\"Return the given number rounded to two decimal places. \n",
    "    \n",
    "    >>> round_to_two_places(3.14159)\n",
    "    3.14\n",
    "    \"\"\"\n",
    "    rounded = round(num, 2)\n",
    "    return rounded\n",
    "    # Replace this body with your own code.\n",
    "    # (\"pass\" is a keyword that does literally nothing. We used it as a placeholder\n",
    "    # because after we begin a code block, Python requires at least one line of code)\n",
    "    pass\n",
    "\n",
    "# Check your answer\n",
    "q1.check()"
   ]
  },
  {
   "cell_type": "code",
   "execution_count": 3,
   "id": "7ff77cf8",
   "metadata": {
    "execution": {
     "iopub.execute_input": "2025-09-16T07:55:49.056046Z",
     "iopub.status.busy": "2025-09-16T07:55:49.055656Z",
     "iopub.status.idle": "2025-09-16T07:55:49.061376Z",
     "shell.execute_reply": "2025-09-16T07:55:49.059766Z"
    },
    "papermill": {
     "duration": 0.013276,
     "end_time": "2025-09-16T07:55:49.063495",
     "exception": false,
     "start_time": "2025-09-16T07:55:49.050219",
     "status": "completed"
    },
    "tags": []
   },
   "outputs": [],
   "source": [
    "# Uncomment the following for a hint\n",
    "#q1.hint()\n",
    "# Or uncomment the following to peek at the solution\n",
    "#q1.solution()"
   ]
  },
  {
   "cell_type": "markdown",
   "id": "f4a1af39",
   "metadata": {
    "papermill": {
     "duration": 0.004102,
     "end_time": "2025-09-16T07:55:49.071718",
     "exception": false,
     "start_time": "2025-09-16T07:55:49.067616",
     "status": "completed"
    },
    "tags": []
   },
   "source": [
    "# 2.\n",
    "The help for `round` says that `ndigits` (the second argument) may be negative.\n",
    "What do you think will happen when it is? Try some examples in the following cell."
   ]
  },
  {
   "cell_type": "code",
   "execution_count": 4,
   "id": "3a12c094",
   "metadata": {
    "execution": {
     "iopub.execute_input": "2025-09-16T07:55:49.082215Z",
     "iopub.status.busy": "2025-09-16T07:55:49.081758Z",
     "iopub.status.idle": "2025-09-16T07:55:49.088291Z",
     "shell.execute_reply": "2025-09-16T07:55:49.086889Z"
    },
    "papermill": {
     "duration": 0.014328,
     "end_time": "2025-09-16T07:55:49.090320",
     "exception": false,
     "start_time": "2025-09-16T07:55:49.075992",
     "status": "completed"
    },
    "tags": []
   },
   "outputs": [
    {
     "name": "stdout",
     "output_type": "stream",
     "text": [
      "339000\n"
     ]
    }
   ],
   "source": [
    "# Put your test code here\n",
    "rounded = round(339123, -3)\n",
    "print(rounded)"
   ]
  },
  {
   "cell_type": "markdown",
   "id": "7a260225",
   "metadata": {
    "papermill": {
     "duration": 0.004439,
     "end_time": "2025-09-16T07:55:49.099597",
     "exception": false,
     "start_time": "2025-09-16T07:55:49.095158",
     "status": "completed"
    },
    "tags": []
   },
   "source": [
    "Can you think of a case where this would be useful?  Once you're ready, run the code cell below to see the answer and to receive credit for completing the problem."
   ]
  },
  {
   "cell_type": "code",
   "execution_count": 5,
   "id": "fd2efe6c",
   "metadata": {
    "execution": {
     "iopub.execute_input": "2025-09-16T07:55:49.112494Z",
     "iopub.status.busy": "2025-09-16T07:55:49.111774Z",
     "iopub.status.idle": "2025-09-16T07:55:49.121493Z",
     "shell.execute_reply": "2025-09-16T07:55:49.120444Z"
    },
    "papermill": {
     "duration": 0.018838,
     "end_time": "2025-09-16T07:55:49.123605",
     "exception": false,
     "start_time": "2025-09-16T07:55:49.104767",
     "status": "completed"
    },
    "tags": []
   },
   "outputs": [
    {
     "data": {
      "application/javascript": [
       "parent.postMessage({\"jupyterEvent\": \"custom.exercise_interaction\", \"data\": {\"interactionType\": 3, \"questionType\": 4, \"questionId\": \"2_RoundNdigitsProblem\", \"learnToolsVersion\": \"0.3.5\", \"valueTowardsCompletion\": 0.0, \"failureMessage\": \"\", \"exceptionClass\": \"\", \"trace\": \"\", \"outcomeType\": 4}}, \"*\")"
      ],
      "text/plain": [
       "<IPython.core.display.Javascript object>"
      ]
     },
     "metadata": {},
     "output_type": "display_data"
    },
    {
     "data": {
      "text/markdown": [
       "<span style=\"color:#33cc99\">Solution:</span> As you've seen, `ndigits=-1` rounds to the nearest 10, `ndigits=-2` rounds to the nearest 100 and so on. Where might this be useful? Suppose we're dealing with large numbers:\n",
       "\n",
       "> The area of Finland is 338,424 km²  \n",
       "> The area of Greenland is 2,166,086 km²\n",
       "\n",
       "We probably don't care whether it's really 338,424, or 338,425, or 338,177. All those digits of accuracy are just distracting. We can chop them off by calling `round()` with `ndigits=-3`:\n",
       "\n",
       "> The area of Finland is 338,000 km²  \n",
       "> The area of Greenland is 2,166,000 km²\n",
       "\n",
       "(We'll talk about how we would get the commas later when we talk about string formatting :))\n"
      ],
      "text/plain": [
       "Solution: As you've seen, `ndigits=-1` rounds to the nearest 10, `ndigits=-2` rounds to the nearest 100 and so on. Where might this be useful? Suppose we're dealing with large numbers:\n",
       "\n",
       "> The area of Finland is 338,424 km²  \n",
       "> The area of Greenland is 2,166,086 km²\n",
       "\n",
       "We probably don't care whether it's really 338,424, or 338,425, or 338,177. All those digits of accuracy are just distracting. We can chop them off by calling `round()` with `ndigits=-3`:\n",
       "\n",
       "> The area of Finland is 338,000 km²  \n",
       "> The area of Greenland is 2,166,000 km²\n",
       "\n",
       "(We'll talk about how we would get the commas later when we talk about string formatting :))"
      ]
     },
     "metadata": {},
     "output_type": "display_data"
    }
   ],
   "source": [
    "# Check your answer (Run this code cell to receive credit!)\n",
    "q2.solution()"
   ]
  },
  {
   "cell_type": "markdown",
   "id": "cb31338c",
   "metadata": {
    "papermill": {
     "duration": 0.004527,
     "end_time": "2025-09-16T07:55:49.132949",
     "exception": false,
     "start_time": "2025-09-16T07:55:49.128422",
     "status": "completed"
    },
    "tags": []
   },
   "source": [
    "# 3.\n",
    "\n",
    "In the previous exercise, the candy-sharing friends Alice, Bob and Carol tried to split candies evenly. For the sake of their friendship, any candies left over would be smashed. For example, if they collectively bring home 91 candies, they'll take 30 each and smash 1.\n",
    "\n",
    "Below is a simple function that will calculate the number of candies to smash for *any* number of total candies.\n",
    "\n",
    "Modify it so that it optionally takes a second argument representing the number of friends the candies are being split between. If no second argument is provided, it should assume 3 friends, as before.\n",
    "\n",
    "Update the docstring to reflect this new behaviour."
   ]
  },
  {
   "cell_type": "code",
   "execution_count": 6,
   "id": "417476b2",
   "metadata": {
    "execution": {
     "iopub.execute_input": "2025-09-16T07:55:49.142899Z",
     "iopub.status.busy": "2025-09-16T07:55:49.142595Z",
     "iopub.status.idle": "2025-09-16T07:55:49.152363Z",
     "shell.execute_reply": "2025-09-16T07:55:49.151136Z"
    },
    "papermill": {
     "duration": 0.017652,
     "end_time": "2025-09-16T07:55:49.154764",
     "exception": false,
     "start_time": "2025-09-16T07:55:49.137112",
     "status": "completed"
    },
    "tags": []
   },
   "outputs": [
    {
     "data": {
      "application/javascript": [
       "parent.postMessage({\"jupyterEvent\": \"custom.exercise_interaction\", \"data\": {\"outcomeType\": 1, \"valueTowardsCompletion\": 0.16666666666666666, \"interactionType\": 1, \"questionType\": 2, \"questionId\": \"3_CandySmashingFunctionProblem\", \"learnToolsVersion\": \"0.3.5\", \"failureMessage\": \"\", \"exceptionClass\": \"\", \"trace\": \"\"}}, \"*\")"
      ],
      "text/plain": [
       "<IPython.core.display.Javascript object>"
      ]
     },
     "metadata": {},
     "output_type": "display_data"
    },
    {
     "data": {
      "text/markdown": [
       "<span style=\"color:#33cc33\">Correct</span>"
      ],
      "text/plain": [
       "Correct"
      ]
     },
     "metadata": {},
     "output_type": "display_data"
    }
   ],
   "source": [
    "def to_smash(total_candies, num_friends=3):\n",
    "    \"\"\"Return the number of leftover candies that must be smashed after distributing\n",
    "    the given number of candies evenly between 3 friends.\n",
    "    \n",
    "    >>> to_smash(91)\n",
    "    1\n",
    "    \"\"\"\n",
    "    return total_candies % num_friends\n",
    "# Check your answer\n",
    "q3.check()"
   ]
  },
  {
   "cell_type": "code",
   "execution_count": 7,
   "id": "9b8e204a",
   "metadata": {
    "execution": {
     "iopub.execute_input": "2025-09-16T07:55:49.166422Z",
     "iopub.status.busy": "2025-09-16T07:55:49.166073Z",
     "iopub.status.idle": "2025-09-16T07:55:49.171177Z",
     "shell.execute_reply": "2025-09-16T07:55:49.170149Z"
    },
    "papermill": {
     "duration": 0.013086,
     "end_time": "2025-09-16T07:55:49.173243",
     "exception": false,
     "start_time": "2025-09-16T07:55:49.160157",
     "status": "completed"
    },
    "tags": []
   },
   "outputs": [],
   "source": [
    "#q3.hint()"
   ]
  },
  {
   "cell_type": "code",
   "execution_count": 8,
   "id": "0ad67955",
   "metadata": {
    "execution": {
     "iopub.execute_input": "2025-09-16T07:55:49.186243Z",
     "iopub.status.busy": "2025-09-16T07:55:49.185249Z",
     "iopub.status.idle": "2025-09-16T07:55:49.191754Z",
     "shell.execute_reply": "2025-09-16T07:55:49.190188Z"
    },
    "papermill": {
     "duration": 0.016284,
     "end_time": "2025-09-16T07:55:49.194205",
     "exception": false,
     "start_time": "2025-09-16T07:55:49.177921",
     "status": "completed"
    },
    "tags": []
   },
   "outputs": [],
   "source": [
    "#q3.solution()"
   ]
  },
  {
   "cell_type": "markdown",
   "id": "7c6f1d83",
   "metadata": {
    "papermill": {
     "duration": 0.004078,
     "end_time": "2025-09-16T07:55:49.203289",
     "exception": false,
     "start_time": "2025-09-16T07:55:49.199211",
     "status": "completed"
    },
    "tags": []
   },
   "source": [
    "# 4. (Optional)\n",
    "\n",
    "It may not be fun, but reading and understanding error messages will be an important part of your Python career.\n",
    "\n",
    "Each code cell below contains some commented buggy code. For each cell...\n",
    "\n",
    "1. Read the code and predict what you think will happen when it's run.\n",
    "2. Then uncomment the code and run it to see what happens. (**Tip**: In the kernel editor, you can highlight several lines and press `ctrl`+`/` to toggle commenting.)\n",
    "3. Fix the code (so that it accomplishes its intended purpose without throwing an exception)\n",
    "\n",
    "<!-- TODO: should this be autochecked? Delta is probably pretty small. -->"
   ]
  },
  {
   "cell_type": "code",
   "execution_count": 9,
   "id": "28514f57",
   "metadata": {
    "execution": {
     "iopub.execute_input": "2025-09-16T07:55:49.215066Z",
     "iopub.status.busy": "2025-09-16T07:55:49.214617Z",
     "iopub.status.idle": "2025-09-16T07:55:49.221614Z",
     "shell.execute_reply": "2025-09-16T07:55:49.220439Z"
    },
    "papermill": {
     "duration": 0.015898,
     "end_time": "2025-09-16T07:55:49.223823",
     "exception": false,
     "start_time": "2025-09-16T07:55:49.207925",
     "status": "completed"
    },
    "tags": []
   },
   "outputs": [
    {
     "data": {
      "text/plain": [
       "10"
      ]
     },
     "execution_count": 9,
     "metadata": {},
     "output_type": "execute_result"
    }
   ],
   "source": [
    "round(9.9999)"
   ]
  },
  {
   "cell_type": "code",
   "execution_count": 10,
   "id": "3cefdc43",
   "metadata": {
    "execution": {
     "iopub.execute_input": "2025-09-16T07:55:49.237645Z",
     "iopub.status.busy": "2025-09-16T07:55:49.236473Z",
     "iopub.status.idle": "2025-09-16T07:55:49.243569Z",
     "shell.execute_reply": "2025-09-16T07:55:49.242106Z"
    },
    "papermill": {
     "duration": 0.016851,
     "end_time": "2025-09-16T07:55:49.246297",
     "exception": false,
     "start_time": "2025-09-16T07:55:49.229446",
     "status": "completed"
    },
    "tags": []
   },
   "outputs": [
    {
     "name": "stdout",
     "output_type": "stream",
     "text": [
      "-10\n"
     ]
    }
   ],
   "source": [
    "x = -10\n",
    "y = 5\n",
    "# # Which of the two variables above has the smallest absolute value?\n",
    "smallest_abs = min(x, y)\n",
    "print (smallest_abs)"
   ]
  },
  {
   "cell_type": "code",
   "execution_count": 11,
   "id": "e99d15bf",
   "metadata": {
    "execution": {
     "iopub.execute_input": "2025-09-16T07:55:49.257274Z",
     "iopub.status.busy": "2025-09-16T07:55:49.256876Z",
     "iopub.status.idle": "2025-09-16T07:55:49.263110Z",
     "shell.execute_reply": "2025-09-16T07:55:49.261863Z"
    },
    "papermill": {
     "duration": 0.013733,
     "end_time": "2025-09-16T07:55:49.264865",
     "exception": false,
     "start_time": "2025-09-16T07:55:49.251132",
     "status": "completed"
    },
    "tags": []
   },
   "outputs": [
    {
     "name": "stdout",
     "output_type": "stream",
     "text": [
      "5\n"
     ]
    }
   ],
   "source": [
    "def f(x):\n",
    "    y = abs(x)\n",
    "    return y\n",
    "\n",
    "print(f(5))"
   ]
  },
  {
   "cell_type": "markdown",
   "id": "75a9761c",
   "metadata": {
    "papermill": {
     "duration": 0.004565,
     "end_time": "2025-09-16T07:55:49.274209",
     "exception": false,
     "start_time": "2025-09-16T07:55:49.269644",
     "status": "completed"
    },
    "tags": []
   },
   "source": [
    "# Keep Going\n",
    "\n",
    "Nice job with the code. Next up, you'll learn about *conditionals*, which you'll need to **[write interesting programs](https://www.kaggle.com/colinmorris/booleans-and-conditionals)**. "
   ]
  },
  {
   "cell_type": "markdown",
   "id": "24eeaae9",
   "metadata": {
    "papermill": {
     "duration": 0.0042,
     "end_time": "2025-09-16T07:55:49.282893",
     "exception": false,
     "start_time": "2025-09-16T07:55:49.278693",
     "status": "completed"
    },
    "tags": []
   },
   "source": [
    "---\n",
    "\n",
    "\n",
    "\n",
    "\n",
    "*Have questions or comments? Visit the [course discussion forum](https://www.kaggle.com/learn/python/discussion) to chat with other learners.*"
   ]
  }
 ],
 "metadata": {
  "kaggle": {
   "accelerator": "none",
   "dataSources": [],
   "isGpuEnabled": false,
   "isInternetEnabled": false,
   "language": "python",
   "sourceType": "notebook"
  },
  "kernelspec": {
   "display_name": "Python 3",
   "language": "python",
   "name": "python3"
  },
  "language_info": {
   "codemirror_mode": {
    "name": "ipython",
    "version": 3
   },
   "file_extension": ".py",
   "mimetype": "text/x-python",
   "name": "python",
   "nbconvert_exporter": "python",
   "pygments_lexer": "ipython3",
   "version": "3.11.13"
  },
  "learntools_metadata": {
   "lesson_index": 1,
   "type": "exercise"
  },
  "papermill": {
   "default_parameters": {},
   "duration": 9.996237,
   "end_time": "2025-09-16T07:55:49.911371",
   "environment_variables": {},
   "exception": null,
   "input_path": "__notebook__.ipynb",
   "output_path": "__notebook__.ipynb",
   "parameters": {},
   "start_time": "2025-09-16T07:55:39.915134",
   "version": "2.6.0"
  }
 },
 "nbformat": 4,
 "nbformat_minor": 5
}
