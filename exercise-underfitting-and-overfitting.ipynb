{
 "cells": [
  {
   "cell_type": "markdown",
   "id": "35694f1f",
   "metadata": {
    "papermill": {
     "duration": 0.004048,
     "end_time": "2025-09-17T13:59:00.115429",
     "exception": false,
     "start_time": "2025-09-17T13:59:00.111381",
     "status": "completed"
    },
    "tags": []
   },
   "source": [
    "**This notebook is an exercise in the [Introduction to Machine Learning](https://www.kaggle.com/learn/intro-to-machine-learning) course.  You can reference the tutorial at [this link](https://www.kaggle.com/dansbecker/underfitting-and-overfitting).**\n",
    "\n",
    "---\n"
   ]
  },
  {
   "cell_type": "markdown",
   "id": "b30037f7",
   "metadata": {
    "papermill": {
     "duration": 0.002552,
     "end_time": "2025-09-17T13:59:00.121447",
     "exception": false,
     "start_time": "2025-09-17T13:59:00.118895",
     "status": "completed"
    },
    "tags": []
   },
   "source": [
    "## Recap\n",
    "You've built your first model, and now it's time to optimize the size of the tree to make better predictions. Run this cell to set up your coding environment where the previous step left off."
   ]
  },
  {
   "cell_type": "code",
   "execution_count": 1,
   "id": "3de7498b",
   "metadata": {
    "execution": {
     "iopub.execute_input": "2025-09-17T13:59:00.130333Z",
     "iopub.status.busy": "2025-09-17T13:59:00.129840Z",
     "iopub.status.idle": "2025-09-17T13:59:04.520978Z",
     "shell.execute_reply": "2025-09-17T13:59:04.519593Z"
    },
    "papermill": {
     "duration": 4.3969,
     "end_time": "2025-09-17T13:59:04.522689",
     "exception": false,
     "start_time": "2025-09-17T13:59:00.125789",
     "status": "completed"
    },
    "tags": []
   },
   "outputs": [
    {
     "name": "stdout",
     "output_type": "stream",
     "text": [
      "Validation MAE: 29,653\n",
      "\n",
      "Setup complete\n"
     ]
    }
   ],
   "source": [
    "# Code you have previously used to load data\n",
    "import pandas as pd\n",
    "from sklearn.metrics import mean_absolute_error\n",
    "from sklearn.model_selection import train_test_split\n",
    "from sklearn.tree import DecisionTreeRegressor\n",
    "\n",
    "\n",
    "# Path of the file to read\n",
    "iowa_file_path = '../input/home-data-for-ml-course/train.csv'\n",
    "\n",
    "home_data = pd.read_csv(iowa_file_path)\n",
    "# Create target object and call it y\n",
    "y = home_data.SalePrice\n",
    "# Create X\n",
    "features = ['LotArea', 'YearBuilt', '1stFlrSF', '2ndFlrSF', 'FullBath', 'BedroomAbvGr', 'TotRmsAbvGrd']\n",
    "X = home_data[features]\n",
    "\n",
    "# Split into validation and training data\n",
    "train_X, val_X, train_y, val_y = train_test_split(X, y, random_state=1)\n",
    "\n",
    "# Specify Model\n",
    "iowa_model = DecisionTreeRegressor(random_state=1)\n",
    "# Fit Model\n",
    "iowa_model.fit(train_X, train_y)\n",
    "\n",
    "# Make validation predictions and calculate mean absolute error\n",
    "val_predictions = iowa_model.predict(val_X)\n",
    "val_mae = mean_absolute_error(val_predictions, val_y)\n",
    "print(\"Validation MAE: {:,.0f}\".format(val_mae))\n",
    "\n",
    "# Set up code checking\n",
    "from learntools.core import binder\n",
    "binder.bind(globals())\n",
    "from learntools.machine_learning.ex5 import *\n",
    "print(\"\\nSetup complete\")"
   ]
  },
  {
   "cell_type": "markdown",
   "id": "0cc7f2ab",
   "metadata": {
    "papermill": {
     "duration": 0.003071,
     "end_time": "2025-09-17T13:59:04.528900",
     "exception": false,
     "start_time": "2025-09-17T13:59:04.525829",
     "status": "completed"
    },
    "tags": []
   },
   "source": [
    "# Exercises\n",
    "You could write the function `get_mae` yourself. For now, we'll supply it. This is the same function you read about in the previous lesson. Just run the cell below."
   ]
  },
  {
   "cell_type": "code",
   "execution_count": 2,
   "id": "03067a33",
   "metadata": {
    "execution": {
     "iopub.execute_input": "2025-09-17T13:59:04.536157Z",
     "iopub.status.busy": "2025-09-17T13:59:04.535721Z",
     "iopub.status.idle": "2025-09-17T13:59:04.542125Z",
     "shell.execute_reply": "2025-09-17T13:59:04.541093Z"
    },
    "papermill": {
     "duration": 0.012011,
     "end_time": "2025-09-17T13:59:04.543861",
     "exception": false,
     "start_time": "2025-09-17T13:59:04.531850",
     "status": "completed"
    },
    "tags": []
   },
   "outputs": [],
   "source": [
    "def get_mae(max_leaf_nodes, train_X, val_X, train_y, val_y):\n",
    "    model = DecisionTreeRegressor(max_leaf_nodes=max_leaf_nodes, random_state=0)\n",
    "    model.fit(train_X, train_y)\n",
    "    preds_val = model.predict(val_X)\n",
    "    mae = mean_absolute_error(val_y, preds_val)\n",
    "    return(mae)"
   ]
  },
  {
   "cell_type": "markdown",
   "id": "2d61a6f5",
   "metadata": {
    "papermill": {
     "duration": 0.002701,
     "end_time": "2025-09-17T13:59:04.549740",
     "exception": false,
     "start_time": "2025-09-17T13:59:04.547039",
     "status": "completed"
    },
    "tags": []
   },
   "source": [
    "## Step 1: Compare Different Tree Sizes\n",
    "Write a loop that tries the following values for *max_leaf_nodes* from a set of possible values.\n",
    "\n",
    "Call the *get_mae* function on each value of max_leaf_nodes. Store the output in some way that allows you to select the value of `max_leaf_nodes` that gives the most accurate model on your data."
   ]
  },
  {
   "cell_type": "code",
   "execution_count": 3,
   "id": "09dcb333",
   "metadata": {
    "execution": {
     "iopub.execute_input": "2025-09-17T13:59:04.556702Z",
     "iopub.status.busy": "2025-09-17T13:59:04.556368Z",
     "iopub.status.idle": "2025-09-17T13:59:04.603476Z",
     "shell.execute_reply": "2025-09-17T13:59:04.602436Z"
    },
    "papermill": {
     "duration": 0.052479,
     "end_time": "2025-09-17T13:59:04.604987",
     "exception": false,
     "start_time": "2025-09-17T13:59:04.552508",
     "status": "completed"
    },
    "tags": []
   },
   "outputs": [
    {
     "data": {
      "application/javascript": [
       "parent.postMessage({\"jupyterEvent\": \"custom.exercise_interaction\", \"data\": {\"outcomeType\": 1, \"valueTowardsCompletion\": 0.5, \"interactionType\": 1, \"questionType\": 1, \"questionId\": \"1_BestTreeSize\", \"learnToolsVersion\": \"0.3.5\", \"failureMessage\": \"\", \"exceptionClass\": \"\", \"trace\": \"\"}}, \"*\")"
      ],
      "text/plain": [
       "<IPython.core.display.Javascript object>"
      ]
     },
     "metadata": {},
     "output_type": "display_data"
    },
    {
     "data": {
      "text/markdown": [
       "<span style=\"color:#33cc33\">Correct</span>"
      ],
      "text/plain": [
       "Correct"
      ]
     },
     "metadata": {},
     "output_type": "display_data"
    }
   ],
   "source": [
    "candidate_max_leaf_nodes = [5, 25, 50, 100, 250, 500]\n",
    "#Write loop to find the ideal tree size from candidate_max_leaf_nodes\n",
    "scores = {leaf_size: get_mae(leaf_size, train_X, val_X, train_y, val_y) for leaf_size in candidate_max_leaf_nodes}\n",
    "\n",
    "#Store the best value of max_leaf_nodes (it will be either 5, 25, 50, 100, 250 or 500)\n",
    "best_tree_size = min(scores, key=scores.get)\n",
    "\n",
    "#Check your answer\n",
    "step_1.check()"
   ]
  },
  {
   "cell_type": "code",
   "execution_count": 4,
   "id": "c8ecd8b1",
   "metadata": {
    "execution": {
     "iopub.execute_input": "2025-09-17T13:59:04.612663Z",
     "iopub.status.busy": "2025-09-17T13:59:04.612262Z",
     "iopub.status.idle": "2025-09-17T13:59:04.617104Z",
     "shell.execute_reply": "2025-09-17T13:59:04.616073Z"
    },
    "papermill": {
     "duration": 0.010533,
     "end_time": "2025-09-17T13:59:04.618658",
     "exception": false,
     "start_time": "2025-09-17T13:59:04.608125",
     "status": "completed"
    },
    "tags": []
   },
   "outputs": [],
   "source": [
    "#The lines below will show you a hint or the solution.\n",
    "#step_1.hint() \n",
    "#step_1.solution()"
   ]
  },
  {
   "cell_type": "markdown",
   "id": "2c9bc694",
   "metadata": {
    "papermill": {
     "duration": 0.002724,
     "end_time": "2025-09-17T13:59:04.624590",
     "exception": false,
     "start_time": "2025-09-17T13:59:04.621866",
     "status": "completed"
    },
    "tags": []
   },
   "source": [
    "## Step 2: Fit Model Using All Data\n",
    "You know the best tree size. If you were going to deploy this model in practice, you would make it even more accurate by using all of the data and keeping that tree size.  That is, you don't need to hold out the validation data now that you've made all your modeling decisions."
   ]
  },
  {
   "cell_type": "code",
   "execution_count": 5,
   "id": "ecdbe3e5",
   "metadata": {
    "execution": {
     "iopub.execute_input": "2025-09-17T13:59:04.632284Z",
     "iopub.status.busy": "2025-09-17T13:59:04.631917Z",
     "iopub.status.idle": "2025-09-17T13:59:04.647917Z",
     "shell.execute_reply": "2025-09-17T13:59:04.647043Z"
    },
    "papermill": {
     "duration": 0.021722,
     "end_time": "2025-09-17T13:59:04.649473",
     "exception": false,
     "start_time": "2025-09-17T13:59:04.627751",
     "status": "completed"
    },
    "tags": []
   },
   "outputs": [
    {
     "data": {
      "application/javascript": [
       "parent.postMessage({\"jupyterEvent\": \"custom.exercise_interaction\", \"data\": {\"outcomeType\": 1, \"valueTowardsCompletion\": 0.5, \"interactionType\": 1, \"questionType\": 2, \"questionId\": \"2_FitModelWithAllData\", \"learnToolsVersion\": \"0.3.5\", \"failureMessage\": \"\", \"exceptionClass\": \"\", \"trace\": \"\"}}, \"*\")"
      ],
      "text/plain": [
       "<IPython.core.display.Javascript object>"
      ]
     },
     "metadata": {},
     "output_type": "display_data"
    },
    {
     "data": {
      "text/markdown": [
       "<span style=\"color:#33cc33\">Correct</span>"
      ],
      "text/plain": [
       "Correct"
      ]
     },
     "metadata": {},
     "output_type": "display_data"
    }
   ],
   "source": [
    "#Fill in argument to make optimal size and uncomment\n",
    "final_model = DecisionTreeRegressor(max_leaf_nodes=best_tree_size, random_state=1)\n",
    "\n",
    "#fit the final model and uncomment the next two lines\n",
    "final_model.fit(X, y)\n",
    "\n",
    "# Check your answer\n",
    "step_2.check()"
   ]
  },
  {
   "cell_type": "code",
   "execution_count": 6,
   "id": "095e3343",
   "metadata": {
    "execution": {
     "iopub.execute_input": "2025-09-17T13:59:04.658156Z",
     "iopub.status.busy": "2025-09-17T13:59:04.657728Z",
     "iopub.status.idle": "2025-09-17T13:59:04.662251Z",
     "shell.execute_reply": "2025-09-17T13:59:04.661171Z"
    },
    "papermill": {
     "duration": 0.010891,
     "end_time": "2025-09-17T13:59:04.663918",
     "exception": false,
     "start_time": "2025-09-17T13:59:04.653027",
     "status": "completed"
    },
    "tags": []
   },
   "outputs": [],
   "source": [
    "#step_2.hint()\n",
    "#step_2.solution()"
   ]
  },
  {
   "cell_type": "markdown",
   "id": "838d1c26",
   "metadata": {
    "papermill": {
     "duration": 0.002902,
     "end_time": "2025-09-17T13:59:04.670112",
     "exception": false,
     "start_time": "2025-09-17T13:59:04.667210",
     "status": "completed"
    },
    "tags": []
   },
   "source": [
    "You've tuned this model and improved your results. But we are still using Decision Tree models, which are not very sophisticated by modern machine learning standards. In the next step you will learn to use Random Forests to improve your models even more.\n",
    "\n",
    "# Keep Going\n",
    "\n",
    "You are ready for **[Random Forests](https://www.kaggle.com/dansbecker/random-forests).**\n"
   ]
  },
  {
   "cell_type": "markdown",
   "id": "400dac4b",
   "metadata": {
    "papermill": {
     "duration": 0.00294,
     "end_time": "2025-09-17T13:59:04.676232",
     "exception": false,
     "start_time": "2025-09-17T13:59:04.673292",
     "status": "completed"
    },
    "tags": []
   },
   "source": [
    "---\n",
    "\n",
    "\n",
    "\n",
    "\n",
    "*Have questions or comments? Visit the [course discussion forum](https://www.kaggle.com/learn/intro-to-machine-learning/discussion) to chat with other learners.*"
   ]
  }
 ],
 "metadata": {
  "kaggle": {
   "accelerator": "none",
   "dataSources": [
    {
     "databundleVersionId": 111096,
     "sourceId": 10211,
     "sourceType": "competition"
    },
    {
     "datasetId": 11167,
     "sourceId": 15520,
     "sourceType": "datasetVersion"
    },
    {
     "datasetId": 2709,
     "sourceId": 38454,
     "sourceType": "datasetVersion"
    }
   ],
   "isGpuEnabled": false,
   "isInternetEnabled": false,
   "language": "python",
   "sourceType": "notebook"
  },
  "kernelspec": {
   "display_name": "Python 3",
   "language": "python",
   "name": "python3"
  },
  "language_info": {
   "codemirror_mode": {
    "name": "ipython",
    "version": 3
   },
   "file_extension": ".py",
   "mimetype": "text/x-python",
   "name": "python",
   "nbconvert_exporter": "python",
   "pygments_lexer": "ipython3",
   "version": "3.11.13"
  },
  "papermill": {
   "default_parameters": {},
   "duration": 11.369625,
   "end_time": "2025-09-17T13:59:05.402215",
   "environment_variables": {},
   "exception": null,
   "input_path": "__notebook__.ipynb",
   "output_path": "__notebook__.ipynb",
   "parameters": {},
   "start_time": "2025-09-17T13:58:54.032590",
   "version": "2.6.0"
  }
 },
 "nbformat": 4,
 "nbformat_minor": 5
}
