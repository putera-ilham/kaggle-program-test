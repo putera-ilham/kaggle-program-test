{
 "cells": [
  {
   "cell_type": "markdown",
   "id": "936bfed2",
   "metadata": {
    "papermill": {
     "duration": 0.005151,
     "end_time": "2025-09-16T12:44:47.971452",
     "exception": false,
     "start_time": "2025-09-16T12:44:47.966301",
     "status": "completed"
    },
    "tags": []
   },
   "source": [
    "**This notebook is an exercise in the [Python](https://www.kaggle.com/learn/python) course.  You can reference the tutorial at [this link](https://www.kaggle.com/colinmorris/lists).**\n",
    "\n",
    "---\n"
   ]
  },
  {
   "cell_type": "markdown",
   "id": "d323b4de",
   "metadata": {
    "papermill": {
     "duration": 0.003305,
     "end_time": "2025-09-16T12:44:47.978955",
     "exception": false,
     "start_time": "2025-09-16T12:44:47.975650",
     "status": "completed"
    },
    "tags": []
   },
   "source": [
    "Things get more interesting with lists. You'll apply your new knowledge to solve the questions below. Remember to run the following cell first."
   ]
  },
  {
   "cell_type": "code",
   "execution_count": 1,
   "id": "057ff1fd",
   "metadata": {
    "execution": {
     "iopub.execute_input": "2025-09-16T12:44:47.987461Z",
     "iopub.status.busy": "2025-09-16T12:44:47.987114Z",
     "iopub.status.idle": "2025-09-16T12:44:49.992406Z",
     "shell.execute_reply": "2025-09-16T12:44:49.991356Z"
    },
    "papermill": {
     "duration": 2.011549,
     "end_time": "2025-09-16T12:44:49.994089",
     "exception": false,
     "start_time": "2025-09-16T12:44:47.982540",
     "status": "completed"
    },
    "tags": []
   },
   "outputs": [
    {
     "name": "stdout",
     "output_type": "stream",
     "text": [
      "Setup complete.\n"
     ]
    }
   ],
   "source": [
    "from learntools.core import binder; binder.bind(globals())\n",
    "from learntools.python.ex4 import *\n",
    "print('Setup complete.')"
   ]
  },
  {
   "cell_type": "markdown",
   "id": "788f47bc",
   "metadata": {
    "papermill": {
     "duration": 0.00329,
     "end_time": "2025-09-16T12:44:50.001279",
     "exception": false,
     "start_time": "2025-09-16T12:44:49.997989",
     "status": "completed"
    },
    "tags": []
   },
   "source": [
    "# 1.\n",
    "\n",
    "Complete the function below according to its docstring."
   ]
  },
  {
   "cell_type": "code",
   "execution_count": 2,
   "id": "b4b30fce",
   "metadata": {
    "execution": {
     "iopub.execute_input": "2025-09-16T12:44:50.009392Z",
     "iopub.status.busy": "2025-09-16T12:44:50.008955Z",
     "iopub.status.idle": "2025-09-16T12:44:50.018279Z",
     "shell.execute_reply": "2025-09-16T12:44:50.017162Z"
    },
    "papermill": {
     "duration": 0.014996,
     "end_time": "2025-09-16T12:44:50.019633",
     "exception": false,
     "start_time": "2025-09-16T12:44:50.004637",
     "status": "completed"
    },
    "tags": []
   },
   "outputs": [
    {
     "data": {
      "application/javascript": [
       "parent.postMessage({\"jupyterEvent\": \"custom.exercise_interaction\", \"data\": {\"outcomeType\": 1, \"valueTowardsCompletion\": 0.2, \"interactionType\": 1, \"questionType\": 2, \"questionId\": \"1_SelectSecondItem\", \"learnToolsVersion\": \"0.3.5\", \"failureMessage\": \"\", \"exceptionClass\": \"\", \"trace\": \"\"}}, \"*\")"
      ],
      "text/plain": [
       "<IPython.core.display.Javascript object>"
      ]
     },
     "metadata": {},
     "output_type": "display_data"
    },
    {
     "data": {
      "text/markdown": [
       "<span style=\"color:#33cc33\">Correct</span>"
      ],
      "text/plain": [
       "Correct"
      ]
     },
     "metadata": {},
     "output_type": "display_data"
    }
   ],
   "source": [
    "def select_second(L):\n",
    "    \"\"\"Return the second element of the given list. If the list has no second\n",
    "    element, return None.\n",
    "    \"\"\"\n",
    "    if len(L) < 2:\n",
    "        return None\n",
    "    return L[1]\n",
    "# Check your answer\n",
    "q1.check()"
   ]
  },
  {
   "cell_type": "code",
   "execution_count": 3,
   "id": "df8d24b3",
   "metadata": {
    "execution": {
     "iopub.execute_input": "2025-09-16T12:44:50.028673Z",
     "iopub.status.busy": "2025-09-16T12:44:50.028365Z",
     "iopub.status.idle": "2025-09-16T12:44:50.032553Z",
     "shell.execute_reply": "2025-09-16T12:44:50.031612Z"
    },
    "papermill": {
     "duration": 0.01048,
     "end_time": "2025-09-16T12:44:50.034060",
     "exception": false,
     "start_time": "2025-09-16T12:44:50.023580",
     "status": "completed"
    },
    "tags": []
   },
   "outputs": [],
   "source": [
    "#q1.hint()\n",
    "#q1.solution()"
   ]
  },
  {
   "cell_type": "markdown",
   "id": "77e29942",
   "metadata": {
    "papermill": {
     "duration": 0.003374,
     "end_time": "2025-09-16T12:44:50.041382",
     "exception": false,
     "start_time": "2025-09-16T12:44:50.038008",
     "status": "completed"
    },
    "tags": []
   },
   "source": [
    "# 2.\n",
    "\n",
    "You are analyzing sports teams.  Members of each team are stored in a list. The Coach is the first name in the list, the captain is the second name in the list, and other players are listed after that. \n",
    "These lists are stored in another list, which starts with the best team and proceeds through the list to the worst team last.  Complete the function below to select the **captain** of the worst team."
   ]
  },
  {
   "cell_type": "code",
   "execution_count": 4,
   "id": "1f62cb9b",
   "metadata": {
    "execution": {
     "iopub.execute_input": "2025-09-16T12:44:50.050648Z",
     "iopub.status.busy": "2025-09-16T12:44:50.049653Z",
     "iopub.status.idle": "2025-09-16T12:44:50.058252Z",
     "shell.execute_reply": "2025-09-16T12:44:50.057403Z"
    },
    "papermill": {
     "duration": 0.014575,
     "end_time": "2025-09-16T12:44:50.059565",
     "exception": false,
     "start_time": "2025-09-16T12:44:50.044990",
     "status": "completed"
    },
    "tags": []
   },
   "outputs": [
    {
     "data": {
      "application/javascript": [
       "parent.postMessage({\"jupyterEvent\": \"custom.exercise_interaction\", \"data\": {\"outcomeType\": 1, \"valueTowardsCompletion\": 0.2, \"interactionType\": 1, \"questionType\": 2, \"questionId\": \"2_LosingTeamCaptain\", \"learnToolsVersion\": \"0.3.5\", \"failureMessage\": \"\", \"exceptionClass\": \"\", \"trace\": \"\"}}, \"*\")"
      ],
      "text/plain": [
       "<IPython.core.display.Javascript object>"
      ]
     },
     "metadata": {},
     "output_type": "display_data"
    },
    {
     "data": {
      "text/markdown": [
       "<span style=\"color:#33cc33\">Correct</span>"
      ],
      "text/plain": [
       "Correct"
      ]
     },
     "metadata": {},
     "output_type": "display_data"
    }
   ],
   "source": [
    "def losing_team_captain(teams):\n",
    "    \"\"\"Given a list of teams, where each team is a list of names, return the 2nd player (captain)\n",
    "    from the last listed team\n",
    "    \"\"\"\n",
    "    return teams [-1][1]\n",
    "\n",
    "# Check your answer\n",
    "q2.check()"
   ]
  },
  {
   "cell_type": "code",
   "execution_count": 5,
   "id": "f202d9d4",
   "metadata": {
    "execution": {
     "iopub.execute_input": "2025-09-16T12:44:50.068563Z",
     "iopub.status.busy": "2025-09-16T12:44:50.068296Z",
     "iopub.status.idle": "2025-09-16T12:44:50.071951Z",
     "shell.execute_reply": "2025-09-16T12:44:50.071091Z"
    },
    "papermill": {
     "duration": 0.009844,
     "end_time": "2025-09-16T12:44:50.073447",
     "exception": false,
     "start_time": "2025-09-16T12:44:50.063603",
     "status": "completed"
    },
    "tags": []
   },
   "outputs": [],
   "source": [
    "#q2.hint()\n",
    "#q2.solution()"
   ]
  },
  {
   "cell_type": "markdown",
   "id": "e6cd737a",
   "metadata": {
    "papermill": {
     "duration": 0.003605,
     "end_time": "2025-09-16T12:44:50.081959",
     "exception": false,
     "start_time": "2025-09-16T12:44:50.078354",
     "status": "completed"
    },
    "tags": []
   },
   "source": [
    "# 3.\n",
    "\n",
    "The next iteration of Mario Kart will feature an extra-infuriating new item, the *Purple Shell*. When used, it warps the last place racer into first place and the first place racer into last place. Complete the function below to implement the Purple Shell's effect."
   ]
  },
  {
   "cell_type": "code",
   "execution_count": 6,
   "id": "622f5fd7",
   "metadata": {
    "execution": {
     "iopub.execute_input": "2025-09-16T12:44:50.090921Z",
     "iopub.status.busy": "2025-09-16T12:44:50.090587Z",
     "iopub.status.idle": "2025-09-16T12:44:50.098630Z",
     "shell.execute_reply": "2025-09-16T12:44:50.097815Z"
    },
    "papermill": {
     "duration": 0.014416,
     "end_time": "2025-09-16T12:44:50.100228",
     "exception": false,
     "start_time": "2025-09-16T12:44:50.085812",
     "status": "completed"
    },
    "tags": []
   },
   "outputs": [
    {
     "data": {
      "application/javascript": [
       "parent.postMessage({\"jupyterEvent\": \"custom.exercise_interaction\", \"data\": {\"outcomeType\": 1, \"valueTowardsCompletion\": 0.2, \"interactionType\": 1, \"questionType\": 2, \"questionId\": \"3_PurpleShell\", \"learnToolsVersion\": \"0.3.5\", \"failureMessage\": \"\", \"exceptionClass\": \"\", \"trace\": \"\"}}, \"*\")"
      ],
      "text/plain": [
       "<IPython.core.display.Javascript object>"
      ]
     },
     "metadata": {},
     "output_type": "display_data"
    },
    {
     "data": {
      "text/markdown": [
       "<span style=\"color:#33cc33\">Correct</span>"
      ],
      "text/plain": [
       "Correct"
      ]
     },
     "metadata": {},
     "output_type": "display_data"
    }
   ],
   "source": [
    "def purple_shell(racers):\n",
    "    \"\"\"Given a list of racers, set the first place racer (at the front of the list) to last\n",
    "    place and vice versa.\n",
    "    \n",
    "    >>> r = [\"Mario\", \"Bowser\", \"Luigi\"]\n",
    "    >>> purple_shell(r)\n",
    "    >>> r\n",
    "    [\"Luigi\", \"Bowser\", \"Mario\"]\n",
    "    \"\"\"\n",
    "    temp_racer = racers[0]\n",
    "    racers[0] = racers[-1]\n",
    "    racers[-1] = temp_racer\n",
    "\n",
    "# Check your answer\n",
    "q3.check()"
   ]
  },
  {
   "cell_type": "code",
   "execution_count": 7,
   "id": "4de5574e",
   "metadata": {
    "execution": {
     "iopub.execute_input": "2025-09-16T12:44:50.109963Z",
     "iopub.status.busy": "2025-09-16T12:44:50.109248Z",
     "iopub.status.idle": "2025-09-16T12:44:50.116329Z",
     "shell.execute_reply": "2025-09-16T12:44:50.115243Z"
    },
    "papermill": {
     "duration": 0.0133,
     "end_time": "2025-09-16T12:44:50.117732",
     "exception": false,
     "start_time": "2025-09-16T12:44:50.104432",
     "status": "completed"
    },
    "tags": []
   },
   "outputs": [
    {
     "data": {
      "application/javascript": [
       "parent.postMessage({\"jupyterEvent\": \"custom.exercise_interaction\", \"data\": {\"interactionType\": 3, \"questionType\": 2, \"questionId\": \"3_PurpleShell\", \"learnToolsVersion\": \"0.3.5\", \"valueTowardsCompletion\": 0.0, \"failureMessage\": \"\", \"exceptionClass\": \"\", \"trace\": \"\", \"outcomeType\": 4}}, \"*\")"
      ],
      "text/plain": [
       "<IPython.core.display.Javascript object>"
      ]
     },
     "metadata": {},
     "output_type": "display_data"
    },
    {
     "data": {
      "text/markdown": [
       "<span style=\"color:#33cc99\">Solution:</span> \n",
       "```python\n",
       "def purple_shell(racers):\n",
       "    # One slick way to do the swap is x[0], x[-1] = x[-1], x[0].\n",
       "    temp = racers[0]\n",
       "    racers[0] = racers[-1]\n",
       "    racers[-1] = temp\n",
       "```"
      ],
      "text/plain": [
       "Solution: \n",
       "```python\n",
       "def purple_shell(racers):\n",
       "    # One slick way to do the swap is x[0], x[-1] = x[-1], x[0].\n",
       "    temp = racers[0]\n",
       "    racers[0] = racers[-1]\n",
       "    racers[-1] = temp\n",
       "```"
      ]
     },
     "metadata": {},
     "output_type": "display_data"
    }
   ],
   "source": [
    "#q3.hint()\n",
    "q3.solution()"
   ]
  },
  {
   "cell_type": "markdown",
   "id": "06419e2f",
   "metadata": {
    "papermill": {
     "duration": 0.00409,
     "end_time": "2025-09-16T12:44:50.126182",
     "exception": false,
     "start_time": "2025-09-16T12:44:50.122092",
     "status": "completed"
    },
    "tags": []
   },
   "source": [
    "# 4.\n",
    "\n",
    "What are the lengths of the following lists? Fill in the variable `lengths` with your predictions. (Try to make a prediction for each list *without* just calling `len()` on it.)"
   ]
  },
  {
   "cell_type": "code",
   "execution_count": 8,
   "id": "fe049cde",
   "metadata": {
    "execution": {
     "iopub.execute_input": "2025-09-16T12:44:50.136377Z",
     "iopub.status.busy": "2025-09-16T12:44:50.135336Z",
     "iopub.status.idle": "2025-09-16T12:44:50.144234Z",
     "shell.execute_reply": "2025-09-16T12:44:50.143390Z"
    },
    "papermill": {
     "duration": 0.015217,
     "end_time": "2025-09-16T12:44:50.145507",
     "exception": false,
     "start_time": "2025-09-16T12:44:50.130290",
     "status": "completed"
    },
    "tags": []
   },
   "outputs": [
    {
     "data": {
      "application/javascript": [
       "parent.postMessage({\"jupyterEvent\": \"custom.exercise_interaction\", \"data\": {\"outcomeType\": 1, \"valueTowardsCompletion\": 0.2, \"interactionType\": 1, \"questionType\": 1, \"questionId\": \"4_UnderstandLen\", \"learnToolsVersion\": \"0.3.5\", \"failureMessage\": \"\", \"exceptionClass\": \"\", \"trace\": \"\"}}, \"*\")"
      ],
      "text/plain": [
       "<IPython.core.display.Javascript object>"
      ]
     },
     "metadata": {},
     "output_type": "display_data"
    },
    {
     "data": {
      "text/markdown": [
       "<span style=\"color:#33cc33\">Correct:</span> \n",
       "\n",
       "\n",
       "- a: There are three items in this list. Nothing tricky yet.\n",
       "- b: The list `[2, 3]` counts as a single item. It has one item before it. So we have 2 items in the list\n",
       "- c: The empty list has 0 items\n",
       "- d: The expression is the same as the list `[2, 3]`, which has length 2."
      ],
      "text/plain": [
       "Correct: \n",
       "\n",
       "\n",
       "- a: There are three items in this list. Nothing tricky yet.\n",
       "- b: The list `[2, 3]` counts as a single item. It has one item before it. So we have 2 items in the list\n",
       "- c: The empty list has 0 items\n",
       "- d: The expression is the same as the list `[2, 3]`, which has length 2."
      ]
     },
     "metadata": {},
     "output_type": "display_data"
    }
   ],
   "source": [
    "a = [1, 2, 3]\n",
    "b = [1, [2, 3]]\n",
    "c = []\n",
    "d = [1, 2, 3][1:]\n",
    "\n",
    "# Put your predictions in the list below. Lengths should contain 4 numbers, the\n",
    "# first being the length of a, the second being the length of b and so on.\n",
    "lengths = [len(a), len(b), len(c), len(d)]\n",
    "\n",
    "# Check your answer\n",
    "q4.check()"
   ]
  },
  {
   "cell_type": "code",
   "execution_count": 9,
   "id": "57efe47c",
   "metadata": {
    "execution": {
     "iopub.execute_input": "2025-09-16T12:44:50.155392Z",
     "iopub.status.busy": "2025-09-16T12:44:50.155081Z",
     "iopub.status.idle": "2025-09-16T12:44:50.158739Z",
     "shell.execute_reply": "2025-09-16T12:44:50.157986Z"
    },
    "papermill": {
     "duration": 0.010262,
     "end_time": "2025-09-16T12:44:50.160180",
     "exception": false,
     "start_time": "2025-09-16T12:44:50.149918",
     "status": "completed"
    },
    "tags": []
   },
   "outputs": [],
   "source": [
    "# line below provides some explanation\n",
    "#q4.solution()"
   ]
  },
  {
   "cell_type": "markdown",
   "id": "6c9d534b",
   "metadata": {
    "papermill": {
     "duration": 0.004567,
     "end_time": "2025-09-16T12:44:50.169304",
     "exception": false,
     "start_time": "2025-09-16T12:44:50.164737",
     "status": "completed"
    },
    "tags": []
   },
   "source": [
    "# 5. <span title=\"A bit spicy\" style=\"color: darkgreen \">🌶️</span>\n",
    "\n",
    "We're using lists to record people who attended our party and what order they arrived in. For example, the following list represents a party with 7 guests, in which Adela showed up first and Ford was the last to arrive:\n",
    "\n",
    "    party_attendees = ['Adela', 'Fleda', 'Owen', 'May', 'Mona', 'Gilbert', 'Ford']\n",
    "\n",
    "A guest is considered 'fashionably late' if they arrived after at least half of the party's guests. However, they must not be the very last guest (that's taking it too far). In the above example, Mona and Gilbert are the only guests who were fashionably late.\n",
    "\n",
    "Complete the function below which takes a list of party attendees as well as a person, and tells us whether that person is fashionably late."
   ]
  },
  {
   "cell_type": "code",
   "execution_count": 10,
   "id": "ff36b70b",
   "metadata": {
    "execution": {
     "iopub.execute_input": "2025-09-16T12:44:50.179965Z",
     "iopub.status.busy": "2025-09-16T12:44:50.179157Z",
     "iopub.status.idle": "2025-09-16T12:44:50.187355Z",
     "shell.execute_reply": "2025-09-16T12:44:50.186540Z"
    },
    "papermill": {
     "duration": 0.014995,
     "end_time": "2025-09-16T12:44:50.188724",
     "exception": false,
     "start_time": "2025-09-16T12:44:50.173729",
     "status": "completed"
    },
    "tags": []
   },
   "outputs": [
    {
     "data": {
      "application/javascript": [
       "parent.postMessage({\"jupyterEvent\": \"custom.exercise_interaction\", \"data\": {\"outcomeType\": 1, \"valueTowardsCompletion\": 0.2, \"interactionType\": 1, \"questionType\": 2, \"questionId\": \"5_FashionablyLate\", \"learnToolsVersion\": \"0.3.5\", \"failureMessage\": \"\", \"exceptionClass\": \"\", \"trace\": \"\"}}, \"*\")"
      ],
      "text/plain": [
       "<IPython.core.display.Javascript object>"
      ]
     },
     "metadata": {},
     "output_type": "display_data"
    },
    {
     "data": {
      "text/markdown": [
       "<span style=\"color:#33cc33\">Correct</span>"
      ],
      "text/plain": [
       "Correct"
      ]
     },
     "metadata": {},
     "output_type": "display_data"
    }
   ],
   "source": [
    "def fashionably_late(arrivals, name):\n",
    "    \"\"\"Given an ordered list of arrivals to the party and a name, return whether the guest with that\n",
    "    name was fashionably late.\n",
    "    \"\"\"\n",
    "    arrive_order = arrivals.index(name)\n",
    "    return arrive_order >= len(arrivals)/2 and arrive_order !=len(arrivals)-1\n",
    "\n",
    "# Check your answer\n",
    "q5.check()"
   ]
  },
  {
   "cell_type": "code",
   "execution_count": 11,
   "id": "98022eb9",
   "metadata": {
    "execution": {
     "iopub.execute_input": "2025-09-16T12:44:50.199098Z",
     "iopub.status.busy": "2025-09-16T12:44:50.198762Z",
     "iopub.status.idle": "2025-09-16T12:44:50.202475Z",
     "shell.execute_reply": "2025-09-16T12:44:50.201808Z"
    },
    "papermill": {
     "duration": 0.010733,
     "end_time": "2025-09-16T12:44:50.204146",
     "exception": false,
     "start_time": "2025-09-16T12:44:50.193413",
     "status": "completed"
    },
    "tags": []
   },
   "outputs": [],
   "source": [
    "#q5.hint()\n",
    "\n",
    "#q5.solution()"
   ]
  },
  {
   "cell_type": "markdown",
   "id": "a986909e",
   "metadata": {
    "papermill": {
     "duration": 0.004325,
     "end_time": "2025-09-16T12:44:50.213213",
     "exception": false,
     "start_time": "2025-09-16T12:44:50.208888",
     "status": "completed"
    },
    "tags": []
   },
   "source": [
    "# Keep Going\n",
    "\n",
    "That's it for lists and tuples! Now you have the baseline knowledge to **[learn about loops](https://www.kaggle.com/colinmorris/loops-and-list-comprehensions)**, which is where lists and tuples get really interesting. "
   ]
  },
  {
   "cell_type": "markdown",
   "id": "eb039d63",
   "metadata": {
    "papermill": {
     "duration": 0.004239,
     "end_time": "2025-09-16T12:44:50.221931",
     "exception": false,
     "start_time": "2025-09-16T12:44:50.217692",
     "status": "completed"
    },
    "tags": []
   },
   "source": [
    "---\n",
    "\n",
    "\n",
    "\n",
    "\n",
    "*Have questions or comments? Visit the [course discussion forum](https://www.kaggle.com/learn/python/discussion) to chat with other learners.*"
   ]
  }
 ],
 "metadata": {
  "kaggle": {
   "accelerator": "none",
   "dataSources": [],
   "isGpuEnabled": false,
   "isInternetEnabled": false,
   "language": "python",
   "sourceType": "notebook"
  },
  "kernelspec": {
   "display_name": "Python 3",
   "language": "python",
   "name": "python3"
  },
  "language_info": {
   "codemirror_mode": {
    "name": "ipython",
    "version": 3
   },
   "file_extension": ".py",
   "mimetype": "text/x-python",
   "name": "python",
   "nbconvert_exporter": "python",
   "pygments_lexer": "ipython3",
   "version": "3.11.13"
  },
  "learntools_metadata": {
   "lesson_index": 3,
   "type": "exercise"
  },
  "papermill": {
   "default_parameters": {},
   "duration": 8.686296,
   "end_time": "2025-09-16T12:44:50.746396",
   "environment_variables": {},
   "exception": null,
   "input_path": "__notebook__.ipynb",
   "output_path": "__notebook__.ipynb",
   "parameters": {},
   "start_time": "2025-09-16T12:44:42.060100",
   "version": "2.6.0"
  }
 },
 "nbformat": 4,
 "nbformat_minor": 5
}
