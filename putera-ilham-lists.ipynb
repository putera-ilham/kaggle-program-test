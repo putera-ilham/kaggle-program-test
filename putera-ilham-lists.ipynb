{
 "cells": [
  {
   "cell_type": "markdown",
   "id": "f44f641c",
   "metadata": {
    "papermill": {
     "duration": 0.005143,
     "end_time": "2025-09-11T07:52:59.501400",
     "exception": false,
     "start_time": "2025-09-11T07:52:59.496257",
     "status": "completed"
    },
    "tags": []
   },
   "source": [
    "**This notebook is an exercise in the [Intro to Programming](https://www.kaggle.com/learn/intro-to-programming) course.  You can reference the tutorial at [this link](https://www.kaggle.com/alexisbcook/intro-to-lists).**\n",
    "\n",
    "---\n"
   ]
  },
  {
   "cell_type": "markdown",
   "id": "8838a5ad",
   "metadata": {
    "papermill": {
     "duration": 0.004144,
     "end_time": "2025-09-11T07:52:59.510276",
     "exception": false,
     "start_time": "2025-09-11T07:52:59.506132",
     "status": "completed"
    },
    "tags": []
   },
   "source": [
    "In the tutorial, you learned how to define and modify Python lists.  In this exercise, you will use your new knowledge to solve several problems.\n",
    "\n",
    "# Set up the notebook\n",
    "\n",
    "Run the next code cell without changes to set up the notebook."
   ]
  },
  {
   "cell_type": "code",
   "execution_count": 1,
   "id": "f42578b5",
   "metadata": {
    "execution": {
     "iopub.execute_input": "2025-09-11T07:52:59.520277Z",
     "iopub.status.busy": "2025-09-11T07:52:59.519980Z",
     "iopub.status.idle": "2025-09-11T07:53:01.411583Z",
     "shell.execute_reply": "2025-09-11T07:53:01.410513Z"
    },
    "papermill": {
     "duration": 1.898574,
     "end_time": "2025-09-11T07:53:01.413236",
     "exception": false,
     "start_time": "2025-09-11T07:52:59.514662",
     "status": "completed"
    },
    "tags": []
   },
   "outputs": [
    {
     "name": "stdout",
     "output_type": "stream",
     "text": [
      "Setup complete.\n"
     ]
    }
   ],
   "source": [
    "from learntools.core import binder\n",
    "binder.bind(globals())\n",
    "from learntools.intro_to_programming.ex5 import *\n",
    "print('Setup complete.')"
   ]
  },
  {
   "cell_type": "markdown",
   "id": "6a23b230",
   "metadata": {
    "papermill": {
     "duration": 0.004303,
     "end_time": "2025-09-11T07:53:01.422564",
     "exception": false,
     "start_time": "2025-09-11T07:53:01.418261",
     "status": "completed"
    },
    "tags": []
   },
   "source": [
    "# Question 1\n",
    "\n",
    "You own a restaurant with five food dishes, organized in the Python list `menu` below.  One day, you decide to:\n",
    "- remove bean soup (`'bean soup'`) from the menu, and\n",
    "- add roasted beet salad (`'roasted beet salad'`) to the menu.\n",
    "\n",
    "Implement this change to the list below.  While completing this task, \n",
    "- do not change the line that creates the `menu` list.  \n",
    "- your answer should use `.remove()` and `.append()`.  "
   ]
  },
  {
   "cell_type": "code",
   "execution_count": 2,
   "id": "fc1a443e",
   "metadata": {
    "execution": {
     "iopub.execute_input": "2025-09-11T07:53:01.432976Z",
     "iopub.status.busy": "2025-09-11T07:53:01.432530Z",
     "iopub.status.idle": "2025-09-11T07:53:01.441973Z",
     "shell.execute_reply": "2025-09-11T07:53:01.441118Z"
    },
    "papermill": {
     "duration": 0.016319,
     "end_time": "2025-09-11T07:53:01.443296",
     "exception": false,
     "start_time": "2025-09-11T07:53:01.426977",
     "status": "completed"
    },
    "tags": []
   },
   "outputs": [
    {
     "name": "stdout",
     "output_type": "stream",
     "text": [
      "['stewed meat with onions', 'risotto with trout and shrimp', 'fish soup with cream and onion', 'gyro', 'roasted beet salad']\n"
     ]
    },
    {
     "data": {
      "application/javascript": [
       "parent.postMessage({\"jupyterEvent\": \"custom.exercise_interaction\", \"data\": {\"outcomeType\": 1, \"valueTowardsCompletion\": 0.2, \"interactionType\": 1, \"questionType\": 2, \"questionId\": \"1_FoodMenu\", \"learnToolsVersion\": \"0.3.5\", \"failureMessage\": \"\", \"exceptionClass\": \"\", \"trace\": \"\"}}, \"*\")"
      ],
      "text/plain": [
       "<IPython.core.display.Javascript object>"
      ]
     },
     "metadata": {},
     "output_type": "display_data"
    },
    {
     "data": {
      "text/markdown": [
       "<span style=\"color:#33cc33\">Correct</span>"
      ],
      "text/plain": [
       "Correct"
      ]
     },
     "metadata": {},
     "output_type": "display_data"
    }
   ],
   "source": [
    "# Do not change: Initial menu for your restaurant\n",
    "menu = ['stewed meat with onions', 'bean soup', 'risotto with trout and shrimp',\n",
    "       'fish soup with cream and onion', 'gyro']\n",
    "\n",
    "# TODO: remove 'bean soup', and add 'roasted beet salad' to the end of the menu\n",
    "menu.remove('bean soup')\n",
    "menu.append('roasted beet salad')\n",
    "print (menu)\n",
    "\n",
    "# Do not change: Check your answer\n",
    "q1.check()"
   ]
  },
  {
   "cell_type": "code",
   "execution_count": 3,
   "id": "7856c3a0",
   "metadata": {
    "execution": {
     "iopub.execute_input": "2025-09-11T07:53:01.454104Z",
     "iopub.status.busy": "2025-09-11T07:53:01.453432Z",
     "iopub.status.idle": "2025-09-11T07:53:01.457383Z",
     "shell.execute_reply": "2025-09-11T07:53:01.456495Z"
    },
    "papermill": {
     "duration": 0.010792,
     "end_time": "2025-09-11T07:53:01.458839",
     "exception": false,
     "start_time": "2025-09-11T07:53:01.448047",
     "status": "completed"
    },
    "tags": []
   },
   "outputs": [],
   "source": [
    "# Uncomment to see a hint\n",
    "#q1.hint()\n",
    "\n",
    "# Uncomment to see the solution\n",
    "#q1.solution()"
   ]
  },
  {
   "cell_type": "markdown",
   "id": "85c1539f",
   "metadata": {
    "papermill": {
     "duration": 0.004403,
     "end_time": "2025-09-11T07:53:01.468224",
     "exception": false,
     "start_time": "2025-09-11T07:53:01.463821",
     "status": "completed"
    },
    "tags": []
   },
   "source": [
    "# Question 2\n",
    "\n",
    "The list `num_customers` contains the number of customers who came into your restaurant every day over the last month (which lasted thirty days).  Fill in values for each of the following:\n",
    "- `avg_first_seven` - average number of customers who visited in the first seven days\n",
    "- `avg_last_seven` - average number of customers who visited in the last seven days\n",
    "- `max_month` - number of customers on the day that got the most customers in the last month\n",
    "- `min_month` - number of customers on the day that got the least customers in the last month\n",
    "\n",
    "Answer this question by writing code.  For instance, if you have to find the minimum value in a list, use `min()` instead of scanning for the smallest value and directly filling in a number."
   ]
  },
  {
   "cell_type": "code",
   "execution_count": 4,
   "id": "ae39a76e",
   "metadata": {
    "execution": {
     "iopub.execute_input": "2025-09-11T07:53:01.479513Z",
     "iopub.status.busy": "2025-09-11T07:53:01.479216Z",
     "iopub.status.idle": "2025-09-11T07:53:01.489114Z",
     "shell.execute_reply": "2025-09-11T07:53:01.488270Z"
    },
    "papermill": {
     "duration": 0.01763,
     "end_time": "2025-09-11T07:53:01.490474",
     "exception": false,
     "start_time": "2025-09-11T07:53:01.472844",
     "status": "completed"
    },
    "tags": []
   },
   "outputs": [
    {
     "name": "stdout",
     "output_type": "stream",
     "text": [
      "150.85714285714286\n",
      "157.0\n",
      "174\n",
      "126\n"
     ]
    },
    {
     "data": {
      "application/javascript": [
       "parent.postMessage({\"jupyterEvent\": \"custom.exercise_interaction\", \"data\": {\"outcomeType\": 1, \"valueTowardsCompletion\": 0.2, \"interactionType\": 1, \"questionType\": 1, \"questionId\": \"2_NumCustomers\", \"learnToolsVersion\": \"0.3.5\", \"failureMessage\": \"\", \"exceptionClass\": \"\", \"trace\": \"\"}}, \"*\")"
      ],
      "text/plain": [
       "<IPython.core.display.Javascript object>"
      ]
     },
     "metadata": {},
     "output_type": "display_data"
    },
    {
     "data": {
      "text/markdown": [
       "<span style=\"color:#33cc33\">Correct</span>"
      ],
      "text/plain": [
       "Correct"
      ]
     },
     "metadata": {},
     "output_type": "display_data"
    }
   ],
   "source": [
    "# Do not change: Number of customers each day for the last month\n",
    "num_customers = [137, 147, 135, 128, 170, 174, 165, 146, 126, 159,\n",
    "                 141, 148, 132, 147, 168, 153, 170, 161, 148, 152,\n",
    "                 141, 151, 131, 149, 164, 163, 143, 143, 166, 171]\n",
    "\n",
    "# TODO: Fill in values for the variables below\n",
    "avg_first_seven = sum(num_customers[:7])/7\n",
    "avg_last_seven = sum(num_customers[-7:])/7 \n",
    "max_month = max(num_customers)\n",
    "min_month = min(num_customers)\n",
    "\n",
    "print(avg_first_seven)\n",
    "print(avg_last_seven)\n",
    "print(max_month)\n",
    "print(min_month)\n",
    "\n",
    "# Do not change: Check your answer\n",
    "q2.check()"
   ]
  },
  {
   "cell_type": "code",
   "execution_count": 5,
   "id": "34b77a7d",
   "metadata": {
    "execution": {
     "iopub.execute_input": "2025-09-11T07:53:01.501537Z",
     "iopub.status.busy": "2025-09-11T07:53:01.501245Z",
     "iopub.status.idle": "2025-09-11T07:53:01.505176Z",
     "shell.execute_reply": "2025-09-11T07:53:01.504390Z"
    },
    "papermill": {
     "duration": 0.011159,
     "end_time": "2025-09-11T07:53:01.506572",
     "exception": false,
     "start_time": "2025-09-11T07:53:01.495413",
     "status": "completed"
    },
    "tags": []
   },
   "outputs": [],
   "source": [
    "# Uncomment to see a hint\n",
    "#q2.hint()\n",
    "\n",
    "# Uncomment to see the solution\n",
    "#q2.solution()"
   ]
  },
  {
   "cell_type": "markdown",
   "id": "fed98668",
   "metadata": {
    "papermill": {
     "duration": 0.004662,
     "end_time": "2025-09-11T07:53:01.516272",
     "exception": false,
     "start_time": "2025-09-11T07:53:01.511610",
     "status": "completed"
    },
    "tags": []
   },
   "source": [
    "# Question 3\n",
    "\n",
    "In the tutorial, we gave an example of a Python string with information that was better as a list."
   ]
  },
  {
   "cell_type": "code",
   "execution_count": 6,
   "id": "00d0082b",
   "metadata": {
    "execution": {
     "iopub.execute_input": "2025-09-11T07:53:01.527084Z",
     "iopub.status.busy": "2025-09-11T07:53:01.526724Z",
     "iopub.status.idle": "2025-09-11T07:53:01.530856Z",
     "shell.execute_reply": "2025-09-11T07:53:01.530095Z"
    },
    "papermill": {
     "duration": 0.011121,
     "end_time": "2025-09-11T07:53:01.532138",
     "exception": false,
     "start_time": "2025-09-11T07:53:01.521017",
     "status": "completed"
    },
    "tags": []
   },
   "outputs": [],
   "source": [
    "flowers = \"pink primrose,hard-leaved pocket orchid,canterbury bells,sweet pea,english marigold,tiger lily,moon orchid,bird of paradise,monkshood,globe thistle\""
   ]
  },
  {
   "cell_type": "markdown",
   "id": "65078e43",
   "metadata": {
    "papermill": {
     "duration": 0.004492,
     "end_time": "2025-09-11T07:53:01.541455",
     "exception": false,
     "start_time": "2025-09-11T07:53:01.536963",
     "status": "completed"
    },
    "tags": []
   },
   "source": [
    "You can actually use Python to quickly turn this string into a list with `.split()`.  In the parentheses, we need to provide the character should be used to mark the end of one list item and the beginning of another, and enclose it in quotation marks.  In this case, that character is a comma."
   ]
  },
  {
   "cell_type": "code",
   "execution_count": 7,
   "id": "724d23bb",
   "metadata": {
    "execution": {
     "iopub.execute_input": "2025-09-11T07:53:01.552578Z",
     "iopub.status.busy": "2025-09-11T07:53:01.551707Z",
     "iopub.status.idle": "2025-09-11T07:53:01.556644Z",
     "shell.execute_reply": "2025-09-11T07:53:01.555841Z"
    },
    "papermill": {
     "duration": 0.011776,
     "end_time": "2025-09-11T07:53:01.557931",
     "exception": false,
     "start_time": "2025-09-11T07:53:01.546155",
     "status": "completed"
    },
    "tags": []
   },
   "outputs": [
    {
     "name": "stdout",
     "output_type": "stream",
     "text": [
      "['pink primrose', 'hard-leaved pocket orchid', 'canterbury bells', 'sweet pea', 'english marigold', 'tiger lily', 'moon orchid', 'bird of paradise', 'monkshood', 'globe thistle']\n"
     ]
    }
   ],
   "source": [
    " print(flowers.split(\",\"))"
   ]
  },
  {
   "cell_type": "markdown",
   "id": "d459cfa2",
   "metadata": {
    "papermill": {
     "duration": 0.004531,
     "end_time": "2025-09-11T07:53:01.567250",
     "exception": false,
     "start_time": "2025-09-11T07:53:01.562719",
     "status": "completed"
    },
    "tags": []
   },
   "source": [
    "Now it is your turn to try this out!  Create two Python lists:\n",
    "- `letters` should be a Python list where each entry is an uppercase letter of the English alphabet.  For instance, the first two entries should be `\"A\"` and `\"B\"`, and the final two entries should be `\"Y\"` and `\"Z\"`.  Use the string `alphabet` to create this list.\n",
    "- `address` should be a Python list where each row in `address` is a different item in the list.  Currently, each row in `address` is separated by a comma. "
   ]
  },
  {
   "cell_type": "code",
   "execution_count": 8,
   "id": "81b73e06",
   "metadata": {
    "execution": {
     "iopub.execute_input": "2025-09-11T07:53:01.578293Z",
     "iopub.status.busy": "2025-09-11T07:53:01.577522Z",
     "iopub.status.idle": "2025-09-11T07:53:01.585742Z",
     "shell.execute_reply": "2025-09-11T07:53:01.585075Z"
    },
    "papermill": {
     "duration": 0.015382,
     "end_time": "2025-09-11T07:53:01.587293",
     "exception": false,
     "start_time": "2025-09-11T07:53:01.571911",
     "status": "completed"
    },
    "tags": []
   },
   "outputs": [
    {
     "name": "stdout",
     "output_type": "stream",
     "text": [
      "['A', 'B', 'C', 'D', 'E', 'F', 'G', 'H', 'I', 'J', 'K', 'L', 'M', 'N', 'O', 'P', 'Q', 'R', 'S', 'T', 'U', 'V', 'W', 'X', 'Y', 'Z']\n",
      "['Mr. H. Potter', 'The cupboard under the Stairs', '4 Privet Drive', 'Little Whinging', 'Surrey']\n"
     ]
    },
    {
     "data": {
      "application/javascript": [
       "parent.postMessage({\"jupyterEvent\": \"custom.exercise_interaction\", \"data\": {\"outcomeType\": 1, \"valueTowardsCompletion\": 0.2, \"interactionType\": 1, \"questionType\": 1, \"questionId\": \"3_SplitString\", \"learnToolsVersion\": \"0.3.5\", \"failureMessage\": \"\", \"exceptionClass\": \"\", \"trace\": \"\"}}, \"*\")"
      ],
      "text/plain": [
       "<IPython.core.display.Javascript object>"
      ]
     },
     "metadata": {},
     "output_type": "display_data"
    },
    {
     "data": {
      "text/markdown": [
       "<span style=\"color:#33cc33\">Correct</span>"
      ],
      "text/plain": [
       "Correct"
      ]
     },
     "metadata": {},
     "output_type": "display_data"
    }
   ],
   "source": [
    "# DO not change: Define two Python strings\n",
    "alphabet = \"A.B.C.D.E.F.G.H.I.J.K.L.M.N.O.P.Q.R.S.T.U.V.W.X.Y.Z\"\n",
    "address = \"Mr. H. Potter,The cupboard under the Stairs,4 Privet Drive,Little Whinging,Surrey\"\n",
    "\n",
    "# TODO: Convert strings into Python lists\n",
    "letters = alphabet.split('.')\n",
    "formatted_address = address.split(',')\n",
    "\n",
    "print(letters)\n",
    "print(formatted_address)\n",
    "# Do not change: Check your answer\n",
    "q3.check()"
   ]
  },
  {
   "cell_type": "code",
   "execution_count": 9,
   "id": "c4ff8db6",
   "metadata": {
    "execution": {
     "iopub.execute_input": "2025-09-11T07:53:01.598656Z",
     "iopub.status.busy": "2025-09-11T07:53:01.598396Z",
     "iopub.status.idle": "2025-09-11T07:53:01.601960Z",
     "shell.execute_reply": "2025-09-11T07:53:01.601254Z"
    },
    "papermill": {
     "duration": 0.010792,
     "end_time": "2025-09-11T07:53:01.603284",
     "exception": false,
     "start_time": "2025-09-11T07:53:01.592492",
     "status": "completed"
    },
    "tags": []
   },
   "outputs": [],
   "source": [
    "# Uncomment to see a hint\n",
    "#q3.hint()\n",
    "\n",
    "# Uncomment to see the solution\n",
    "#q3.solution()"
   ]
  },
  {
   "cell_type": "markdown",
   "id": "f3166d96",
   "metadata": {
    "papermill": {
     "duration": 0.005025,
     "end_time": "2025-09-11T07:53:01.613595",
     "exception": false,
     "start_time": "2025-09-11T07:53:01.608570",
     "status": "completed"
    },
    "tags": []
   },
   "source": [
    "# Question 4\n",
    "\n",
    "In the Python course, you'll learn all about **list comprehensions**, which allow you to create a list based on the values in another list.  In this question, you'll get a brief preview of how they work.\n",
    "\n",
    "Say we're working with the list below."
   ]
  },
  {
   "cell_type": "code",
   "execution_count": 10,
   "id": "b93eb054",
   "metadata": {
    "execution": {
     "iopub.execute_input": "2025-09-11T07:53:01.625396Z",
     "iopub.status.busy": "2025-09-11T07:53:01.624846Z",
     "iopub.status.idle": "2025-09-11T07:53:01.628959Z",
     "shell.execute_reply": "2025-09-11T07:53:01.628171Z"
    },
    "papermill": {
     "duration": 0.011606,
     "end_time": "2025-09-11T07:53:01.630302",
     "exception": false,
     "start_time": "2025-09-11T07:53:01.618696",
     "status": "completed"
    },
    "tags": []
   },
   "outputs": [],
   "source": [
    "test_ratings = [1, 2, 3, 4, 5]"
   ]
  },
  {
   "cell_type": "markdown",
   "id": "d02a5394",
   "metadata": {
    "papermill": {
     "duration": 0.005149,
     "end_time": "2025-09-11T07:53:01.640567",
     "exception": false,
     "start_time": "2025-09-11T07:53:01.635418",
     "status": "completed"
    },
    "tags": []
   },
   "source": [
    "Then we can use this list (`test_ratings`) to create a new list (`test_liked`) where each item has been turned into a boolean, depending on whether or not the item is greater than or equal to four."
   ]
  },
  {
   "cell_type": "code",
   "execution_count": 11,
   "id": "7ead802a",
   "metadata": {
    "execution": {
     "iopub.execute_input": "2025-09-11T07:53:01.652356Z",
     "iopub.status.busy": "2025-09-11T07:53:01.651523Z",
     "iopub.status.idle": "2025-09-11T07:53:01.656398Z",
     "shell.execute_reply": "2025-09-11T07:53:01.655560Z"
    },
    "papermill": {
     "duration": 0.012055,
     "end_time": "2025-09-11T07:53:01.657665",
     "exception": false,
     "start_time": "2025-09-11T07:53:01.645610",
     "status": "completed"
    },
    "tags": []
   },
   "outputs": [
    {
     "name": "stdout",
     "output_type": "stream",
     "text": [
      "[False, False, False, True, True]\n"
     ]
    }
   ],
   "source": [
    "test_liked = [i>=4 for i in test_ratings]\n",
    "print(test_liked)"
   ]
  },
  {
   "cell_type": "markdown",
   "id": "05472319",
   "metadata": {
    "papermill": {
     "duration": 0.00509,
     "end_time": "2025-09-11T07:53:01.667948",
     "exception": false,
     "start_time": "2025-09-11T07:53:01.662858",
     "status": "completed"
    },
    "tags": []
   },
   "source": [
    "In this question, you'll use this list comprehension to define a function `percentage_liked()` that takes one argument as input:\n",
    "- `ratings`: list of ratings that people gave to a movie, where each rating is a number between 1-5, inclusive\n",
    "\n",
    "We say someone liked the movie, if they gave a rating of either 4 or 5.  Your function should return the percentage of people who liked the movie.\n",
    "\n",
    "For instance, if we supply a value of `[1, 2, 3, 4, 5, 4, 5, 1]`, then 50% (4/8) of the people liked the movie, and the function should return `0.5`.\n",
    "\n",
    "Part of the function has already been completed for you.  You need only use `list_liked` to calculate `percentage_liked`."
   ]
  },
  {
   "cell_type": "code",
   "execution_count": 12,
   "id": "ef7bc478",
   "metadata": {
    "execution": {
     "iopub.execute_input": "2025-09-11T07:53:01.679625Z",
     "iopub.status.busy": "2025-09-11T07:53:01.678926Z",
     "iopub.status.idle": "2025-09-11T07:53:01.687033Z",
     "shell.execute_reply": "2025-09-11T07:53:01.686355Z"
    },
    "papermill": {
     "duration": 0.015313,
     "end_time": "2025-09-11T07:53:01.688357",
     "exception": false,
     "start_time": "2025-09-11T07:53:01.673044",
     "status": "completed"
    },
    "tags": []
   },
   "outputs": [
    {
     "name": "stdout",
     "output_type": "stream",
     "text": [
      "Percentage liked: <function percentage_liked at 0x7a3c8e195300>\n"
     ]
    },
    {
     "data": {
      "application/javascript": [
       "parent.postMessage({\"jupyterEvent\": \"custom.exercise_interaction\", \"data\": {\"outcomeType\": 1, \"valueTowardsCompletion\": 0.2, \"interactionType\": 1, \"questionType\": 2, \"questionId\": \"4_PercentageLiked\", \"learnToolsVersion\": \"0.3.5\", \"failureMessage\": \"\", \"exceptionClass\": \"\", \"trace\": \"\"}}, \"*\")"
      ],
      "text/plain": [
       "<IPython.core.display.Javascript object>"
      ]
     },
     "metadata": {},
     "output_type": "display_data"
    },
    {
     "data": {
      "text/markdown": [
       "<span style=\"color:#33cc33\">Correct</span>"
      ],
      "text/plain": [
       "Correct"
      ]
     },
     "metadata": {},
     "output_type": "display_data"
    }
   ],
   "source": [
    "\n",
    "def percentage_liked(ratings):\n",
    "    list_liked = [i>=4 for i in ratings]\n",
    "    # TODO: Complete the function\n",
    "    percentage_liked = sum(list_liked)/len(list_liked)\n",
    "    return percentage_liked\n",
    "    \n",
    "# Do not change: should return 0.5\n",
    "percentage_liked([1, 2, 3, 4, 5, 4, 5, 1])\n",
    "print(f\"Percentage liked: {percentage_liked}\")\n",
    "\n",
    "# Do not change: Check your answer\n",
    "q4.check()"
   ]
  },
  {
   "cell_type": "code",
   "execution_count": 13,
   "id": "ddc61f29",
   "metadata": {
    "execution": {
     "iopub.execute_input": "2025-09-11T07:53:01.700729Z",
     "iopub.status.busy": "2025-09-11T07:53:01.700198Z",
     "iopub.status.idle": "2025-09-11T07:53:01.704251Z",
     "shell.execute_reply": "2025-09-11T07:53:01.703355Z"
    },
    "papermill": {
     "duration": 0.011896,
     "end_time": "2025-09-11T07:53:01.705846",
     "exception": false,
     "start_time": "2025-09-11T07:53:01.693950",
     "status": "completed"
    },
    "tags": []
   },
   "outputs": [],
   "source": [
    "# Uncomment to see a hint\n",
    "#q4.hint()\n",
    "\n",
    "# Uncomment to see the solution\n",
    "#q4.solution()"
   ]
  },
  {
   "cell_type": "markdown",
   "id": "6590614b",
   "metadata": {
    "papermill": {
     "duration": 0.00533,
     "end_time": "2025-09-11T07:53:01.716919",
     "exception": false,
     "start_time": "2025-09-11T07:53:01.711589",
     "status": "completed"
    },
    "tags": []
   },
   "source": [
    "# 🌶️ Question 5\n",
    " \n",
    "Say you're doing analytics for a website.  You need to write a function that returns the percentage growth in the total number of users relative to a specified number of years ago.\n",
    "\n",
    "Your function `percentage_growth()` should take two arguments as input:\n",
    "- `num_users` = Python list with the total number of users each year.  So `num_users[0]` is the total number of users in the first year, `num_users[1]` is the total number of users in the second year, and so on.  The final entry in the list gives the total number of users in the most recently completed year.\n",
    "- `yrs_ago` = number of years to go back in time when calculating the growth percentage\n",
    "\n",
    "For instance, say `num_users = [920344, 1043553, 1204334, 1458996, 1503323, 1593432, 1623463, 1843064, 1930992, 2001078]`.\n",
    "- if `yrs_ago = 1`, we want the function to return a value of about `0.036`. This corresponds to a percentage growth of approximately 3.6%, calculated as (2001078 - 1930992)/1930992.\n",
    "- if `years_ago = 7`, we would want to return approximately `0.66`.  This corresponds to a percentage growth of approximately 66%, calculated as (2001078 - 1204334)/1204334.\n",
    "\n",
    "Your coworker sent you a draft of a function, but it doesn't seem to be doing the correct calculation.  Can you figure out what has gone wrong and make the needed changes?"
   ]
  },
  {
   "cell_type": "code",
   "execution_count": 14,
   "id": "fe17caf0",
   "metadata": {
    "execution": {
     "iopub.execute_input": "2025-09-11T07:53:01.728982Z",
     "iopub.status.busy": "2025-09-11T07:53:01.728595Z",
     "iopub.status.idle": "2025-09-11T07:53:01.737962Z",
     "shell.execute_reply": "2025-09-11T07:53:01.737117Z"
    },
    "papermill": {
     "duration": 0.016978,
     "end_time": "2025-09-11T07:53:01.739321",
     "exception": false,
     "start_time": "2025-09-11T07:53:01.722343",
     "status": "completed"
    },
    "tags": []
   },
   "outputs": [
    {
     "name": "stdout",
     "output_type": "stream",
     "text": [
      "0.03629533421163837\n",
      "0.6615639847417742\n"
     ]
    },
    {
     "data": {
      "application/javascript": [
       "parent.postMessage({\"jupyterEvent\": \"custom.exercise_interaction\", \"data\": {\"outcomeType\": 1, \"valueTowardsCompletion\": 0.2, \"interactionType\": 1, \"questionType\": 2, \"questionId\": \"5_WebsiteAnalytics\", \"learnToolsVersion\": \"0.3.5\", \"failureMessage\": \"\", \"exceptionClass\": \"\", \"trace\": \"\"}}, \"*\")"
      ],
      "text/plain": [
       "<IPython.core.display.Javascript object>"
      ]
     },
     "metadata": {},
     "output_type": "display_data"
    },
    {
     "data": {
      "text/markdown": [
       "<span style=\"color:#33cc33\">Correct</span>"
      ],
      "text/plain": [
       "Correct"
      ]
     },
     "metadata": {},
     "output_type": "display_data"
    }
   ],
   "source": [
    "# TODO: Edit the function\n",
    "def percentage_growth(num_users, yrs_ago):\n",
    "    growth = (num_users[len(num_users)-1] - num_users[len(num_users)-yrs_ago-1])/num_users[len(num_users)-yrs_ago-1]\n",
    "    return growth\n",
    "\n",
    "# Do not change: Variable for calculating some test examples\n",
    "num_users_test = [920344, 1043553, 1204334, 1458996, 1503323, 1593432, 1623463, 1843064, 1930992, 2001078]\n",
    "\n",
    "# Do not change: Should return .036\n",
    "print(percentage_growth(num_users_test, 1))\n",
    "\n",
    "# Do not change: Should return 0.66\n",
    "print(percentage_growth(num_users_test, 7))\n",
    "\n",
    "# Do not change: Check your answer\n",
    "q5.check()"
   ]
  },
  {
   "cell_type": "code",
   "execution_count": 15,
   "id": "8c209238",
   "metadata": {
    "execution": {
     "iopub.execute_input": "2025-09-11T07:53:01.752468Z",
     "iopub.status.busy": "2025-09-11T07:53:01.751862Z",
     "iopub.status.idle": "2025-09-11T07:53:01.755523Z",
     "shell.execute_reply": "2025-09-11T07:53:01.754856Z"
    },
    "papermill": {
     "duration": 0.011453,
     "end_time": "2025-09-11T07:53:01.756654",
     "exception": false,
     "start_time": "2025-09-11T07:53:01.745201",
     "status": "completed"
    },
    "tags": []
   },
   "outputs": [],
   "source": [
    "# Uncomment to see a hint\n",
    "#q5.hint()\n",
    "\n",
    "# Uncomment to see the solution\n",
    "#q5.solution()"
   ]
  },
  {
   "cell_type": "markdown",
   "id": "89f303c3",
   "metadata": {
    "papermill": {
     "duration": 0.005515,
     "end_time": "2025-09-11T07:53:01.768031",
     "exception": false,
     "start_time": "2025-09-11T07:53:01.762516",
     "status": "completed"
    },
    "tags": []
   },
   "source": [
    "# Congratulations!\n",
    "\n",
    "Congratulations for finishing the Intro to Programming course!  You should be proud of your very first steps with learning programming.  As next steps, we recommend taking:\n",
    "- the **[Python course](http://www.kaggle.com/learn/python)**, and \n",
    "- the **[Intro to Machine Learning course](https://www.kaggle.com/learn/intro-to-machine-learning)**."
   ]
  },
  {
   "cell_type": "markdown",
   "id": "02c9ecba",
   "metadata": {
    "papermill": {
     "duration": 0.005253,
     "end_time": "2025-09-11T07:53:01.778788",
     "exception": false,
     "start_time": "2025-09-11T07:53:01.773535",
     "status": "completed"
    },
    "tags": []
   },
   "source": [
    "---\n",
    "\n",
    "\n",
    "\n",
    "\n",
    "*Have questions or comments? Visit the [course discussion forum](https://www.kaggle.com/learn/intro-to-programming/discussion) to chat with other learners.*"
   ]
  }
 ],
 "metadata": {
  "kaggle": {
   "accelerator": "none",
   "dataSources": [],
   "isGpuEnabled": false,
   "isInternetEnabled": false,
   "language": "python",
   "sourceType": "notebook"
  },
  "kernelspec": {
   "display_name": "Python 3",
   "language": "python",
   "name": "python3"
  },
  "language_info": {
   "codemirror_mode": {
    "name": "ipython",
    "version": 3
   },
   "file_extension": ".py",
   "mimetype": "text/x-python",
   "name": "python",
   "nbconvert_exporter": "python",
   "pygments_lexer": "ipython3",
   "version": "3.11.13"
  },
  "papermill": {
   "default_parameters": {},
   "duration": 7.96917,
   "end_time": "2025-09-11T07:53:02.303026",
   "environment_variables": {},
   "exception": null,
   "input_path": "__notebook__.ipynb",
   "output_path": "__notebook__.ipynb",
   "parameters": {},
   "start_time": "2025-09-11T07:52:54.333856",
   "version": "2.6.0"
  }
 },
 "nbformat": 4,
 "nbformat_minor": 5
}
