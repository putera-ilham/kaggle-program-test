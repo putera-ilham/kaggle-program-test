{
 "cells": [
  {
   "cell_type": "markdown",
   "id": "75698130",
   "metadata": {
    "papermill": {
     "duration": 0.0054,
     "end_time": "2025-09-10T07:58:40.729774",
     "exception": false,
     "start_time": "2025-09-10T07:58:40.724374",
     "status": "completed"
    },
    "tags": []
   },
   "source": [
    "**This notebook is an exercise in the [Intro to Programming](https://www.kaggle.com/learn/intro-to-programming) course.  You can reference the tutorial at [this link](https://www.kaggle.com/alexisbcook/functions).**\n",
    "\n",
    "---\n"
   ]
  },
  {
   "cell_type": "markdown",
   "id": "3d52e6fd",
   "metadata": {
    "papermill": {
     "duration": 0.004051,
     "end_time": "2025-09-10T07:58:40.738443",
     "exception": false,
     "start_time": "2025-09-10T07:58:40.734392",
     "status": "completed"
    },
    "tags": []
   },
   "source": [
    "In the tutorial, you learned about functions. In this exercise, you'll write some of your own!\n",
    "\n",
    "# Set up the notebook\n",
    "\n",
    "Run the next code cell without changes to set up the notebook."
   ]
  },
  {
   "cell_type": "code",
   "execution_count": 1,
   "id": "1a5d9367",
   "metadata": {
    "execution": {
     "iopub.execute_input": "2025-09-10T07:58:40.748733Z",
     "iopub.status.busy": "2025-09-10T07:58:40.748402Z",
     "iopub.status.idle": "2025-09-10T07:58:42.870694Z",
     "shell.execute_reply": "2025-09-10T07:58:42.869457Z"
    },
    "papermill": {
     "duration": 2.129788,
     "end_time": "2025-09-10T07:58:42.872683",
     "exception": false,
     "start_time": "2025-09-10T07:58:40.742895",
     "status": "completed"
    },
    "tags": []
   },
   "outputs": [
    {
     "name": "stdout",
     "output_type": "stream",
     "text": [
      "Setup complete.\n"
     ]
    }
   ],
   "source": [
    "# Set up the exercise\n",
    "import math\n",
    "from learntools.core import binder\n",
    "binder.bind(globals())\n",
    "from learntools.intro_to_programming.ex2 import *\n",
    "print('Setup complete.')"
   ]
  },
  {
   "cell_type": "markdown",
   "id": "ffcc7f51",
   "metadata": {
    "papermill": {
     "duration": 0.004334,
     "end_time": "2025-09-10T07:58:42.881606",
     "exception": false,
     "start_time": "2025-09-10T07:58:42.877272",
     "status": "completed"
    },
    "tags": []
   },
   "source": [
    "# Question 1\n",
    "\n",
    "In the [House Prices - Advanced Regression Techniques competition](https://www.kaggle.com/c/house-prices-advanced-regression-techniques/overview), you need to use information like the number of bedrooms and bathrooms to predict the price of a house.  Inspired by this competition, you'll write your own function to do this.\n",
    "\n",
    "In the next code cell, create a function `get_expected_cost()` that has two arguments:\n",
    "- `beds` - number of bedrooms \n",
    "- `baths` - number of bathrooms\n",
    "\n",
    "It should return the expected cost of a house with that number of bedrooms and bathrooms.  Assume that:\n",
    "- the expected cost for a house with 0 bedrooms and 0 bathrooms is `80000`.  \n",
    "- each bedroom adds `30000` to the expected cost\n",
    "- each bathroom adds `10000` to the expected cost.\n",
    "\n",
    "For instance, \n",
    "- a house with 1 bedroom and 1 bathroom has an expected cost of `120000`, and \n",
    "- a house with 2 bedrooms and 1 bathroom has an expected cost of `150000`."
   ]
  },
  {
   "cell_type": "code",
   "execution_count": 2,
   "id": "91633b4e",
   "metadata": {
    "execution": {
     "iopub.execute_input": "2025-09-10T07:58:42.891914Z",
     "iopub.status.busy": "2025-09-10T07:58:42.891487Z",
     "iopub.status.idle": "2025-09-10T07:58:42.900076Z",
     "shell.execute_reply": "2025-09-10T07:58:42.899200Z"
    },
    "papermill": {
     "duration": 0.015415,
     "end_time": "2025-09-10T07:58:42.901523",
     "exception": false,
     "start_time": "2025-09-10T07:58:42.886108",
     "status": "completed"
    },
    "tags": []
   },
   "outputs": [
    {
     "data": {
      "application/javascript": [
       "parent.postMessage({\"jupyterEvent\": \"custom.exercise_interaction\", \"data\": {\"outcomeType\": 1, \"valueTowardsCompletion\": 0.2, \"interactionType\": 1, \"questionType\": 2, \"questionId\": \"1_GetExpectedCost\", \"learnToolsVersion\": \"0.3.5\", \"failureMessage\": \"\", \"exceptionClass\": \"\", \"trace\": \"\"}}, \"*\")"
      ],
      "text/plain": [
       "<IPython.core.display.Javascript object>"
      ]
     },
     "metadata": {},
     "output_type": "display_data"
    },
    {
     "data": {
      "text/markdown": [
       "<span style=\"color:#33cc33\">Correct</span>"
      ],
      "text/plain": [
       "Correct"
      ]
     },
     "metadata": {},
     "output_type": "display_data"
    }
   ],
   "source": [
    "# TODO: Complete the function\n",
    "def get_expected_cost(beds, baths):\n",
    "    value = 80000 + 30000 * beds + 10000 * baths\n",
    "    return value\n",
    "\n",
    "# Check your answer \n",
    "q1.check()"
   ]
  },
  {
   "cell_type": "code",
   "execution_count": 3,
   "id": "10dc5100",
   "metadata": {
    "execution": {
     "iopub.execute_input": "2025-09-10T07:58:42.911874Z",
     "iopub.status.busy": "2025-09-10T07:58:42.911508Z",
     "iopub.status.idle": "2025-09-10T07:58:42.916052Z",
     "shell.execute_reply": "2025-09-10T07:58:42.914923Z"
    },
    "papermill": {
     "duration": 0.011412,
     "end_time": "2025-09-10T07:58:42.917525",
     "exception": false,
     "start_time": "2025-09-10T07:58:42.906113",
     "status": "completed"
    },
    "tags": []
   },
   "outputs": [],
   "source": [
    "# Uncomment to see a hint\n",
    "#q1.hint()\n",
    "\n",
    "# Uncomment to view the solution\n",
    "#q1.solution()"
   ]
  },
  {
   "cell_type": "markdown",
   "id": "2a6bef37",
   "metadata": {
    "papermill": {
     "duration": 0.004208,
     "end_time": "2025-09-10T07:58:42.926237",
     "exception": false,
     "start_time": "2025-09-10T07:58:42.922029",
     "status": "completed"
    },
    "tags": []
   },
   "source": [
    "# Question 2\n",
    "\n",
    "You are thinking about buying a home and want to get an idea of how much you will spend, based on the number of bedrooms and bathrooms.  You are trying to decide between four different options:\n",
    "- Option 1: house with two bedrooms and three bathrooms\n",
    "- Option 2: house with three bedrooms and two bathrooms\n",
    "- Option 3: house with three bedrooms and three bathrooms\n",
    "- Option 4: house with three bedrooms and four bathrooms\n",
    "\n",
    "Use the `get_expected_cost()` function you defined in question 1 to set `option_1`, `option_2`, `option_3`, and `option_4` to the expected cost of each option."
   ]
  },
  {
   "cell_type": "code",
   "execution_count": 4,
   "id": "9131dcef",
   "metadata": {
    "execution": {
     "iopub.execute_input": "2025-09-10T07:58:42.936548Z",
     "iopub.status.busy": "2025-09-10T07:58:42.936224Z",
     "iopub.status.idle": "2025-09-10T07:58:42.947168Z",
     "shell.execute_reply": "2025-09-10T07:58:42.946192Z"
    },
    "papermill": {
     "duration": 0.018199,
     "end_time": "2025-09-10T07:58:42.948686",
     "exception": false,
     "start_time": "2025-09-10T07:58:42.930487",
     "status": "completed"
    },
    "tags": []
   },
   "outputs": [
    {
     "name": "stdout",
     "output_type": "stream",
     "text": [
      "170000\n",
      "190000\n",
      "200000\n",
      "210000\n"
     ]
    },
    {
     "data": {
      "application/javascript": [
       "parent.postMessage({\"jupyterEvent\": \"custom.exercise_interaction\", \"data\": {\"outcomeType\": 1, \"valueTowardsCompletion\": 0.2, \"interactionType\": 1, \"questionType\": 1, \"questionId\": \"2_RunGetExpectedCost\", \"learnToolsVersion\": \"0.3.5\", \"failureMessage\": \"\", \"exceptionClass\": \"\", \"trace\": \"\"}}, \"*\")"
      ],
      "text/plain": [
       "<IPython.core.display.Javascript object>"
      ]
     },
     "metadata": {},
     "output_type": "display_data"
    },
    {
     "data": {
      "text/markdown": [
       "<span style=\"color:#33cc33\">Correct</span>"
      ],
      "text/plain": [
       "Correct"
      ]
     },
     "metadata": {},
     "output_type": "display_data"
    }
   ],
   "source": [
    "# TODO: Use the get_expected_cost function to fill in each value\n",
    "option_one = get_expected_cost(2, 3)\n",
    "option_two = get_expected_cost(3, 2)\n",
    "option_three = get_expected_cost(3, 3)\n",
    "option_four = get_expected_cost(3, 4)\n",
    "\n",
    "print(option_one)\n",
    "print(option_two)\n",
    "print(option_three)\n",
    "print(option_four)\n",
    "\n",
    "# Check your answer\n",
    "q2.check()"
   ]
  },
  {
   "cell_type": "code",
   "execution_count": 5,
   "id": "49e67679",
   "metadata": {
    "execution": {
     "iopub.execute_input": "2025-09-10T07:58:42.960846Z",
     "iopub.status.busy": "2025-09-10T07:58:42.960487Z",
     "iopub.status.idle": "2025-09-10T07:58:42.965392Z",
     "shell.execute_reply": "2025-09-10T07:58:42.964268Z"
    },
    "papermill": {
     "duration": 0.012517,
     "end_time": "2025-09-10T07:58:42.967137",
     "exception": false,
     "start_time": "2025-09-10T07:58:42.954620",
     "status": "completed"
    },
    "tags": []
   },
   "outputs": [],
   "source": [
    "# Uncomment to see a hint\n",
    "#q2.hint()\n",
    "\n",
    "# Uncomment to view the solution\n",
    "#q2.solution()"
   ]
  },
  {
   "cell_type": "markdown",
   "id": "aeb84049",
   "metadata": {
    "papermill": {
     "duration": 0.004557,
     "end_time": "2025-09-10T07:58:42.976639",
     "exception": false,
     "start_time": "2025-09-10T07:58:42.972082",
     "status": "completed"
    },
    "tags": []
   },
   "source": [
    "# Question 3\n",
    "\n",
    "You're a home decorator, and you'd like to use Python to streamline some of your work.  Specifically, you're creating a tool that you intend to use to calculate the cost of painting a room.\n",
    "\n",
    "As a first step, define a function `get_cost()` that takes as input:\n",
    "- `sqft_walls` = total square feet of walls to be painted\n",
    "- `sqft_ceiling` = square feet of ceiling to be painted\n",
    "- `sqft_per_gallon` = number of square feet that you can cover with one gallon of paint\n",
    "- `cost_per_gallon` = cost (in dollars) of one gallon of paint\n",
    "\n",
    "It should return the cost (in dollars) of putting one coat of paint on all walls and the ceiling.  Assume you can buy the exact amount of paint that you need, so you can buy partial gallons (e.g., if you need 7.523 gallons, you can buy that exact amount, instead of needing to buy 8 gallons and waste some paint).  Do not round your answer."
   ]
  },
  {
   "cell_type": "code",
   "execution_count": 6,
   "id": "223194c8",
   "metadata": {
    "execution": {
     "iopub.execute_input": "2025-09-10T07:58:42.987418Z",
     "iopub.status.busy": "2025-09-10T07:58:42.987087Z",
     "iopub.status.idle": "2025-09-10T07:58:42.995116Z",
     "shell.execute_reply": "2025-09-10T07:58:42.994283Z"
    },
    "papermill": {
     "duration": 0.01521,
     "end_time": "2025-09-10T07:58:42.996519",
     "exception": false,
     "start_time": "2025-09-10T07:58:42.981309",
     "status": "completed"
    },
    "tags": []
   },
   "outputs": [
    {
     "data": {
      "application/javascript": [
       "parent.postMessage({\"jupyterEvent\": \"custom.exercise_interaction\", \"data\": {\"outcomeType\": 1, \"valueTowardsCompletion\": 0.2, \"interactionType\": 1, \"questionType\": 2, \"questionId\": \"3_GetCostPaint\", \"learnToolsVersion\": \"0.3.5\", \"failureMessage\": \"\", \"exceptionClass\": \"\", \"trace\": \"\"}}, \"*\")"
      ],
      "text/plain": [
       "<IPython.core.display.Javascript object>"
      ]
     },
     "metadata": {},
     "output_type": "display_data"
    },
    {
     "data": {
      "text/markdown": [
       "<span style=\"color:#33cc33\">Correct</span>"
      ],
      "text/plain": [
       "Correct"
      ]
     },
     "metadata": {},
     "output_type": "display_data"
    }
   ],
   "source": [
    "# TODO: Finish defining the function\n",
    "def get_cost(sqft_walls, sqft_ceiling, sqft_per_gallon, cost_per_gallon):\n",
    "    cost = ((sqft_walls + sqft_ceiling) / sqft_per_gallon) * cost_per_gallon\n",
    "    return cost\n",
    "    \n",
    "# Check your answer\n",
    "q3.check()"
   ]
  },
  {
   "cell_type": "code",
   "execution_count": 7,
   "id": "05910336",
   "metadata": {
    "execution": {
     "iopub.execute_input": "2025-09-10T07:58:43.007791Z",
     "iopub.status.busy": "2025-09-10T07:58:43.007500Z",
     "iopub.status.idle": "2025-09-10T07:58:43.012090Z",
     "shell.execute_reply": "2025-09-10T07:58:43.011097Z"
    },
    "papermill": {
     "duration": 0.01231,
     "end_time": "2025-09-10T07:58:43.013781",
     "exception": false,
     "start_time": "2025-09-10T07:58:43.001471",
     "status": "completed"
    },
    "tags": []
   },
   "outputs": [],
   "source": [
    "# Uncomment to see a hint\n",
    "#q3.hint()\n",
    "\n",
    "# Uncomment to view the solution\n",
    "#q3.solution()"
   ]
  },
  {
   "cell_type": "markdown",
   "id": "9cbbbb47",
   "metadata": {
    "papermill": {
     "duration": 0.004527,
     "end_time": "2025-09-10T07:58:43.023222",
     "exception": false,
     "start_time": "2025-09-10T07:58:43.018695",
     "status": "completed"
    },
    "tags": []
   },
   "source": [
    "# Question 4\n",
    "\n",
    "Use the `get_cost()` function you defined in Question 3 to calculate the cost of applying one coat of paint to a room with:\n",
    "- 432 square feet of walls, and\n",
    "- 144 square feet of ceiling.\n",
    "\n",
    "Assume that one gallon of paint covers 400 square feet and costs $15.  As in Question 3, assume you can buy partial gallons of paint.  Do not round your answer."
   ]
  },
  {
   "cell_type": "code",
   "execution_count": 8,
   "id": "d1a0c227",
   "metadata": {
    "execution": {
     "iopub.execute_input": "2025-09-10T07:58:43.034715Z",
     "iopub.status.busy": "2025-09-10T07:58:43.034395Z",
     "iopub.status.idle": "2025-09-10T07:58:43.043657Z",
     "shell.execute_reply": "2025-09-10T07:58:43.042776Z"
    },
    "papermill": {
     "duration": 0.01693,
     "end_time": "2025-09-10T07:58:43.045113",
     "exception": false,
     "start_time": "2025-09-10T07:58:43.028183",
     "status": "completed"
    },
    "tags": []
   },
   "outputs": [
    {
     "name": "stdout",
     "output_type": "stream",
     "text": [
      "21.599999999999998\n"
     ]
    },
    {
     "data": {
      "application/javascript": [
       "parent.postMessage({\"jupyterEvent\": \"custom.exercise_interaction\", \"data\": {\"outcomeType\": 1, \"valueTowardsCompletion\": 0.2, \"interactionType\": 1, \"questionType\": 1, \"questionId\": \"4_GetCostPaintExample\", \"learnToolsVersion\": \"0.3.5\", \"failureMessage\": \"\", \"exceptionClass\": \"\", \"trace\": \"\"}}, \"*\")"
      ],
      "text/plain": [
       "<IPython.core.display.Javascript object>"
      ]
     },
     "metadata": {},
     "output_type": "display_data"
    },
    {
     "data": {
      "text/markdown": [
       "<span style=\"color:#33cc33\">Correct</span>"
      ],
      "text/plain": [
       "Correct"
      ]
     },
     "metadata": {},
     "output_type": "display_data"
    }
   ],
   "source": [
    "# TODO: Set the project_cost variable to the cost of the project\n",
    "project_cost = get_cost(432, 144, 400, 15)\n",
    "print (project_cost)\n",
    "# Check your answer\n",
    "q4.check()"
   ]
  },
  {
   "cell_type": "code",
   "execution_count": 9,
   "id": "f894bd54",
   "metadata": {
    "execution": {
     "iopub.execute_input": "2025-09-10T07:58:43.056888Z",
     "iopub.status.busy": "2025-09-10T07:58:43.056531Z",
     "iopub.status.idle": "2025-09-10T07:58:43.061110Z",
     "shell.execute_reply": "2025-09-10T07:58:43.060202Z"
    },
    "papermill": {
     "duration": 0.013068,
     "end_time": "2025-09-10T07:58:43.063385",
     "exception": false,
     "start_time": "2025-09-10T07:58:43.050317",
     "status": "completed"
    },
    "tags": []
   },
   "outputs": [],
   "source": [
    "# Uncomment to see a hint\n",
    "#q4.hint()\n",
    "\n",
    "# Uncomment to view the solution\n",
    "#q4.solution()"
   ]
  },
  {
   "cell_type": "markdown",
   "id": "e090125e",
   "metadata": {
    "papermill": {
     "duration": 0.004941,
     "end_time": "2025-09-10T07:58:43.074334",
     "exception": false,
     "start_time": "2025-09-10T07:58:43.069393",
     "status": "completed"
    },
    "tags": []
   },
   "source": [
    "# 🌶️ Question 5\n",
    "\n",
    "Now say you can no longer buy fractions of a gallon.  (For instance, if you need 4.3 gallons to do a project, then you have to buy 5 gallons of paint.)\n",
    "\n",
    "With this new scenario, you will create a new function `get_actual_cost` that uses the same inputs and calculates the cost of your project.\n",
    "\n",
    "One function that you'll need to use to do this is `math.ceil()`.  We demonstrate usage of this function in the code cell below.  It takes as a number as input and rounds the number up to the nearest integer.  \n",
    "\n",
    "Run the next code cell to test this function for yourself.  Feel free to change the value of `test_value` and make sure `math.ceil()` returns the number you expect."
   ]
  },
  {
   "cell_type": "code",
   "execution_count": 10,
   "id": "0ab5aed1",
   "metadata": {
    "execution": {
     "iopub.execute_input": "2025-09-10T07:58:43.085572Z",
     "iopub.status.busy": "2025-09-10T07:58:43.085284Z",
     "iopub.status.idle": "2025-09-10T07:58:43.090894Z",
     "shell.execute_reply": "2025-09-10T07:58:43.089707Z"
    },
    "papermill": {
     "duration": 0.013166,
     "end_time": "2025-09-10T07:58:43.092490",
     "exception": false,
     "start_time": "2025-09-10T07:58:43.079324",
     "status": "completed"
    },
    "tags": []
   },
   "outputs": [
    {
     "name": "stdout",
     "output_type": "stream",
     "text": [
      "3\n"
     ]
    }
   ],
   "source": [
    "test_value = 2.17\n",
    "\n",
    "rounded_value = math.ceil(test_value)\n",
    "print(rounded_value)"
   ]
  },
  {
   "cell_type": "markdown",
   "id": "54d0fd3e",
   "metadata": {
    "papermill": {
     "duration": 0.004966,
     "end_time": "2025-09-10T07:58:43.102752",
     "exception": false,
     "start_time": "2025-09-10T07:58:43.097786",
     "status": "completed"
    },
    "tags": []
   },
   "source": [
    "Use the next code cell to define the function `get_actual_cost()`.  You'll need to use the `math.ceil()` function to do this.\n",
    "\n",
    "When answering this question, note that it's completely valid to define a function that makes use of another function.  For instance, we can define a function `round_up_and_divide_by_three` that makes use of the `math.ceil` function:\n",
    "```\n",
    "def round_up_and_divide_by_three(num):\n",
    "    new_value = math.ceil(num)\n",
    "    final_value = new_value / 3\n",
    "    return final_value\n",
    "```"
   ]
  },
  {
   "cell_type": "code",
   "execution_count": 11,
   "id": "ba33e9e2",
   "metadata": {
    "execution": {
     "iopub.execute_input": "2025-09-10T07:58:43.114417Z",
     "iopub.status.busy": "2025-09-10T07:58:43.114065Z",
     "iopub.status.idle": "2025-09-10T07:58:43.123893Z",
     "shell.execute_reply": "2025-09-10T07:58:43.122878Z"
    },
    "papermill": {
     "duration": 0.017661,
     "end_time": "2025-09-10T07:58:43.125560",
     "exception": false,
     "start_time": "2025-09-10T07:58:43.107899",
     "status": "completed"
    },
    "tags": []
   },
   "outputs": [
    {
     "data": {
      "application/javascript": [
       "parent.postMessage({\"jupyterEvent\": \"custom.exercise_interaction\", \"data\": {\"outcomeType\": 1, \"valueTowardsCompletion\": 0.2, \"interactionType\": 1, \"questionType\": 2, \"questionId\": \"5_NoMoreFractions\", \"learnToolsVersion\": \"0.3.5\", \"failureMessage\": \"\", \"exceptionClass\": \"\", \"trace\": \"\"}}, \"*\")"
      ],
      "text/plain": [
       "<IPython.core.display.Javascript object>"
      ]
     },
     "metadata": {},
     "output_type": "display_data"
    },
    {
     "data": {
      "text/markdown": [
       "<span style=\"color:#33cc33\">Correct</span>"
      ],
      "text/plain": [
       "Correct"
      ]
     },
     "metadata": {},
     "output_type": "display_data"
    }
   ],
   "source": [
    "def get_actual_cost(sqft_walls, sqft_ceiling, sqft_per_gallon, cost_per_gallon):\n",
    "    gallons_need = ((sqft_walls + sqft_ceiling) / sqft_per_gallon)\n",
    "    buy_gallons = math.ceil(gallons_need)\n",
    "    cost = cost_per_gallon * buy_gallons\n",
    "    return cost\n",
    "\n",
    "# Check your answer\n",
    "q5.check()"
   ]
  },
  {
   "cell_type": "code",
   "execution_count": 12,
   "id": "a3a5cc6b",
   "metadata": {
    "execution": {
     "iopub.execute_input": "2025-09-10T07:58:43.138232Z",
     "iopub.status.busy": "2025-09-10T07:58:43.137700Z",
     "iopub.status.idle": "2025-09-10T07:58:43.142261Z",
     "shell.execute_reply": "2025-09-10T07:58:43.141230Z"
    },
    "papermill": {
     "duration": 0.012685,
     "end_time": "2025-09-10T07:58:43.143983",
     "exception": false,
     "start_time": "2025-09-10T07:58:43.131298",
     "status": "completed"
    },
    "tags": []
   },
   "outputs": [],
   "source": [
    "# Uncomment to see a hint\n",
    "#q5.hint()\n",
    "\n",
    "# Uncomment to view the solution\n",
    "#q5.solution()"
   ]
  },
  {
   "cell_type": "markdown",
   "id": "b0f849ec",
   "metadata": {
    "papermill": {
     "duration": 0.005069,
     "end_time": "2025-09-10T07:58:43.154492",
     "exception": false,
     "start_time": "2025-09-10T07:58:43.149423",
     "status": "completed"
    },
    "tags": []
   },
   "source": [
    "Once your function is verified as correct, run the next code cell to calculate the updated cost of your project."
   ]
  },
  {
   "cell_type": "code",
   "execution_count": 13,
   "id": "8ee42893",
   "metadata": {
    "execution": {
     "iopub.execute_input": "2025-09-10T07:58:43.166292Z",
     "iopub.status.busy": "2025-09-10T07:58:43.165910Z",
     "iopub.status.idle": "2025-09-10T07:58:43.173117Z",
     "shell.execute_reply": "2025-09-10T07:58:43.171926Z"
    },
    "papermill": {
     "duration": 0.015044,
     "end_time": "2025-09-10T07:58:43.174691",
     "exception": false,
     "start_time": "2025-09-10T07:58:43.159647",
     "status": "completed"
    },
    "tags": []
   },
   "outputs": [
    {
     "data": {
      "text/plain": [
       "30"
      ]
     },
     "execution_count": 13,
     "metadata": {},
     "output_type": "execute_result"
    }
   ],
   "source": [
    "get_actual_cost(432, 144, 400, 15) "
   ]
  },
  {
   "cell_type": "markdown",
   "id": "7585eda7",
   "metadata": {
    "papermill": {
     "duration": 0.005155,
     "end_time": "2025-09-10T07:58:43.185508",
     "exception": false,
     "start_time": "2025-09-10T07:58:43.180353",
     "status": "completed"
    },
    "tags": []
   },
   "source": [
    "Say you're working with a slightly larger room.  Run the next code cell to calculate the cost of the project."
   ]
  },
  {
   "cell_type": "code",
   "execution_count": 14,
   "id": "d52a65dd",
   "metadata": {
    "execution": {
     "iopub.execute_input": "2025-09-10T07:58:43.198681Z",
     "iopub.status.busy": "2025-09-10T07:58:43.198366Z",
     "iopub.status.idle": "2025-09-10T07:58:43.204718Z",
     "shell.execute_reply": "2025-09-10T07:58:43.203733Z"
    },
    "papermill": {
     "duration": 0.015024,
     "end_time": "2025-09-10T07:58:43.206612",
     "exception": false,
     "start_time": "2025-09-10T07:58:43.191588",
     "status": "completed"
    },
    "tags": []
   },
   "outputs": [
    {
     "data": {
      "text/plain": [
       "45"
      ]
     },
     "execution_count": 14,
     "metadata": {},
     "output_type": "execute_result"
    }
   ],
   "source": [
    "get_actual_cost(594, 288, 400, 15) "
   ]
  },
  {
   "cell_type": "markdown",
   "id": "dd629bd8",
   "metadata": {
    "papermill": {
     "duration": 0.005723,
     "end_time": "2025-09-10T07:58:43.217979",
     "exception": false,
     "start_time": "2025-09-10T07:58:43.212256",
     "status": "completed"
    },
    "tags": []
   },
   "source": [
    "# Keep going\n",
    "\n",
    "Continue to learn about **[data types](https://www.kaggle.com/alexisbcook/data-types)**."
   ]
  },
  {
   "cell_type": "markdown",
   "id": "fdff7470",
   "metadata": {
    "papermill": {
     "duration": 0.005355,
     "end_time": "2025-09-10T07:58:43.228926",
     "exception": false,
     "start_time": "2025-09-10T07:58:43.223571",
     "status": "completed"
    },
    "tags": []
   },
   "source": [
    "---\n",
    "\n",
    "\n",
    "\n",
    "\n",
    "*Have questions or comments? Visit the [course discussion forum](https://www.kaggle.com/learn/intro-to-programming/discussion) to chat with other learners.*"
   ]
  }
 ],
 "metadata": {
  "kaggle": {
   "accelerator": "none",
   "dataSources": [],
   "isGpuEnabled": false,
   "isInternetEnabled": false,
   "language": "python",
   "sourceType": "notebook"
  },
  "kernelspec": {
   "display_name": "Python 3",
   "language": "python",
   "name": "python3"
  },
  "language_info": {
   "codemirror_mode": {
    "name": "ipython",
    "version": 3
   },
   "file_extension": ".py",
   "mimetype": "text/x-python",
   "name": "python",
   "nbconvert_exporter": "python",
   "pygments_lexer": "ipython3",
   "version": "3.11.13"
  },
  "papermill": {
   "default_parameters": {},
   "duration": 8.950754,
   "end_time": "2025-09-10T07:58:43.754743",
   "environment_variables": {},
   "exception": null,
   "input_path": "__notebook__.ipynb",
   "output_path": "__notebook__.ipynb",
   "parameters": {},
   "start_time": "2025-09-10T07:58:34.803989",
   "version": "2.6.0"
  }
 },
 "nbformat": 4,
 "nbformat_minor": 5
}
