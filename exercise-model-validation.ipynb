{
 "cells": [
  {
   "cell_type": "markdown",
   "id": "2aa9752b",
   "metadata": {
    "papermill": {
     "duration": 0.005051,
     "end_time": "2025-09-17T12:07:40.808256",
     "exception": false,
     "start_time": "2025-09-17T12:07:40.803205",
     "status": "completed"
    },
    "tags": []
   },
   "source": [
    "**This notebook is an exercise in the [Introduction to Machine Learning](https://www.kaggle.com/learn/intro-to-machine-learning) course.  You can reference the tutorial at [this link](https://www.kaggle.com/dansbecker/model-validation).**\n",
    "\n",
    "---\n"
   ]
  },
  {
   "cell_type": "markdown",
   "id": "545864c1",
   "metadata": {
    "papermill": {
     "duration": 0.003297,
     "end_time": "2025-09-17T12:07:40.815694",
     "exception": false,
     "start_time": "2025-09-17T12:07:40.812397",
     "status": "completed"
    },
    "tags": []
   },
   "source": [
    "## Recap\n",
    "You've built a model. In this exercise you will test how good your model is.\n",
    "\n",
    "Run the cell below to set up your coding environment where the previous exercise left off."
   ]
  },
  {
   "cell_type": "code",
   "execution_count": 1,
   "id": "d4a40348",
   "metadata": {
    "execution": {
     "iopub.execute_input": "2025-09-17T12:07:40.823749Z",
     "iopub.status.busy": "2025-09-17T12:07:40.823401Z",
     "iopub.status.idle": "2025-09-17T12:07:45.187219Z",
     "shell.execute_reply": "2025-09-17T12:07:45.185752Z"
    },
    "papermill": {
     "duration": 4.369722,
     "end_time": "2025-09-17T12:07:45.188835",
     "exception": false,
     "start_time": "2025-09-17T12:07:40.819113",
     "status": "completed"
    },
    "tags": []
   },
   "outputs": [
    {
     "name": "stdout",
     "output_type": "stream",
     "text": [
      "First in-sample predictions: [208500. 181500. 223500. 140000. 250000.]\n",
      "Actual target values for those homes: [208500, 181500, 223500, 140000, 250000]\n",
      "Setup Complete\n"
     ]
    }
   ],
   "source": [
    "# Code you have previously used to load data\n",
    "import pandas as pd\n",
    "from sklearn.tree import DecisionTreeRegressor\n",
    "\n",
    "# Path of the file to read\n",
    "iowa_file_path = '../input/home-data-for-ml-course/train.csv'\n",
    "\n",
    "home_data = pd.read_csv(iowa_file_path)\n",
    "y = home_data.SalePrice\n",
    "feature_columns = ['LotArea', 'YearBuilt', '1stFlrSF', '2ndFlrSF', 'FullBath', 'BedroomAbvGr', 'TotRmsAbvGrd']\n",
    "X = home_data[feature_columns]\n",
    "\n",
    "# Specify Model\n",
    "iowa_model = DecisionTreeRegressor()\n",
    "# Fit Model\n",
    "iowa_model.fit(X, y)\n",
    "\n",
    "print(\"First in-sample predictions:\", iowa_model.predict(X.head()))\n",
    "print(\"Actual target values for those homes:\", y.head().tolist())\n",
    "\n",
    "# Set up code checking\n",
    "from learntools.core import binder\n",
    "binder.bind(globals())\n",
    "from learntools.machine_learning.ex4 import *\n",
    "print(\"Setup Complete\")"
   ]
  },
  {
   "cell_type": "markdown",
   "id": "4de3f438",
   "metadata": {
    "papermill": {
     "duration": 0.003237,
     "end_time": "2025-09-17T12:07:45.195757",
     "exception": false,
     "start_time": "2025-09-17T12:07:45.192520",
     "status": "completed"
    },
    "tags": []
   },
   "source": [
    "# Exercises\n",
    "\n",
    "## Step 1: Split Your Data\n",
    "Use the `train_test_split` function to split up your data.\n",
    "\n",
    "Give it the argument `random_state=1` so the `check` functions know what to expect when verifying your code.\n",
    "\n",
    "Recall, your features are loaded in the DataFrame **X** and your target is loaded in **y**.\n"
   ]
  },
  {
   "cell_type": "code",
   "execution_count": 2,
   "id": "45b1309e",
   "metadata": {
    "execution": {
     "iopub.execute_input": "2025-09-17T12:07:45.203913Z",
     "iopub.status.busy": "2025-09-17T12:07:45.203546Z",
     "iopub.status.idle": "2025-09-17T12:07:45.220187Z",
     "shell.execute_reply": "2025-09-17T12:07:45.219333Z"
    },
    "papermill": {
     "duration": 0.022486,
     "end_time": "2025-09-17T12:07:45.221712",
     "exception": false,
     "start_time": "2025-09-17T12:07:45.199226",
     "status": "completed"
    },
    "tags": []
   },
   "outputs": [
    {
     "data": {
      "application/javascript": [
       "parent.postMessage({\"jupyterEvent\": \"custom.exercise_interaction\", \"data\": {\"outcomeType\": 1, \"valueTowardsCompletion\": 0.25, \"interactionType\": 1, \"questionType\": 2, \"questionId\": \"1_SplitData\", \"learnToolsVersion\": \"0.3.5\", \"failureMessage\": \"\", \"exceptionClass\": \"\", \"trace\": \"\"}}, \"*\")"
      ],
      "text/plain": [
       "<IPython.core.display.Javascript object>"
      ]
     },
     "metadata": {},
     "output_type": "display_data"
    },
    {
     "data": {
      "text/markdown": [
       "<span style=\"color:#33cc33\">Correct</span>"
      ],
      "text/plain": [
       "Correct"
      ]
     },
     "metadata": {},
     "output_type": "display_data"
    }
   ],
   "source": [
    "# Import the train_test_split function and uncomment\n",
    "from sklearn.model_selection import train_test_split\n",
    "\n",
    "# fill in and uncomment\n",
    "train_X, val_X, train_y, val_y = train_test_split(X, y, random_state = 1)\n",
    "\n",
    "# Check your answer\n",
    "step_1.check()"
   ]
  },
  {
   "cell_type": "code",
   "execution_count": 3,
   "id": "426e17dc",
   "metadata": {
    "execution": {
     "iopub.execute_input": "2025-09-17T12:07:45.230852Z",
     "iopub.status.busy": "2025-09-17T12:07:45.230127Z",
     "iopub.status.idle": "2025-09-17T12:07:45.234337Z",
     "shell.execute_reply": "2025-09-17T12:07:45.233612Z"
    },
    "papermill": {
     "duration": 0.010555,
     "end_time": "2025-09-17T12:07:45.236097",
     "exception": false,
     "start_time": "2025-09-17T12:07:45.225542",
     "status": "completed"
    },
    "tags": []
   },
   "outputs": [],
   "source": [
    "#The lines below will show you a hint or the solution.\n",
    "#step_1.hint() \n",
    "#step_1.solution()\n"
   ]
  },
  {
   "cell_type": "markdown",
   "id": "40b5dc57",
   "metadata": {
    "papermill": {
     "duration": 0.003344,
     "end_time": "2025-09-17T12:07:45.243386",
     "exception": false,
     "start_time": "2025-09-17T12:07:45.240042",
     "status": "completed"
    },
    "tags": []
   },
   "source": [
    "## Step 2: Specify and Fit the Model\n",
    "\n",
    "Create a `DecisionTreeRegressor` model and fit it to the relevant data.\n",
    "Set `random_state` to 1 again when creating the model."
   ]
  },
  {
   "cell_type": "code",
   "execution_count": 4,
   "id": "a7c276b8",
   "metadata": {
    "execution": {
     "iopub.execute_input": "2025-09-17T12:07:45.251992Z",
     "iopub.status.busy": "2025-09-17T12:07:45.251593Z",
     "iopub.status.idle": "2025-09-17T12:07:45.277663Z",
     "shell.execute_reply": "2025-09-17T12:07:45.276412Z"
    },
    "papermill": {
     "duration": 0.032361,
     "end_time": "2025-09-17T12:07:45.279309",
     "exception": false,
     "start_time": "2025-09-17T12:07:45.246948",
     "status": "completed"
    },
    "tags": []
   },
   "outputs": [
    {
     "name": "stdout",
     "output_type": "stream",
     "text": [
      "[186500. 184000. 130000.  92000. 164500. 220000. 335000. 144152. 215000.\n",
      " 262000.]\n",
      "[186500. 184000. 130000.  92000. 164500. 220000. 335000. 144152. 215000.\n",
      " 262000.]\n"
     ]
    },
    {
     "data": {
      "application/javascript": [
       "parent.postMessage({\"jupyterEvent\": \"custom.exercise_interaction\", \"data\": {\"outcomeType\": 1, \"valueTowardsCompletion\": 0.25, \"interactionType\": 1, \"questionType\": 2, \"questionId\": \"2_FitModelWithTrain\", \"learnToolsVersion\": \"0.3.5\", \"failureMessage\": \"\", \"exceptionClass\": \"\", \"trace\": \"\"}}, \"*\")"
      ],
      "text/plain": [
       "<IPython.core.display.Javascript object>"
      ]
     },
     "metadata": {},
     "output_type": "display_data"
    },
    {
     "data": {
      "text/markdown": [
       "<span style=\"color:#33cc33\">Correct</span>"
      ],
      "text/plain": [
       "Correct"
      ]
     },
     "metadata": {},
     "output_type": "display_data"
    }
   ],
   "source": [
    "# You imported DecisionTreeRegressor in your last exercise\n",
    "# and that code has been copied to the setup code above. So, no need to\n",
    "# import it again\n",
    "\n",
    "# Specify the model\n",
    "iowa_model = DecisionTreeRegressor(random_state=1)\n",
    "\n",
    "# Fit iowa_model with the training data.\n",
    "iowa_model.fit(train_X, train_y)\n",
    "\n",
    "# Check your answer\n",
    "step_2.check()"
   ]
  },
  {
   "cell_type": "code",
   "execution_count": 5,
   "id": "e220b1db",
   "metadata": {
    "execution": {
     "iopub.execute_input": "2025-09-17T12:07:45.288356Z",
     "iopub.status.busy": "2025-09-17T12:07:45.288048Z",
     "iopub.status.idle": "2025-09-17T12:07:45.292595Z",
     "shell.execute_reply": "2025-09-17T12:07:45.291553Z"
    },
    "papermill": {
     "duration": 0.010901,
     "end_time": "2025-09-17T12:07:45.294274",
     "exception": false,
     "start_time": "2025-09-17T12:07:45.283373",
     "status": "completed"
    },
    "tags": []
   },
   "outputs": [],
   "source": [
    "#step_2.hint()\n",
    "#step_2.solution()"
   ]
  },
  {
   "cell_type": "markdown",
   "id": "790647ad",
   "metadata": {
    "papermill": {
     "duration": 0.003499,
     "end_time": "2025-09-17T12:07:45.301667",
     "exception": false,
     "start_time": "2025-09-17T12:07:45.298168",
     "status": "completed"
    },
    "tags": []
   },
   "source": [
    "## Step 3: Make Predictions with Validation data\n"
   ]
  },
  {
   "cell_type": "code",
   "execution_count": 6,
   "id": "cd5cf9e7",
   "metadata": {
    "execution": {
     "iopub.execute_input": "2025-09-17T12:07:45.311907Z",
     "iopub.status.busy": "2025-09-17T12:07:45.311119Z",
     "iopub.status.idle": "2025-09-17T12:07:45.321906Z",
     "shell.execute_reply": "2025-09-17T12:07:45.321001Z"
    },
    "papermill": {
     "duration": 0.016957,
     "end_time": "2025-09-17T12:07:45.323294",
     "exception": false,
     "start_time": "2025-09-17T12:07:45.306337",
     "status": "completed"
    },
    "tags": []
   },
   "outputs": [
    {
     "data": {
      "application/javascript": [
       "parent.postMessage({\"jupyterEvent\": \"custom.exercise_interaction\", \"data\": {\"outcomeType\": 1, \"valueTowardsCompletion\": 0.25, \"interactionType\": 1, \"questionType\": 2, \"questionId\": \"3_ValPreds\", \"learnToolsVersion\": \"0.3.5\", \"failureMessage\": \"\", \"exceptionClass\": \"\", \"trace\": \"\"}}, \"*\")"
      ],
      "text/plain": [
       "<IPython.core.display.Javascript object>"
      ]
     },
     "metadata": {},
     "output_type": "display_data"
    },
    {
     "data": {
      "text/markdown": [
       "<span style=\"color:#33cc33\">Correct</span>"
      ],
      "text/plain": [
       "Correct"
      ]
     },
     "metadata": {},
     "output_type": "display_data"
    }
   ],
   "source": [
    "# Predict with all validation observations\n",
    "val_predictions = iowa_model.predict(val_X)\n",
    "\n",
    "# Check your answer\n",
    "step_3.check()"
   ]
  },
  {
   "cell_type": "code",
   "execution_count": 7,
   "id": "7416a44c",
   "metadata": {
    "execution": {
     "iopub.execute_input": "2025-09-17T12:07:45.333008Z",
     "iopub.status.busy": "2025-09-17T12:07:45.332625Z",
     "iopub.status.idle": "2025-09-17T12:07:45.336936Z",
     "shell.execute_reply": "2025-09-17T12:07:45.335942Z"
    },
    "papermill": {
     "duration": 0.010804,
     "end_time": "2025-09-17T12:07:45.338510",
     "exception": false,
     "start_time": "2025-09-17T12:07:45.327706",
     "status": "completed"
    },
    "tags": []
   },
   "outputs": [],
   "source": [
    "#step_3.hint()\n",
    "#step_3.solution()"
   ]
  },
  {
   "cell_type": "markdown",
   "id": "cd629e04",
   "metadata": {
    "papermill": {
     "duration": 0.003743,
     "end_time": "2025-09-17T12:07:45.346517",
     "exception": false,
     "start_time": "2025-09-17T12:07:45.342774",
     "status": "completed"
    },
    "tags": []
   },
   "source": [
    "Inspect your predictions and actual values from validation data."
   ]
  },
  {
   "cell_type": "code",
   "execution_count": 8,
   "id": "20a79117",
   "metadata": {
    "execution": {
     "iopub.execute_input": "2025-09-17T12:07:45.355666Z",
     "iopub.status.busy": "2025-09-17T12:07:45.355355Z",
     "iopub.status.idle": "2025-09-17T12:07:45.370774Z",
     "shell.execute_reply": "2025-09-17T12:07:45.369417Z"
    },
    "papermill": {
     "duration": 0.022021,
     "end_time": "2025-09-17T12:07:45.372503",
     "exception": false,
     "start_time": "2025-09-17T12:07:45.350482",
     "status": "completed"
    },
    "tags": []
   },
   "outputs": [
    {
     "name": "stdout",
     "output_type": "stream",
     "text": [
      "[208500. 181500. 223500. 128000. 250000.]\n",
      "   LotArea  YearBuilt  1stFlrSF  2ndFlrSF  FullBath  BedroomAbvGr  \\\n",
      "0     8450       2003       856       854         2             3   \n",
      "1     9600       1976      1262         0         2             3   \n",
      "2    11250       2001       920       866         2             3   \n",
      "3     9550       1915       961       756         1             3   \n",
      "4    14260       2000      1145      1053         2             4   \n",
      "\n",
      "   TotRmsAbvGrd  \n",
      "0             8  \n",
      "1             6  \n",
      "2             6  \n",
      "3             7  \n",
      "4             9  \n"
     ]
    }
   ],
   "source": [
    "# print the top few validation predictions\n",
    "print(iowa_model.predict(X.head()))\n",
    "# print the top few actual prices from validation data\n",
    "print(X.head())"
   ]
  },
  {
   "cell_type": "markdown",
   "id": "edd2c4f2",
   "metadata": {
    "papermill": {
     "duration": 0.003966,
     "end_time": "2025-09-17T12:07:45.380864",
     "exception": false,
     "start_time": "2025-09-17T12:07:45.376898",
     "status": "completed"
    },
    "tags": []
   },
   "source": [
    "What do you notice that is different from what you saw with in-sample predictions (which are printed after the top code cell in this page).\n",
    "\n",
    "Do you remember why validation predictions differ from in-sample (or training) predictions? This is an important idea from the last lesson.\n",
    "\n",
    "## Step 4: Calculate the Mean Absolute Error in Validation Data\n"
   ]
  },
  {
   "cell_type": "code",
   "execution_count": 9,
   "id": "51642c71",
   "metadata": {
    "execution": {
     "iopub.execute_input": "2025-09-17T12:07:45.390432Z",
     "iopub.status.busy": "2025-09-17T12:07:45.390057Z",
     "iopub.status.idle": "2025-09-17T12:07:45.401911Z",
     "shell.execute_reply": "2025-09-17T12:07:45.400593Z"
    },
    "papermill": {
     "duration": 0.018673,
     "end_time": "2025-09-17T12:07:45.403566",
     "exception": false,
     "start_time": "2025-09-17T12:07:45.384893",
     "status": "completed"
    },
    "tags": []
   },
   "outputs": [
    {
     "name": "stdout",
     "output_type": "stream",
     "text": [
      "29652.931506849316\n"
     ]
    },
    {
     "data": {
      "application/javascript": [
       "parent.postMessage({\"jupyterEvent\": \"custom.exercise_interaction\", \"data\": {\"outcomeType\": 1, \"valueTowardsCompletion\": 0.25, \"interactionType\": 1, \"questionType\": 1, \"questionId\": \"4_MAE\", \"learnToolsVersion\": \"0.3.5\", \"failureMessage\": \"\", \"exceptionClass\": \"\", \"trace\": \"\"}}, \"*\")"
      ],
      "text/plain": [
       "<IPython.core.display.Javascript object>"
      ]
     },
     "metadata": {},
     "output_type": "display_data"
    },
    {
     "data": {
      "text/markdown": [
       "<span style=\"color:#33cc33\">Correct</span>"
      ],
      "text/plain": [
       "Correct"
      ]
     },
     "metadata": {},
     "output_type": "display_data"
    }
   ],
   "source": [
    "from sklearn.metrics import mean_absolute_error\n",
    "val_mae = (mean_absolute_error(val_y, val_predictions))\n",
    "\n",
    "\n",
    "# uncomment following line to see the validation_mae\n",
    "print(val_mae)\n",
    "\n",
    "# Check your answer\n",
    "step_4.check()"
   ]
  },
  {
   "cell_type": "code",
   "execution_count": 10,
   "id": "14146f83",
   "metadata": {
    "execution": {
     "iopub.execute_input": "2025-09-17T12:07:45.413491Z",
     "iopub.status.busy": "2025-09-17T12:07:45.413181Z",
     "iopub.status.idle": "2025-09-17T12:07:45.417565Z",
     "shell.execute_reply": "2025-09-17T12:07:45.416786Z"
    },
    "papermill": {
     "duration": 0.01127,
     "end_time": "2025-09-17T12:07:45.419244",
     "exception": false,
     "start_time": "2025-09-17T12:07:45.407974",
     "status": "completed"
    },
    "tags": []
   },
   "outputs": [],
   "source": [
    "#step_4.hint()\n",
    "#step_4.solution()"
   ]
  },
  {
   "cell_type": "markdown",
   "id": "77404c88",
   "metadata": {
    "papermill": {
     "duration": 0.004188,
     "end_time": "2025-09-17T12:07:45.428130",
     "exception": false,
     "start_time": "2025-09-17T12:07:45.423942",
     "status": "completed"
    },
    "tags": []
   },
   "source": [
    "Is that MAE good?  There isn't a general rule for what values are good that applies across applications. But you'll see how to use (and improve) this number in the next step.\n",
    "\n",
    "# Keep Going\n",
    "\n",
    "You are ready for **[Underfitting and Overfitting](https://www.kaggle.com/dansbecker/underfitting-and-overfitting).**\n"
   ]
  },
  {
   "cell_type": "markdown",
   "id": "37dbb873",
   "metadata": {
    "papermill": {
     "duration": 0.004011,
     "end_time": "2025-09-17T12:07:45.436513",
     "exception": false,
     "start_time": "2025-09-17T12:07:45.432502",
     "status": "completed"
    },
    "tags": []
   },
   "source": [
    "---\n",
    "\n",
    "\n",
    "\n",
    "\n",
    "*Have questions or comments? Visit the [course discussion forum](https://www.kaggle.com/learn/intro-to-machine-learning/discussion) to chat with other learners.*"
   ]
  }
 ],
 "metadata": {
  "kaggle": {
   "accelerator": "none",
   "dataSources": [
    {
     "databundleVersionId": 111096,
     "sourceId": 10211,
     "sourceType": "competition"
    },
    {
     "datasetId": 11167,
     "sourceId": 15520,
     "sourceType": "datasetVersion"
    },
    {
     "datasetId": 2709,
     "sourceId": 38454,
     "sourceType": "datasetVersion"
    }
   ],
   "isGpuEnabled": false,
   "isInternetEnabled": false,
   "language": "python",
   "sourceType": "notebook"
  },
  "kernelspec": {
   "display_name": "Python 3",
   "language": "python",
   "name": "python3"
  },
  "language_info": {
   "codemirror_mode": {
    "name": "ipython",
    "version": 3
   },
   "file_extension": ".py",
   "mimetype": "text/x-python",
   "name": "python",
   "nbconvert_exporter": "python",
   "pygments_lexer": "ipython3",
   "version": "3.11.13"
  },
  "papermill": {
   "default_parameters": {},
   "duration": 11.430126,
   "end_time": "2025-09-17T12:07:46.162087",
   "environment_variables": {},
   "exception": null,
   "input_path": "__notebook__.ipynb",
   "output_path": "__notebook__.ipynb",
   "parameters": {},
   "start_time": "2025-09-17T12:07:34.731961",
   "version": "2.6.0"
  }
 },
 "nbformat": 4,
 "nbformat_minor": 5
}
