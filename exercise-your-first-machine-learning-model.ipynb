{
 "cells": [
  {
   "cell_type": "markdown",
   "id": "cd67a601",
   "metadata": {
    "papermill": {
     "duration": 0.006328,
     "end_time": "2025-09-17T10:00:29.831337",
     "exception": false,
     "start_time": "2025-09-17T10:00:29.825009",
     "status": "completed"
    },
    "tags": []
   },
   "source": [
    "**This notebook is an exercise in the [Introduction to Machine Learning](https://www.kaggle.com/learn/intro-to-machine-learning) course.  You can reference the tutorial at [this link](https://www.kaggle.com/dansbecker/your-first-machine-learning-model).**\n",
    "\n",
    "---\n"
   ]
  },
  {
   "cell_type": "markdown",
   "id": "1f1f3d22",
   "metadata": {
    "papermill": {
     "duration": 0.00396,
     "end_time": "2025-09-17T10:00:29.839646",
     "exception": false,
     "start_time": "2025-09-17T10:00:29.835686",
     "status": "completed"
    },
    "tags": []
   },
   "source": [
    "## Recap\n",
    "So far, you have loaded your data and reviewed it with the following code. Run this cell to set up your coding environment where the previous step left off."
   ]
  },
  {
   "cell_type": "code",
   "execution_count": 1,
   "id": "0c4560d6",
   "metadata": {
    "execution": {
     "iopub.execute_input": "2025-09-17T10:00:29.850699Z",
     "iopub.status.busy": "2025-09-17T10:00:29.850401Z",
     "iopub.status.idle": "2025-09-17T10:00:33.272316Z",
     "shell.execute_reply": "2025-09-17T10:00:33.271340Z"
    },
    "papermill": {
     "duration": 3.428725,
     "end_time": "2025-09-17T10:00:33.273833",
     "exception": false,
     "start_time": "2025-09-17T10:00:29.845108",
     "status": "completed"
    },
    "tags": []
   },
   "outputs": [
    {
     "name": "stdout",
     "output_type": "stream",
     "text": [
      "Setup Complete\n"
     ]
    }
   ],
   "source": [
    "# Code you have previously used to load data\n",
    "import pandas as pd\n",
    "\n",
    "# Path of the file to read\n",
    "iowa_file_path = '../input/home-data-for-ml-course/train.csv'\n",
    "\n",
    "home_data = pd.read_csv(iowa_file_path)\n",
    "\n",
    "# Set up code checking\n",
    "from learntools.core import binder\n",
    "binder.bind(globals())\n",
    "from learntools.machine_learning.ex3 import *\n",
    "\n",
    "print(\"Setup Complete\")"
   ]
  },
  {
   "cell_type": "markdown",
   "id": "40e4731e",
   "metadata": {
    "papermill": {
     "duration": 0.003244,
     "end_time": "2025-09-17T10:00:33.280796",
     "exception": false,
     "start_time": "2025-09-17T10:00:33.277552",
     "status": "completed"
    },
    "tags": []
   },
   "source": [
    "# Exercises\n",
    "\n",
    "## Step 1: Specify Prediction Target\n",
    "Select the target variable, which corresponds to the sales price. Save this to a new variable called `y`. You'll need to print a list of the columns to find the name of the column you need.\n"
   ]
  },
  {
   "cell_type": "code",
   "execution_count": 2,
   "id": "12421527",
   "metadata": {
    "execution": {
     "iopub.execute_input": "2025-09-17T10:00:33.288946Z",
     "iopub.status.busy": "2025-09-17T10:00:33.288258Z",
     "iopub.status.idle": "2025-09-17T10:00:33.311157Z",
     "shell.execute_reply": "2025-09-17T10:00:33.310197Z"
    },
    "papermill": {
     "duration": 0.028478,
     "end_time": "2025-09-17T10:00:33.312623",
     "exception": false,
     "start_time": "2025-09-17T10:00:33.284145",
     "status": "completed"
    },
    "tags": []
   },
   "outputs": [
    {
     "name": "stdout",
     "output_type": "stream",
     "text": [
      "        Id  MSSubClass MSZoning  LotFrontage  LotArea Street Alley LotShape  \\\n",
      "0        1          60       RL         65.0     8450   Pave   NaN      Reg   \n",
      "1        2          20       RL         80.0     9600   Pave   NaN      Reg   \n",
      "2        3          60       RL         68.0    11250   Pave   NaN      IR1   \n",
      "3        4          70       RL         60.0     9550   Pave   NaN      IR1   \n",
      "4        5          60       RL         84.0    14260   Pave   NaN      IR1   \n",
      "...    ...         ...      ...          ...      ...    ...   ...      ...   \n",
      "1455  1456          60       RL         62.0     7917   Pave   NaN      Reg   \n",
      "1456  1457          20       RL         85.0    13175   Pave   NaN      Reg   \n",
      "1457  1458          70       RL         66.0     9042   Pave   NaN      Reg   \n",
      "1458  1459          20       RL         68.0     9717   Pave   NaN      Reg   \n",
      "1459  1460          20       RL         75.0     9937   Pave   NaN      Reg   \n",
      "\n",
      "     LandContour Utilities  ... PoolArea PoolQC  Fence MiscFeature MiscVal  \\\n",
      "0            Lvl    AllPub  ...        0    NaN    NaN         NaN       0   \n",
      "1            Lvl    AllPub  ...        0    NaN    NaN         NaN       0   \n",
      "2            Lvl    AllPub  ...        0    NaN    NaN         NaN       0   \n",
      "3            Lvl    AllPub  ...        0    NaN    NaN         NaN       0   \n",
      "4            Lvl    AllPub  ...        0    NaN    NaN         NaN       0   \n",
      "...          ...       ...  ...      ...    ...    ...         ...     ...   \n",
      "1455         Lvl    AllPub  ...        0    NaN    NaN         NaN       0   \n",
      "1456         Lvl    AllPub  ...        0    NaN  MnPrv         NaN       0   \n",
      "1457         Lvl    AllPub  ...        0    NaN  GdPrv        Shed    2500   \n",
      "1458         Lvl    AllPub  ...        0    NaN    NaN         NaN       0   \n",
      "1459         Lvl    AllPub  ...        0    NaN    NaN         NaN       0   \n",
      "\n",
      "     MoSold YrSold  SaleType  SaleCondition  SalePrice  \n",
      "0         2   2008        WD         Normal     208500  \n",
      "1         5   2007        WD         Normal     181500  \n",
      "2         9   2008        WD         Normal     223500  \n",
      "3         2   2006        WD        Abnorml     140000  \n",
      "4        12   2008        WD         Normal     250000  \n",
      "...     ...    ...       ...            ...        ...  \n",
      "1455      8   2007        WD         Normal     175000  \n",
      "1456      2   2010        WD         Normal     210000  \n",
      "1457      5   2010        WD         Normal     266500  \n",
      "1458      4   2010        WD         Normal     142125  \n",
      "1459      6   2008        WD         Normal     147500  \n",
      "\n",
      "[1460 rows x 81 columns]\n"
     ]
    }
   ],
   "source": [
    "# print the list of columns in the dataset to find the name of the prediction target\n",
    "print(home_data)"
   ]
  },
  {
   "cell_type": "code",
   "execution_count": 3,
   "id": "d47f3f5c",
   "metadata": {
    "execution": {
     "iopub.execute_input": "2025-09-17T10:00:33.321103Z",
     "iopub.status.busy": "2025-09-17T10:00:33.320460Z",
     "iopub.status.idle": "2025-09-17T10:00:33.328314Z",
     "shell.execute_reply": "2025-09-17T10:00:33.327627Z"
    },
    "papermill": {
     "duration": 0.013448,
     "end_time": "2025-09-17T10:00:33.329827",
     "exception": false,
     "start_time": "2025-09-17T10:00:33.316379",
     "status": "completed"
    },
    "tags": []
   },
   "outputs": [
    {
     "data": {
      "application/javascript": [
       "parent.postMessage({\"jupyterEvent\": \"custom.exercise_interaction\", \"data\": {\"outcomeType\": 1, \"valueTowardsCompletion\": 0.25, \"interactionType\": 1, \"questionType\": 2, \"questionId\": \"1_SetTarget\", \"learnToolsVersion\": \"0.3.5\", \"failureMessage\": \"\", \"exceptionClass\": \"\", \"trace\": \"\"}}, \"*\")"
      ],
      "text/plain": [
       "<IPython.core.display.Javascript object>"
      ]
     },
     "metadata": {},
     "output_type": "display_data"
    },
    {
     "data": {
      "text/markdown": [
       "<span style=\"color:#33cc33\">Correct</span>"
      ],
      "text/plain": [
       "Correct"
      ]
     },
     "metadata": {},
     "output_type": "display_data"
    }
   ],
   "source": [
    "y = home_data.SalePrice\n",
    "\n",
    "# Check your answer\n",
    "step_1.check()"
   ]
  },
  {
   "cell_type": "code",
   "execution_count": 4,
   "id": "e47e6a6d",
   "metadata": {
    "execution": {
     "iopub.execute_input": "2025-09-17T10:00:33.338475Z",
     "iopub.status.busy": "2025-09-17T10:00:33.338163Z",
     "iopub.status.idle": "2025-09-17T10:00:33.342161Z",
     "shell.execute_reply": "2025-09-17T10:00:33.341093Z"
    },
    "papermill": {
     "duration": 0.009805,
     "end_time": "2025-09-17T10:00:33.343470",
     "exception": false,
     "start_time": "2025-09-17T10:00:33.333665",
     "status": "completed"
    },
    "tags": []
   },
   "outputs": [],
   "source": [
    "#The lines below will show you a hint or the solution.\n",
    "#step_1.hint() \n",
    "#step_1.solution()"
   ]
  },
  {
   "cell_type": "markdown",
   "id": "7e1a4b35",
   "metadata": {
    "papermill": {
     "duration": 0.003475,
     "end_time": "2025-09-17T10:00:33.350756",
     "exception": false,
     "start_time": "2025-09-17T10:00:33.347281",
     "status": "completed"
    },
    "tags": []
   },
   "source": [
    "## Step 2: Create X\n",
    "Now you will create a DataFrame called `X` holding the predictive features.\n",
    "\n",
    "Since you want only some columns from the original data, you'll first create a list with the names of the columns you want in `X`.\n",
    "\n",
    "You'll use just the following columns in the list (you can copy and paste the whole list to save some typing, though you'll still need to add quotes):\n",
    "  * LotArea\n",
    "  * YearBuilt\n",
    "  * 1stFlrSF\n",
    "  * 2ndFlrSF\n",
    "  * FullBath\n",
    "  * BedroomAbvGr\n",
    "  * TotRmsAbvGrd\n",
    "\n",
    "After you've created that list of features, use it to create the DataFrame that you'll use to fit the model."
   ]
  },
  {
   "cell_type": "code",
   "execution_count": 5,
   "id": "51bcd877",
   "metadata": {
    "execution": {
     "iopub.execute_input": "2025-09-17T10:00:33.360295Z",
     "iopub.status.busy": "2025-09-17T10:00:33.359605Z",
     "iopub.status.idle": "2025-09-17T10:00:33.368302Z",
     "shell.execute_reply": "2025-09-17T10:00:33.367620Z"
    },
    "papermill": {
     "duration": 0.014357,
     "end_time": "2025-09-17T10:00:33.369640",
     "exception": false,
     "start_time": "2025-09-17T10:00:33.355283",
     "status": "completed"
    },
    "tags": []
   },
   "outputs": [
    {
     "data": {
      "application/javascript": [
       "parent.postMessage({\"jupyterEvent\": \"custom.exercise_interaction\", \"data\": {\"outcomeType\": 1, \"valueTowardsCompletion\": 0.25, \"interactionType\": 1, \"questionType\": 2, \"questionId\": \"2_SelectPredictionData\", \"learnToolsVersion\": \"0.3.5\", \"failureMessage\": \"\", \"exceptionClass\": \"\", \"trace\": \"\"}}, \"*\")"
      ],
      "text/plain": [
       "<IPython.core.display.Javascript object>"
      ]
     },
     "metadata": {},
     "output_type": "display_data"
    },
    {
     "data": {
      "text/markdown": [
       "<span style=\"color:#33cc33\">Correct</span>"
      ],
      "text/plain": [
       "Correct"
      ]
     },
     "metadata": {},
     "output_type": "display_data"
    }
   ],
   "source": [
    "# Create the list of features below\n",
    "feature_names = [\"LotArea\", \"YearBuilt\", \"1stFlrSF\", \"2ndFlrSF\",\n",
    "                      \"FullBath\", \"BedroomAbvGr\", \"TotRmsAbvGrd\"]\n",
    "\n",
    "# Select data corresponding to features in feature_names\n",
    "X = home_data[feature_names]\n",
    "\n",
    "# Check your answer\n",
    "step_2.check()"
   ]
  },
  {
   "cell_type": "code",
   "execution_count": 6,
   "id": "1e1d0ec0",
   "metadata": {
    "execution": {
     "iopub.execute_input": "2025-09-17T10:00:33.378463Z",
     "iopub.status.busy": "2025-09-17T10:00:33.378148Z",
     "iopub.status.idle": "2025-09-17T10:00:33.381630Z",
     "shell.execute_reply": "2025-09-17T10:00:33.380857Z"
    },
    "papermill": {
     "duration": 0.009308,
     "end_time": "2025-09-17T10:00:33.382886",
     "exception": false,
     "start_time": "2025-09-17T10:00:33.373578",
     "status": "completed"
    },
    "tags": []
   },
   "outputs": [],
   "source": [
    "#step_2.hint()\n",
    "#step_2.solution()"
   ]
  },
  {
   "cell_type": "markdown",
   "id": "8238fc18",
   "metadata": {
    "papermill": {
     "duration": 0.003556,
     "end_time": "2025-09-17T10:00:33.390289",
     "exception": false,
     "start_time": "2025-09-17T10:00:33.386733",
     "status": "completed"
    },
    "tags": []
   },
   "source": [
    "## Review Data\n",
    "Before building a model, take a quick look at **X** to verify it looks sensible"
   ]
  },
  {
   "cell_type": "code",
   "execution_count": 7,
   "id": "1ef4a4b4",
   "metadata": {
    "execution": {
     "iopub.execute_input": "2025-09-17T10:00:33.399195Z",
     "iopub.status.busy": "2025-09-17T10:00:33.398465Z",
     "iopub.status.idle": "2025-09-17T10:00:33.407298Z",
     "shell.execute_reply": "2025-09-17T10:00:33.406295Z"
    },
    "papermill": {
     "duration": 0.014731,
     "end_time": "2025-09-17T10:00:33.408690",
     "exception": false,
     "start_time": "2025-09-17T10:00:33.393959",
     "status": "completed"
    },
    "tags": []
   },
   "outputs": [
    {
     "name": "stdout",
     "output_type": "stream",
     "text": [
      "      LotArea  YearBuilt  1stFlrSF  2ndFlrSF  FullBath  BedroomAbvGr  \\\n",
      "0        8450       2003       856       854         2             3   \n",
      "1        9600       1976      1262         0         2             3   \n",
      "2       11250       2001       920       866         2             3   \n",
      "3        9550       1915       961       756         1             3   \n",
      "4       14260       2000      1145      1053         2             4   \n",
      "...       ...        ...       ...       ...       ...           ...   \n",
      "1455     7917       1999       953       694         2             3   \n",
      "1456    13175       1978      2073         0         2             3   \n",
      "1457     9042       1941      1188      1152         2             4   \n",
      "1458     9717       1950      1078         0         1             2   \n",
      "1459     9937       1965      1256         0         1             3   \n",
      "\n",
      "      TotRmsAbvGrd  \n",
      "0                8  \n",
      "1                6  \n",
      "2                6  \n",
      "3                7  \n",
      "4                9  \n",
      "...            ...  \n",
      "1455             7  \n",
      "1456             7  \n",
      "1457             9  \n",
      "1458             5  \n",
      "1459             6  \n",
      "\n",
      "[1460 rows x 7 columns]\n",
      "   LotArea  YearBuilt  1stFlrSF  2ndFlrSF  FullBath  BedroomAbvGr  \\\n",
      "0     8450       2003       856       854         2             3   \n",
      "1     9600       1976      1262         0         2             3   \n",
      "2    11250       2001       920       866         2             3   \n",
      "3     9550       1915       961       756         1             3   \n",
      "4    14260       2000      1145      1053         2             4   \n",
      "\n",
      "   TotRmsAbvGrd  \n",
      "0             8  \n",
      "1             6  \n",
      "2             6  \n",
      "3             7  \n",
      "4             9  \n"
     ]
    }
   ],
   "source": [
    "#Review data\n",
    "#print description or statistics from X\n",
    "print(X)\n",
    "\n",
    "#print the top few lines\n",
    "print(X.head())"
   ]
  },
  {
   "cell_type": "markdown",
   "id": "9e131f33",
   "metadata": {
    "papermill": {
     "duration": 0.003597,
     "end_time": "2025-09-17T10:00:33.416302",
     "exception": false,
     "start_time": "2025-09-17T10:00:33.412705",
     "status": "completed"
    },
    "tags": []
   },
   "source": [
    "## Step 3: Specify and Fit Model\n",
    "Create a `DecisionTreeRegressor` and save it iowa_model. Ensure you've done the relevant import from sklearn to run this command.\n",
    "\n",
    "Then fit the model you just created using the data in `X` and `y` that you saved above."
   ]
  },
  {
   "cell_type": "code",
   "execution_count": 8,
   "id": "a89506b4",
   "metadata": {
    "execution": {
     "iopub.execute_input": "2025-09-17T10:00:33.425546Z",
     "iopub.status.busy": "2025-09-17T10:00:33.424777Z",
     "iopub.status.idle": "2025-09-17T10:00:33.440709Z",
     "shell.execute_reply": "2025-09-17T10:00:33.440051Z"
    },
    "papermill": {
     "duration": 0.021992,
     "end_time": "2025-09-17T10:00:33.442003",
     "exception": false,
     "start_time": "2025-09-17T10:00:33.420011",
     "status": "completed"
    },
    "tags": []
   },
   "outputs": [
    {
     "data": {
      "application/javascript": [
       "parent.postMessage({\"jupyterEvent\": \"custom.exercise_interaction\", \"data\": {\"outcomeType\": 1, \"valueTowardsCompletion\": 0.25, \"interactionType\": 1, \"questionType\": 2, \"questionId\": \"3_CreateModel\", \"learnToolsVersion\": \"0.3.5\", \"failureMessage\": \"\", \"exceptionClass\": \"\", \"trace\": \"\"}}, \"*\")"
      ],
      "text/plain": [
       "<IPython.core.display.Javascript object>"
      ]
     },
     "metadata": {},
     "output_type": "display_data"
    },
    {
     "data": {
      "text/markdown": [
       "<span style=\"color:#33cc33\">Correct</span>"
      ],
      "text/plain": [
       "Correct"
      ]
     },
     "metadata": {},
     "output_type": "display_data"
    }
   ],
   "source": [
    "from sklearn.tree import DecisionTreeRegressor\n",
    "#specify the model. \n",
    "#For model reproducibility, set a numeric value for random_state when specifying the model\n",
    "iowa_model = DecisionTreeRegressor(random_state=1)\n",
    "\n",
    "# Fit the model\n",
    "iowa_model.fit(X,y)\n",
    "\n",
    "# Check your answer\n",
    "step_3.check()"
   ]
  },
  {
   "cell_type": "code",
   "execution_count": 9,
   "id": "e52e9cbb",
   "metadata": {
    "collapsed": true,
    "execution": {
     "iopub.execute_input": "2025-09-17T10:00:33.451428Z",
     "iopub.status.busy": "2025-09-17T10:00:33.451128Z",
     "iopub.status.idle": "2025-09-17T10:00:33.454559Z",
     "shell.execute_reply": "2025-09-17T10:00:33.453761Z"
    },
    "jupyter": {
     "outputs_hidden": true
    },
    "papermill": {
     "duration": 0.009422,
     "end_time": "2025-09-17T10:00:33.455845",
     "exception": false,
     "start_time": "2025-09-17T10:00:33.446423",
     "status": "completed"
    },
    "tags": []
   },
   "outputs": [],
   "source": [
    "# step_3.hint()\n",
    "# step_3.solution()"
   ]
  },
  {
   "cell_type": "markdown",
   "id": "d70e0649",
   "metadata": {
    "papermill": {
     "duration": 0.003863,
     "end_time": "2025-09-17T10:00:33.463987",
     "exception": false,
     "start_time": "2025-09-17T10:00:33.460124",
     "status": "completed"
    },
    "tags": []
   },
   "source": [
    "## Step 4: Make Predictions\n",
    "Make predictions with the model's `predict` command using `X` as the data. Save the results to a variable called `predictions`."
   ]
  },
  {
   "cell_type": "code",
   "execution_count": 10,
   "id": "0db7ddd5",
   "metadata": {
    "execution": {
     "iopub.execute_input": "2025-09-17T10:00:33.473957Z",
     "iopub.status.busy": "2025-09-17T10:00:33.473212Z",
     "iopub.status.idle": "2025-09-17T10:00:33.483273Z",
     "shell.execute_reply": "2025-09-17T10:00:33.482533Z"
    },
    "papermill": {
     "duration": 0.016494,
     "end_time": "2025-09-17T10:00:33.484535",
     "exception": false,
     "start_time": "2025-09-17T10:00:33.468041",
     "status": "completed"
    },
    "tags": []
   },
   "outputs": [
    {
     "name": "stdout",
     "output_type": "stream",
     "text": [
      "[208500. 181500. 223500. ... 266500. 142125. 147500.]\n"
     ]
    },
    {
     "data": {
      "application/javascript": [
       "parent.postMessage({\"jupyterEvent\": \"custom.exercise_interaction\", \"data\": {\"outcomeType\": 1, \"valueTowardsCompletion\": 0.25, \"interactionType\": 1, \"questionType\": 2, \"questionId\": \"4_MakePredictions\", \"learnToolsVersion\": \"0.3.5\", \"failureMessage\": \"\", \"exceptionClass\": \"\", \"trace\": \"\"}}, \"*\")"
      ],
      "text/plain": [
       "<IPython.core.display.Javascript object>"
      ]
     },
     "metadata": {},
     "output_type": "display_data"
    },
    {
     "data": {
      "text/markdown": [
       "<span style=\"color:#33cc33\">Correct</span>"
      ],
      "text/plain": [
       "Correct"
      ]
     },
     "metadata": {},
     "output_type": "display_data"
    }
   ],
   "source": [
    "predictions = iowa_model.predict(X)\n",
    "print(predictions)\n",
    "\n",
    "# Check your answer\n",
    "step_4.check()"
   ]
  },
  {
   "cell_type": "code",
   "execution_count": 11,
   "id": "2af7df0f",
   "metadata": {
    "collapsed": true,
    "execution": {
     "iopub.execute_input": "2025-09-17T10:00:33.494489Z",
     "iopub.status.busy": "2025-09-17T10:00:33.493897Z",
     "iopub.status.idle": "2025-09-17T10:00:33.497279Z",
     "shell.execute_reply": "2025-09-17T10:00:33.496516Z"
    },
    "jupyter": {
     "outputs_hidden": true
    },
    "papermill": {
     "duration": 0.009667,
     "end_time": "2025-09-17T10:00:33.498608",
     "exception": false,
     "start_time": "2025-09-17T10:00:33.488941",
     "status": "completed"
    },
    "tags": []
   },
   "outputs": [],
   "source": [
    "# step_4.hint()\n",
    "# step_4.solution()"
   ]
  },
  {
   "cell_type": "markdown",
   "id": "b1cce51f",
   "metadata": {
    "papermill": {
     "duration": 0.004222,
     "end_time": "2025-09-17T10:00:33.507133",
     "exception": false,
     "start_time": "2025-09-17T10:00:33.502911",
     "status": "completed"
    },
    "tags": []
   },
   "source": [
    "## Think About Your Results\n",
    "\n",
    "Use the `head` method to compare the top few predictions to the actual home values (in `y`) for those same homes. Anything surprising?\n"
   ]
  },
  {
   "cell_type": "code",
   "execution_count": 12,
   "id": "ebf6fcc1",
   "metadata": {
    "execution": {
     "iopub.execute_input": "2025-09-17T10:00:33.516743Z",
     "iopub.status.busy": "2025-09-17T10:00:33.516477Z",
     "iopub.status.idle": "2025-09-17T10:00:33.522618Z",
     "shell.execute_reply": "2025-09-17T10:00:33.521893Z"
    },
    "papermill": {
     "duration": 0.01239,
     "end_time": "2025-09-17T10:00:33.523809",
     "exception": false,
     "start_time": "2025-09-17T10:00:33.511419",
     "status": "completed"
    },
    "tags": []
   },
   "outputs": [
    {
     "name": "stdout",
     "output_type": "stream",
     "text": [
      "[208500. 181500. 223500. 140000. 250000.]\n"
     ]
    }
   ],
   "source": [
    "# You can write code in this cell\n",
    "predictions = iowa_model.predict(X.head())\n",
    "print(predictions)"
   ]
  },
  {
   "cell_type": "markdown",
   "id": "ab5b0130",
   "metadata": {
    "papermill": {
     "duration": 0.004125,
     "end_time": "2025-09-17T10:00:33.532418",
     "exception": false,
     "start_time": "2025-09-17T10:00:33.528293",
     "status": "completed"
    },
    "tags": []
   },
   "source": [
    "It's natural to ask how accurate the model's predictions will be and how you can improve that. That will be you're next step.\n",
    "\n",
    "# Keep Going\n",
    "\n",
    "You are ready for **[Model Validation](https://www.kaggle.com/dansbecker/model-validation).**\n"
   ]
  },
  {
   "cell_type": "markdown",
   "id": "abc63545",
   "metadata": {
    "papermill": {
     "duration": 0.004038,
     "end_time": "2025-09-17T10:00:33.540867",
     "exception": false,
     "start_time": "2025-09-17T10:00:33.536829",
     "status": "completed"
    },
    "tags": []
   },
   "source": [
    "---\n",
    "\n",
    "\n",
    "\n",
    "\n",
    "*Have questions or comments? Visit the [course discussion forum](https://www.kaggle.com/learn/intro-to-machine-learning/discussion) to chat with other learners.*"
   ]
  }
 ],
 "metadata": {
  "kaggle": {
   "accelerator": "none",
   "dataSources": [
    {
     "databundleVersionId": 111096,
     "sourceId": 10211,
     "sourceType": "competition"
    },
    {
     "datasetId": 11167,
     "sourceId": 15520,
     "sourceType": "datasetVersion"
    },
    {
     "datasetId": 2709,
     "sourceId": 38454,
     "sourceType": "datasetVersion"
    }
   ],
   "isGpuEnabled": false,
   "isInternetEnabled": false,
   "language": "python",
   "sourceType": "notebook"
  },
  "kernelspec": {
   "display_name": "Python 3",
   "language": "python",
   "name": "python3"
  },
  "language_info": {
   "codemirror_mode": {
    "name": "ipython",
    "version": 3
   },
   "file_extension": ".py",
   "mimetype": "text/x-python",
   "name": "python",
   "nbconvert_exporter": "python",
   "pygments_lexer": "ipython3",
   "version": "3.11.13"
  },
  "papermill": {
   "default_parameters": {},
   "duration": 9.175736,
   "end_time": "2025-09-17T10:00:34.163642",
   "environment_variables": {},
   "exception": null,
   "input_path": "__notebook__.ipynb",
   "output_path": "__notebook__.ipynb",
   "parameters": {},
   "start_time": "2025-09-17T10:00:24.987906",
   "version": "2.6.0"
  }
 },
 "nbformat": 4,
 "nbformat_minor": 5
}
